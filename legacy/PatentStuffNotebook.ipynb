{
  "nbformat": 4,
  "nbformat_minor": 0,
  "metadata": {
    "colab": {
      "name": "PatentStuffNotebook.ipynb",
      "provenance": [],
      "collapsed_sections": []
    },
    "kernelspec": {
      "name": "python3",
      "display_name": "Python 3"
    },
    "accelerator": "GPU"
  },
  "cells": [
    {
      "cell_type": "code",
      "metadata": {
        "id": "4L8TJHgad_7M",
        "colab_type": "code",
        "colab": {
          "base_uri": "https://localhost:8080/",
          "height": 34
        },
        "outputId": "ee182713-b61f-46da-bd7d-22f965e8fc43"
      },
      "source": [
        "from google.colab import drive\n",
        "drive.mount('/content/drive')"
      ],
      "execution_count": null,
      "outputs": [
        {
          "output_type": "stream",
          "text": [
            "Mounted at /content/drive\n"
          ],
          "name": "stdout"
        }
      ]
    },
    {
      "cell_type": "code",
      "metadata": {
        "id": "MJQHRv1rgdGY",
        "colab_type": "code",
        "colab": {
          "base_uri": "https://localhost:8080/",
          "height": 34
        },
        "outputId": "d91bc341-6253-42af-ac2f-8da7b4ac7286"
      },
      "source": [
        ""
      ],
      "execution_count": null,
      "outputs": [
        {
          "output_type": "stream",
          "text": [
            "class_descriptions.pickle\n"
          ],
          "name": "stdout"
        }
      ]
    },
    {
      "cell_type": "code",
      "metadata": {
        "id": "wK-l3s1hhQmd",
        "colab_type": "code",
        "colab": {}
      },
      "source": [
        ""
      ],
      "execution_count": null,
      "outputs": []
    },
    {
      "cell_type": "code",
      "metadata": {
        "id": "9QN5Z2_6eRq0",
        "colab_type": "code",
        "colab": {
          "base_uri": "https://localhost:8080/",
          "height": 159
        },
        "outputId": "f45d893f-2f8f-4a72-f522-a94895fef779"
      },
      "source": [
        "import numpy as np\n",
        "import gensim, logging\n",
        "import csv, string\n",
        "import nltk\n",
        "nltk.download('punkt')\n",
        "nltk.download('stopwords')\n",
        "from nltk.tokenize import word_tokenize\n",
        "from nltk.stem.porter import PorterStemmer\n",
        "import pandas as pd\n",
        "import tensorflow as tf\n",
        "import os\n",
        "import pickle\n",
        "\n",
        "num_words = 100\n",
        "num_words_description = 100\n",
        "directory_prefix = \"drive/My Drive/PatentStuff\"\n",
        "gpus = tf.config.experimental.list_physical_devices('GPU')\n",
        "if gpus:\n",
        "\ttry:\n",
        "\t\t# Currently, memory growth needs to be the same across GPUs\n",
        "\t\tfor gpu in gpus:\n",
        "\t\t\ttf.config.experimental.set_memory_growth(gpu, True)\n",
        "\t\t\tlogical_gpus = tf.config.experimental.list_logical_devices('GPU')\n",
        "\texcept RuntimeError as e:\n",
        "\t\t# Memory growth must be set before GPUs have been initialized\n",
        "\t\tprint(e)\n",
        "\n",
        "\n",
        "import random\n",
        "import gensim.downloader as api\n",
        "embedding_dim = 20\n",
        "from nltk.corpus import stopwords\n",
        "from gensim.parsing.preprocessing import remove_stopwords\n",
        "\n",
        "s=set(stopwords.words('english'))\n",
        "#wv = gensim.models.KeyedVectors.load(directory_prefix+\"/patents-small.wv\", mmap='r')\n",
        "wv = api.load(\"glove-wiki-gigaword-50\")\n",
        "\n",
        "porter = PorterStemmer()\n",
        "\n",
        "placeholder_vec = [0 for _ in range(embedding_dim)]\n",
        "\n",
        "def get_sentence_vector(sentence, num_words):\n",
        "\tret = []\n",
        "\tsentence = map(lambda w: porter.stem(w.lower()), sentence)\t\n",
        "\tfor word in sentence:\n",
        "\t\ttry:\n",
        "\t\t\tret.append(wv[word])\n",
        "\t\texcept:\n",
        "\t\t\tpass\n",
        "\twhile len(ret) < num_words:\n",
        "\t\tret.append(placeholder_vec)\n",
        "\treturn np.vstack(ret[:num_words])\n",
        "\n",
        "import tensorflow_hub as hub\n",
        "\n",
        "embed = hub.load(\"https://tfhub.dev/google/tf2-preview/gnews-swivel-20dim/1\")\n",
        "embeddings = embed([\"cat is on the mat\", \"dog is in the fog\"])\n",
        "\n",
        "def get_sentence_vector(sentence, num_words):\n",
        "\tret = embed(sentence)\n",
        "\tret = tf.pad(ret, tf.constant([[0, max(0, num_words-ret.shape[0]),], [0, 0]]), \"CONSTANT\")\n",
        "\tret = ret[:num_words]\n",
        "\treturn ret\n",
        " \n",
        "with open(directory_prefix+\"/class_descriptions_from_patents.pickle\", 'rb') as f:\n",
        "    label_dict = pickle.load(f)\n",
        "label_dict = {k[:3]: get_sentence_vector(word_tokenize(remove_stopwords(val.lower())), num_words_description) for k, val in label_dict.items()}\n",
        "\n",
        "label_dict_keys = set(label_dict.keys())\n"
      ],
      "execution_count": null,
      "outputs": [
        {
          "output_type": "stream",
          "text": [
            "[nltk_data] Downloading package punkt to /root/nltk_data...\n",
            "[nltk_data]   Unzipping tokenizers/punkt.zip.\n",
            "[nltk_data] Downloading package stopwords to /root/nltk_data...\n",
            "[nltk_data]   Unzipping corpora/stopwords.zip.\n",
            "[==================================================] 100.0% 66.0/66.0MB downloaded\n"
          ],
          "name": "stdout"
        },
        {
          "output_type": "stream",
          "text": [
            "/usr/local/lib/python3.6/dist-packages/smart_open/smart_open_lib.py:254: UserWarning: This function is deprecated, use smart_open.open instead. See the migration notes for details: https://github.com/RaRe-Technologies/smart_open/blob/master/README.rst#migrating-to-the-new-open-function\n",
            "  'See the migration notes for details: %s' % _MIGRATION_NOTES_URL\n"
          ],
          "name": "stderr"
        }
      ]
    },
    {
      "cell_type": "code",
      "metadata": {
        "id": "cM9igP7lCXup",
        "colab_type": "code",
        "colab": {
          "base_uri": "https://localhost:8080/",
          "height": 34
        },
        "outputId": "725c8ce6-adb6-4ad3-8016-a2ed6aa457aa"
      },
      "source": [
        "print(len(label_dict.keys()))"
      ],
      "execution_count": null,
      "outputs": [
        {
          "output_type": "stream",
          "text": [
            "131\n"
          ],
          "name": "stdout"
        }
      ]
    },
    {
      "cell_type": "code",
      "metadata": {
        "id": "zMkC0VFdhZNf",
        "colab_type": "code",
        "colab": {
          "base_uri": "https://localhost:8080/",
          "height": 34
        },
        "outputId": "05fe3ff7-7adf-411a-ebf9-e663c4443b10"
      },
      "source": [
        "def lstm_data_generator():\n",
        "\tcurrent_dataframe = pd.read_csv(directory_prefix+'/dataset.csv',sep=',', header = None).to_numpy()#, chunksize=100000)\n",
        "\tindices = np.random.choice(300000, 100000)\n",
        "\tfor row in current_dataframe[indices]:\n",
        "\t\tlabel, description=row[0], row[1]\n",
        "\t\tlstm_input_patent = get_sentence_vector(word_tokenize(description.lower()), num_words)\n",
        "\t\tlabel_vectors = [z.strip().strip('\\'\\\"')[:3] for z in label.split(',')]\n",
        "\t\tlabel_vectors = set([i for i in label_vectors if i in label_dict_keys])\n",
        "\t\tnon_true_vectors = [label_dict[i] for i in random.sample(label_dict_keys, min(len(label_vectors), len(label_dict.keys()))) if i not in label_vectors]\n",
        "\t\tfor l in (label_dict[i] for i in label_vectors):\n",
        "\t\t\tyield ({'input_1':lstm_input_patent, 'input_2':l}, {'output_binary':[1]})\n",
        "\t\tfor l in non_true_vectors:\n",
        "\t\t\tyield ({'input_1':lstm_input_patent, 'input_2':l}, {'output_binary':[0]})\n",
        "\n",
        "\n",
        "#attention layer from https://www.analyticsvidhya.com/blog/2019/11/comprehensive-guide-attention-mechanism-deep-learning/\n",
        "from keras.layers import Layer\n",
        "import keras.backend as K\n",
        "class attention(Layer):\n",
        "\tdef __init__(self, return_sequences=True):\n",
        "\t\tself.return_sequences = return_sequences\n",
        "\t\tsuper(attention,self).__init__()\n",
        "\t\t\n",
        "\tdef build(self, input_shape):\n",
        "\t\tself.W=self.add_weight(name=\"att_weight\", shape=(input_shape[-1],1),initializer=\"normal\")\n",
        "\t\tself.b=self.add_weight(name=\"att_bias\", shape=(input_shape[1],1),initializer=\"zeros\")\n",
        "\t\t\n",
        "\t\tsuper(attention,self).build(input_shape)\n",
        "\t\t\n",
        "\tdef call(self, x):\n",
        "\t\te = K.tanh(K.dot(x,self.W)+self.b)\n",
        "\t\ta = K.softmax(e, axis=1)\n",
        "\t\toutput = x*a\n",
        "\t\t\n",
        "\t\tif self.return_sequences:\n",
        "\t\t\treturn output\n",
        "\t\t\n",
        "\t\treturn K.sum(output, axis=1)\n",
        "\tdef compute_output_shape(self,input_shape):\n",
        "\t\treturn (input_shape[0],input_shape[-1])\n",
        "\n",
        "\tdef get_config(self):\n",
        "\t\treturn super(attention,self).get_config()\n",
        "\n",
        "lstm_dataset = tf.data.Dataset.from_generator(lstm_data_generator, ({'input_1':tf.float64, 'input_2':tf.float64}, {'output_binary':tf.float64}), ({'input_1':tf.TensorShape([num_words, embedding_dim]), 'input_2':tf.TensorShape([num_words_description, embedding_dim])}, {'output_binary':tf.TensorShape([1])}))\n",
        "lstm_dataset = lstm_dataset.batch(1, drop_remainder=True).prefetch(100).repeat()\n",
        "test = tf.data.Dataset.from_generator(lstm_data_generator_test,  ({'input_1':tf.float64, 'input_2':tf.float64}, {'output_binary':tf.float64}), ({'input_1':tf.TensorShape([num_words, embedding_dim]), 'input_2':tf.TensorShape([num_words_description, embedding_dim])}, {'output_binary':tf.TensorShape([1])}))\n",
        "test = test.batch(16, drop_remainder=True).repeat()\n",
        "\n",
        "\n",
        "input_lstm = tf.keras.Input(shape=(num_words, embedding_dim), name='input_1')\n",
        "input_label = tf.keras.Input(shape=(num_words_description, embedding_dim), name='input_2')\n",
        "\n",
        "#patent_mask = tf.keras.layers.Masking(mask_value=0., input_shape=(num_words, embedding_dim))(input_lstm)\n",
        "#label_mask = tf.keras.layers.Masking(mask_value=0., input_shape=(num_words_description, embedding_dim))(input_label)\n",
        "\n",
        "layer_size = 100\n",
        "#patent_lstm = tf.keras.layers.LSTM(num_words, input_shape=(num_words, embedding_dim), activation = 'tanh', recurrent_activation = 'sigmoid', recurrent_dropout = 0, unroll=False, use_bias=True\n",
        "#, return_sequences=True)(patent_mask)\n",
        "#label_lstm = tf.keras.layers.LSTM(num_words_description, input_shape=(num_words_description, embedding_dim), activation = 'tanh', recurrent_activation = 'sigmoid', recurrent_dropout = 0, unroll=False, use_bias=True\n",
        "#,return_sequences=True)(label_mask)\n",
        "\n",
        "#att_patent = attention(return_sequences=True)(patent_mask)\n",
        "#att_label = attention(return_sequences=True)(label_mask)\n",
        "\n",
        "pooling_patent = tf.keras.layers.GlobalAveragePooling1D()(input_lstm)\n",
        "pooling_label = tf.keras.layers.GlobalAveragePooling1D()(input_label)\n",
        "\n",
        "dense_patent = tf.keras.layers.Dense(layer_size, activation='relu')(pooling_patent)\n",
        "dense_label =  tf.keras.layers.Dense(layer_size, activation='relu')(pooling_label)\n",
        "dense_patent = tf.keras.layers.Dense(layer_size, activation='relu')(dense_patent)\n",
        "#dense_label =  tf.keras.layers.Dense(layer_size, activation='relu')(dense_label)\n",
        "#dense_patent = tf.keras.layers.Dense(layer_size, activation='relu')(dense_patent)\n",
        "dense_label =  tf.keras.layers.Dense(layer_size, activation='relu')(dense_label)\n",
        "dense_patent = tf.keras.layers.Dropout(.1)(dense_patent)\n",
        "dense_label=  tf.keras.layers.Dropout(.1)(dense_label)\n",
        "concat = tf.keras.layers.Concatenate(axis=1)([dense_patent, dense_label])\n",
        "dense = tf.keras.layers.Dense(int(layer_size*1.8), activation='relu')(concat)\n",
        "dense = tf.keras.layers.Dense(int(layer_size*1.8), activation='relu')(dense)\n",
        "dense = tf.keras.layers.Dense(int(layer_size*1.8), activation='relu')(dense)\n",
        "\n",
        "output_binary = tf.keras.layers.Dense(1, activation=\"sigmoid\", name='output_binary')(dense)\n",
        "\n",
        "\n",
        "#lstm_enforce_1 = tf.keras.layers.Dense(200, activation='relu')(patent_lstm)\n",
        "#lstm_enforce_2 = tf.keras.layers.Dense(1000, name='output_2')(lstm_enforce_1)\n",
        "#model = tf.keras.Model(inputs={'input_1':input_lstm, 'input_2':input_label}, outputs={'output_1':output_binary, 'output_2':lstm_enforce_2})\n",
        "model = tf.keras.Model(inputs={'input_1':input_lstm, 'input_2':input_label}, outputs=[output_binary])\n",
        "print(model)\n"
      ],
      "execution_count": null,
      "outputs": [
        {
          "output_type": "stream",
          "text": [
            "<tensorflow.python.keras.engine.functional.Functional object at 0x7fdb393c2080>\n"
          ],
          "name": "stdout"
        }
      ]
    },
    {
      "cell_type": "code",
      "metadata": {
        "id": "zf3uuOE9OYBh",
        "colab_type": "code",
        "colab": {
          "base_uri": "https://localhost:8080/",
          "height": 34
        },
        "outputId": "a89816d0-c202-46e5-fab5-03a8489353b7"
      },
      "source": [
        ""
      ],
      "execution_count": null,
      "outputs": [
        {
          "output_type": "stream",
          "text": [
            "9688\n"
          ],
          "name": "stdout"
        }
      ]
    },
    {
      "cell_type": "code",
      "metadata": {
        "id": "awvA_Z9-hdAC",
        "colab_type": "code",
        "colab": {
          "base_uri": "https://localhost:8080/",
          "height": 694
        },
        "outputId": "cc371ca1-4f6e-4755-ded8-f730e32aca36"
      },
      "source": [
        "#saver = tf.train.Saver(max_to_keep=4, keep_checkpoint_every_n_hours=2)\n",
        "#del model\n",
        "try:\n",
        "\tmodel.load_weights(directory_prefix+\"/doublelstmcheckpoint1.h5\")\n",
        "except:\n",
        "\tpass\n",
        "\n",
        "model.summary()\n",
        "opt = tf.optimizers.Adam()\n",
        "model.compile(loss=['binary_crossentropy'],\n",
        "\t\t\t  optimizer='adam',\n",
        "\t\t\t  metrics=['accuracy'], experimental_run_tf_function=False)\n",
        "\n",
        "\n",
        "# Create a callback that saves the model's weights\n",
        "cp_callback = tf.keras.callbacks.ModelCheckpoint(filepath=directory_prefix+\"/doublelstmcheckpoint1.h5\",\n",
        "\t\t\t\t\t\t\t\t\t\t\t\t save_weights_only=False,\n",
        "\t\t\t\t\t\t\t\t\t\t\t\t verbose=1)\n",
        "\n",
        "class CustomCallback(tf.keras.callbacks.Callback):\n",
        "    def on_epoch_end(self, epoch, logs=None):\n",
        "        generate_prc()\n",
        "prc_callback = CustomCallback()"
      ],
      "execution_count": null,
      "outputs": [
        {
          "output_type": "stream",
          "text": [
            "Model: \"functional_11\"\n",
            "__________________________________________________________________________________________________\n",
            "Layer (type)                    Output Shape         Param #     Connected to                     \n",
            "==================================================================================================\n",
            "input_1 (InputLayer)            [(None, 100, 20)]    0                                            \n",
            "__________________________________________________________________________________________________\n",
            "input_2 (InputLayer)            [(None, 100, 20)]    0                                            \n",
            "__________________________________________________________________________________________________\n",
            "global_average_pooling1d_8 (Glo (None, 20)           0           input_1[0][0]                    \n",
            "__________________________________________________________________________________________________\n",
            "global_average_pooling1d_9 (Glo (None, 20)           0           input_2[0][0]                    \n",
            "__________________________________________________________________________________________________\n",
            "dense_35 (Dense)                (None, 100)          2100        global_average_pooling1d_8[0][0] \n",
            "__________________________________________________________________________________________________\n",
            "dense_36 (Dense)                (None, 100)          2100        global_average_pooling1d_9[0][0] \n",
            "__________________________________________________________________________________________________\n",
            "dense_37 (Dense)                (None, 100)          10100       dense_35[0][0]                   \n",
            "__________________________________________________________________________________________________\n",
            "dense_38 (Dense)                (None, 100)          10100       dense_36[0][0]                   \n",
            "__________________________________________________________________________________________________\n",
            "dropout_10 (Dropout)            (None, 100)          0           dense_37[0][0]                   \n",
            "__________________________________________________________________________________________________\n",
            "dropout_11 (Dropout)            (None, 100)          0           dense_38[0][0]                   \n",
            "__________________________________________________________________________________________________\n",
            "concatenate_5 (Concatenate)     (None, 200)          0           dropout_10[0][0]                 \n",
            "                                                                 dropout_11[0][0]                 \n",
            "__________________________________________________________________________________________________\n",
            "dense_39 (Dense)                (None, 180)          36180       concatenate_5[0][0]              \n",
            "__________________________________________________________________________________________________\n",
            "dense_40 (Dense)                (None, 180)          32580       dense_39[0][0]                   \n",
            "__________________________________________________________________________________________________\n",
            "dense_41 (Dense)                (None, 180)          32580       dense_40[0][0]                   \n",
            "__________________________________________________________________________________________________\n",
            "output_binary (Dense)           (None, 1)            181         dense_41[0][0]                   \n",
            "==================================================================================================\n",
            "Total params: 125,921\n",
            "Trainable params: 125,921\n",
            "Non-trainable params: 0\n",
            "__________________________________________________________________________________________________\n"
          ],
          "name": "stdout"
        }
      ]
    },
    {
      "cell_type": "code",
      "metadata": {
        "id": "JdetCO3l-DPU",
        "colab_type": "code",
        "colab": {
          "base_uri": "https://localhost:8080/",
          "height": 1000
        },
        "outputId": "2ade98f6-a042-49e9-89af-9b686259cce3"
      },
      "source": [
        "history = model.fit(lstm_dataset, epochs=50, steps_per_epoch=5000, callbacks=[cp_callback, prc_callback])"
      ],
      "execution_count": null,
      "outputs": [
        {
          "output_type": "stream",
          "text": [
            "Epoch 1/50\n",
            "4986/5000 [============================>.] - ETA: 0s - loss: 0.6091 - accuracy: 0.6739\n",
            "Epoch 00001: saving model to drive/My Drive/PatentStuff/doublelstmcheckpoint1.h5\n",
            "131\n",
            "1000/1000 [==============================] - 26s 26ms/step\n"
          ],
          "name": "stdout"
        },
        {
          "output_type": "display_data",
          "data": {
            "image/png": "[encoded data removed]",
            "text/plain": [
              "<Figure size 432x288 with 1 Axes>"
            ]
          },
          "metadata": {
            "tags": [],
            "needs_background": "light"
          }
        },
        {
          "output_type": "stream",
          "text": [
            "[0.0648987  0.06442063 0.05941476 0.05220857 0.04558326 0.04465264\n",
            " 0.03117949 0.02976206 0.02921396 0.02859291 0.02859291]\n",
            "5000/5000 [==============================] - 40s 8ms/step - loss: 0.6096 - accuracy: 0.6726\n",
            "Epoch 2/50\n",
            "4981/5000 [============================>.] - ETA: 0s - loss: 0.5481 - accuracy: 0.7185\n",
            "Epoch 00002: saving model to drive/My Drive/PatentStuff/doublelstmcheckpoint1.h5\n",
            "131\n",
            "1000/1000 [==============================] - 27s 27ms/step\n"
          ],
          "name": "stdout"
        },
        {
          "output_type": "display_data",
          "data": {
            "image/png": "[encoded data removed]",
            "text/plain": [
              "<Figure size 432x288 with 1 Axes>"
            ]
          },
          "metadata": {
            "tags": [],
            "needs_background": "light"
          }
        },
        {
          "output_type": "stream",
          "text": [
            "[0.06669634 0.0664392  0.06172668 0.05401601 0.04726742 0.04661365\n",
            " 0.0314665  0.03040827 0.02962369 0.02927416 0.02926297]\n",
            "5000/5000 [==============================] - 41s 8ms/step - loss: 0.5480 - accuracy: 0.7186\n",
            "Epoch 3/50\n",
            "4999/5000 [============================>.] - ETA: 0s - loss: 0.5454 - accuracy: 0.7185\n",
            "Epoch 00003: saving model to drive/My Drive/PatentStuff/doublelstmcheckpoint1.h5\n",
            "131\n",
            "1000/1000 [==============================] - 26s 26ms/step\n"
          ],
          "name": "stdout"
        },
        {
          "output_type": "display_data",
          "data": {
            "image/png": "[encoded data removed]",
            "text/plain": [
              "<Figure size 432x288 with 1 Axes>"
            ]
          },
          "metadata": {
            "tags": [],
            "needs_background": "light"
          }
        },
        {
          "output_type": "stream",
          "text": [
            "[0.06378052 0.06378052 0.06016395 0.05088347 0.04451378 0.04403817\n",
            " 0.02952255 0.02829461 0.02777827 0.02739477 0.0273712 ]\n",
            "5000/5000 [==============================] - 40s 8ms/step - loss: 0.5454 - accuracy: 0.7186\n",
            "Epoch 4/50\n",
            "4987/5000 [============================>.] - ETA: 0s - loss: 0.5077 - accuracy: 0.7485\n",
            "Epoch 00004: saving model to drive/My Drive/PatentStuff/doublelstmcheckpoint1.h5\n",
            "131\n",
            "1000/1000 [==============================] - 26s 26ms/step\n"
          ],
          "name": "stdout"
        },
        {
          "output_type": "display_data",
          "data": {
            "image/png": "[encoded data removed]",
            "text/plain": [
              "<Figure size 432x288 with 1 Axes>"
            ]
          },
          "metadata": {
            "tags": [],
            "needs_background": "light"
          }
        },
        {
          "output_type": "stream",
          "text": [
            "[0.05865994 0.05855738 0.05460075 0.04530423 0.03879426 0.03814799\n",
            " 0.02518919 0.02435634 0.02402754 0.02381125 0.02380418]\n",
            "5000/5000 [==============================] - 40s 8ms/step - loss: 0.5071 - accuracy: 0.7490\n",
            "Epoch 5/50\n",
            "4992/5000 [============================>.] - ETA: 0s - loss: 0.4979 - accuracy: 0.7512\n",
            "Epoch 00005: saving model to drive/My Drive/PatentStuff/doublelstmcheckpoint1.h5\n",
            "131\n",
            "1000/1000 [==============================] - 26s 26ms/step\n"
          ],
          "name": "stdout"
        },
        {
          "output_type": "display_data",
          "data": {
            "image/png": "[encoded data removed]",
            "text/plain": [
              "<Figure size 432x288 with 1 Axes>"
            ]
          },
          "metadata": {
            "tags": [],
            "needs_background": "light"
          }
        },
        {
          "output_type": "stream",
          "text": [
            "[0.06694488 0.06684684 0.06329877 0.05729975 0.0506568  0.05006281\n",
            " 0.03204861 0.03096863 0.03002544 0.02951516 0.02950793]\n",
            "5000/5000 [==============================] - 40s 8ms/step - loss: 0.4978 - accuracy: 0.7514\n",
            "Epoch 6/50\n",
            "4990/5000 [============================>.] - ETA: 0s - loss: 0.4955 - accuracy: 0.7599\n",
            "Epoch 00006: saving model to drive/My Drive/PatentStuff/doublelstmcheckpoint1.h5\n",
            "131\n",
            "1000/1000 [==============================] - 26s 26ms/step\n"
          ],
          "name": "stdout"
        },
        {
          "output_type": "display_data",
          "data": {
            "image/png": "[encoded data removed]",
            "text/plain": [
              "<Figure size 432x288 with 1 Axes>"
            ]
          },
          "metadata": {
            "tags": [],
            "needs_background": "light"
          }
        },
        {
          "output_type": "stream",
          "text": [
            "[0.05921013 0.05888207 0.05760793 0.053643   0.04936014 0.04835851\n",
            " 0.03556074 0.03419785 0.03347639 0.03311403 0.03308002]\n",
            "5000/5000 [==============================] - 40s 8ms/step - loss: 0.4962 - accuracy: 0.7598\n",
            "Epoch 7/50\n",
            "4988/5000 [============================>.] - ETA: 0s - loss: 0.4824 - accuracy: 0.7801\n",
            "Epoch 00007: saving model to drive/My Drive/PatentStuff/doublelstmcheckpoint1.h5\n",
            "131\n",
            "1000/1000 [==============================] - 26s 26ms/step\n"
          ],
          "name": "stdout"
        },
        {
          "output_type": "display_data",
          "data": {
            "image/png": "[encoded data removed]",
            "text/plain": [
              "<Figure size 432x288 with 1 Axes>"
            ]
          },
          "metadata": {
            "tags": [],
            "needs_background": "light"
          }
        },
        {
          "output_type": "stream",
          "text": [
            "[0.06604694 0.06539668 0.06351885 0.05745065 0.05203015 0.0504609\n",
            " 0.03484312 0.03300699 0.03193578 0.03168957 0.03168941]\n",
            "5000/5000 [==============================] - 40s 8ms/step - loss: 0.4820 - accuracy: 0.7802\n",
            "Epoch 8/50\n",
            "4998/5000 [============================>.] - ETA: 0s - loss: 0.4782 - accuracy: 0.7729\n",
            "Epoch 00008: saving model to drive/My Drive/PatentStuff/doublelstmcheckpoint1.h5\n",
            "131\n",
            "1000/1000 [==============================] - 26s 26ms/step\n"
          ],
          "name": "stdout"
        },
        {
          "output_type": "display_data",
          "data": {
            "image/png": "[encoded data removed]",
            "text/plain": [
              "<Figure size 432x288 with 1 Axes>"
            ]
          },
          "metadata": {
            "tags": [],
            "needs_background": "light"
          }
        },
        {
          "output_type": "stream",
          "text": [
            "[0.05743931 0.05741153 0.05380517 0.04826664 0.04288066 0.04218402\n",
            " 0.02860596 0.0279106  0.02734548 0.02696147 0.02695813]\n",
            "5000/5000 [==============================] - 40s 8ms/step - loss: 0.4781 - accuracy: 0.7730\n",
            "Epoch 9/50\n",
            "4981/5000 [============================>.] - ETA: 0s - loss: 0.4795 - accuracy: 0.7721\n",
            "Epoch 00009: saving model to drive/My Drive/PatentStuff/doublelstmcheckpoint1.h5\n",
            "131\n",
            "1000/1000 [==============================] - 26s 26ms/step\n"
          ],
          "name": "stdout"
        },
        {
          "output_type": "display_data",
          "data": {
            "image/png": "[encoded data removed]",
            "text/plain": [
              "<Figure size 432x288 with 1 Axes>"
            ]
          },
          "metadata": {
            "tags": [],
            "needs_background": "light"
          }
        },
        {
          "output_type": "stream",
          "text": [
            "[0.04524787 0.04522223 0.0444299  0.03961646 0.03700537 0.03623974\n",
            " 0.02789241 0.02705064 0.02651221 0.02619287 0.0261838 ]\n",
            "5000/5000 [==============================] - 40s 8ms/step - loss: 0.4790 - accuracy: 0.7728\n",
            "Epoch 10/50\n",
            "4988/5000 [============================>.] - ETA: 0s - loss: 0.4599 - accuracy: 0.7877\n",
            "Epoch 00010: saving model to drive/My Drive/PatentStuff/doublelstmcheckpoint1.h5\n",
            "131\n",
            "1000/1000 [==============================] - 26s 26ms/step\n"
          ],
          "name": "stdout"
        },
        {
          "output_type": "display_data",
          "data": {
            "image/png": "[encoded data removed]",
            "text/plain": [
              "<Figure size 432x288 with 1 Axes>"
            ]
          },
          "metadata": {
            "tags": [],
            "needs_background": "light"
          }
        },
        {
          "output_type": "stream",
          "text": [
            "[0.0663122  0.0663122  0.06239203 0.05158965 0.04540064 0.0451473\n",
            " 0.03344855 0.03268612 0.03190179 0.0314821  0.03146043]\n",
            "5000/5000 [==============================] - 40s 8ms/step - loss: 0.4596 - accuracy: 0.7880\n",
            "Epoch 11/50\n",
            "4989/5000 [============================>.] - ETA: 0s - loss: 0.4659 - accuracy: 0.7885\n",
            "Epoch 00011: saving model to drive/My Drive/PatentStuff/doublelstmcheckpoint1.h5\n",
            "131\n",
            "1000/1000 [==============================] - 25s 25ms/step\n"
          ],
          "name": "stdout"
        },
        {
          "output_type": "display_data",
          "data": {
            "image/png": "[encoded data removed]",
            "text/plain": [
              "<Figure size 432x288 with 1 Axes>"
            ]
          },
          "metadata": {
            "tags": [],
            "needs_background": "light"
          }
        },
        {
          "output_type": "stream",
          "text": [
            "[0.0498633  0.04967099 0.04861695 0.04512896 0.04258469 0.04149233\n",
            " 0.03278274 0.03103304 0.02978557 0.02928067 0.02927254]\n",
            "5000/5000 [==============================] - 39s 8ms/step - loss: 0.4661 - accuracy: 0.7884\n",
            "Epoch 12/50\n",
            "4997/5000 [============================>.] - ETA: 0s - loss: 0.4760 - accuracy: 0.7821\n",
            "Epoch 00012: saving model to drive/My Drive/PatentStuff/doublelstmcheckpoint1.h5\n",
            "131\n",
            "1000/1000 [==============================] - 25s 25ms/step\n"
          ],
          "name": "stdout"
        },
        {
          "output_type": "display_data",
          "data": {
            "image/png": "[encoded data removed]",
            "text/plain": [
              "<Figure size 432x288 with 1 Axes>"
            ]
          },
          "metadata": {
            "tags": [],
            "needs_background": "light"
          }
        },
        {
          "output_type": "stream",
          "text": [
            "[0.0593908  0.0593908  0.0557381  0.04768871 0.04309741 0.04219951\n",
            " 0.02929708 0.02795674 0.0270706  0.02678497 0.02677598]\n",
            "5000/5000 [==============================] - 39s 8ms/step - loss: 0.4758 - accuracy: 0.7822\n",
            "Epoch 13/50\n",
            "4999/5000 [============================>.] - ETA: 0s - loss: 0.4597 - accuracy: 0.7836\n",
            "Epoch 00013: saving model to drive/My Drive/PatentStuff/doublelstmcheckpoint1.h5\n",
            "131\n",
            "1000/1000 [==============================] - 27s 27ms/step\n"
          ],
          "name": "stdout"
        },
        {
          "output_type": "display_data",
          "data": {
            "image/png": "[encoded data removed]",
            "text/plain": [
              "<Figure size 432x288 with 1 Axes>"
            ]
          },
          "metadata": {
            "tags": [],
            "needs_background": "light"
          }
        },
        {
          "output_type": "stream",
          "text": [
            "[0.04839616 0.04833505 0.0465714  0.03953843 0.03591831 0.03574349\n",
            " 0.02615195 0.02546869 0.02495762 0.02460169 0.02459989]\n",
            "5000/5000 [==============================] - 41s 8ms/step - loss: 0.4597 - accuracy: 0.7836\n",
            "Epoch 14/50\n",
            "4994/5000 [============================>.] - ETA: 0s - loss: 0.4598 - accuracy: 0.7877\n",
            "Epoch 00014: saving model to drive/My Drive/PatentStuff/doublelstmcheckpoint1.h5\n",
            "131\n",
            "  28/1000 [..............................] - ETA: 24s"
          ],
          "name": "stdout"
        }
      ]
    },
    {
      "cell_type": "code",
      "metadata": {
        "id": "a844kTf5fO0s",
        "colab_type": "code",
        "colab": {}
      },
      "source": [
        "def generate_prc():\n",
        "\tlabel_len = len(label_dict_keys)\n",
        "\tprint(label_len)\n",
        "\tleft = [label_dict[i] for i in label_dict_keys]\n",
        "\tpredictions = []\n",
        "\tleft_vectors = np.array(list(label_dict.keys()))\n",
        "\tlabel_vectors_vector = []\n",
        "\tnum_tests = 1000\n",
        "\tdef cur_gen():\n",
        "\t\tfor row in pd.read_csv(directory_prefix+'/test_dataset.csv',sep=',', header = None).to_numpy():\n",
        "\t\t\tlabel, description=row[0], row[1]\n",
        "\t\t\tlabel_vectors = [z.strip().strip('\\'\\\"')[:3] for z in label.split(',')]\n",
        "\t\t\tlabel_vectors = set([i for i in label_vectors if i in label_dict_keys])\n",
        "\t\t\tif label_vectors == set():\n",
        "\t\t\t\tcontinue\n",
        "\t\t\tlabel_vectors_vector.append(label_vectors)\n",
        "\t\t\tlstm_input_patent =  get_sentence_vector(word_tokenize(description.lower()), num_words)\n",
        "\t\t\tfor i in left:\n",
        "\t\t\t\tyield ({'input_1':lstm_input_patent, 'input_2':i})\n",
        "\n",
        "\tdataset = tf.data.Dataset.from_generator(cur_gen, ({'input_1':tf.float64, 'input_2':tf.float64}), ({'input_1':tf.TensorShape([num_words, embedding_dim]), 'input_2':tf.TensorShape([num_words_description, embedding_dim])}))\n",
        "\tdataset = dataset.batch(label_len).prefetch(50)\n",
        "\tpredictions = model.predict(dataset, steps=num_tests, verbose=1).reshape(num_tests, label_len)\n",
        "\tn = 0\n",
        "\td=0\n",
        "\tns = []\n",
        "\trecalls = np.arange(0, 1.01, .1)\n",
        "\tns = []\n",
        "\tfor prediction, label_vectors in zip(predictions, label_vectors_vector):\n",
        "\t\tindices = np.flip(np.argsort(prediction, axis=0))\n",
        "\t\te = [1 if i in label_vectors else 0 for i in left_vectors[indices]]\n",
        "\t\tcur = []\n",
        "\t\ttotal_ones = e.count(1)\n",
        "\t\tn = 0\n",
        "\t\tones_seen = 0\n",
        "\t\twhile ones_seen < total_ones:\n",
        "\t\t\tif e[n] == 1:\n",
        "\t\t\t\tones_seen = ones_seen+1\n",
        "\t\t\tn = n+1\n",
        "\t\t\tcur.append((ones_seen/float(n), ones_seen/float(total_ones)))\n",
        "\t\tnew_cur = []\n",
        "\t\tfor r in recalls:\n",
        "\t\t\tmax_of_larger = max([i[0] for i in cur if i[1] >= r])\n",
        "\t\t\tnew_cur.append(max_of_larger)\n",
        "\t\tns.append(new_cur)\n",
        "\t\t#print(max(new_cur))\n",
        "\t\td = d+1\n",
        "\t\t#print(float(d)/7215)\n",
        "\t\t#print(np.mean(np.vstack(ns), axis=0)[0])\n",
        "\tp = np.mean(np.array(ns), axis=0)\n",
        "\tnp.save(\"newest_ps.npy\", p)\n",
        "\tnp.save(\"predictions.npy\", predictions)\n",
        "\tnp.save(\"label_vectors_vector.npy\", label_vectors_vector)\n",
        "\timport matplotlib.pyplot as plt\n",
        "\tplt.plot(recalls, p)\n",
        "\tplt.ylim(0, 1)\n",
        "\tplt.xlim(0, 1)\n",
        "\tplt.margins(0.1)\n",
        "\t#plt.xticks(range(len(distribution_dict.keys()))[::50], new_x[::50], rotation='vertical')\n",
        "\tplt.ylabel('Precision', fontsize=16)\n",
        "\tplt.xlabel('Recall', fontsize=16)\n",
        "\tplt.tight_layout()\n",
        "\tplt.show()\n",
        "\tprint(p) \n",
        "\tplt.savefig('binary_prc1.eps', format='eps')"
      ],
      "execution_count": null,
      "outputs": []
    },
    {
      "cell_type": "code",
      "metadata": {
        "id": "JB35kwKqrSi8",
        "colab_type": "code",
        "colab": {
          "base_uri": "https://localhost:8080/",
          "height": 373
        },
        "outputId": "aabdf11b-b546-44ee-f345-a6ed56cafc5d"
      },
      "source": [
        "\n",
        "generate_prc()"
      ],
      "execution_count": null,
      "outputs": [
        {
          "output_type": "stream",
          "text": [
            "131\n",
            "200/200 [==============================] - 23s 115ms/step\n"
          ],
          "name": "stdout"
        },
        {
          "output_type": "error",
          "ename": "ValueError",
          "evalue": "ignored",
          "traceback": [
            "\u001b[0;31m---------------------------------------------------------------------------\u001b[0m",
            "\u001b[0;31mValueError\u001b[0m                                Traceback (most recent call last)",
            "\u001b[0;32m<ipython-input-10-195d48917696>\u001b[0m in \u001b[0;36m<module>\u001b[0;34m()\u001b[0m\n\u001b[1;32m      1\u001b[0m \u001b[0;34m\u001b[0m\u001b[0m\n\u001b[0;32m----> 2\u001b[0;31m \u001b[0mgenerate_prc\u001b[0m\u001b[0;34m(\u001b[0m\u001b[0;34m)\u001b[0m\u001b[0;34m\u001b[0m\u001b[0;34m\u001b[0m\u001b[0m\n\u001b[0m",
            "\u001b[0;32m<ipython-input-8-38b4a822b5c1>\u001b[0m in \u001b[0;36mgenerate_prc\u001b[0;34m()\u001b[0m\n\u001b[1;32m     21\u001b[0m         \u001b[0mdataset\u001b[0m \u001b[0;34m=\u001b[0m \u001b[0mtf\u001b[0m\u001b[0;34m.\u001b[0m\u001b[0mdata\u001b[0m\u001b[0;34m.\u001b[0m\u001b[0mDataset\u001b[0m\u001b[0;34m.\u001b[0m\u001b[0mfrom_generator\u001b[0m\u001b[0;34m(\u001b[0m\u001b[0mcur_gen\u001b[0m\u001b[0;34m,\u001b[0m \u001b[0;34m(\u001b[0m\u001b[0;34m{\u001b[0m\u001b[0;34m'input_1'\u001b[0m\u001b[0;34m:\u001b[0m\u001b[0mtf\u001b[0m\u001b[0;34m.\u001b[0m\u001b[0mfloat64\u001b[0m\u001b[0;34m,\u001b[0m \u001b[0;34m'input_2'\u001b[0m\u001b[0;34m:\u001b[0m\u001b[0mtf\u001b[0m\u001b[0;34m.\u001b[0m\u001b[0mfloat64\u001b[0m\u001b[0;34m}\u001b[0m\u001b[0;34m)\u001b[0m\u001b[0;34m,\u001b[0m \u001b[0;34m(\u001b[0m\u001b[0;34m{\u001b[0m\u001b[0;34m'input_1'\u001b[0m\u001b[0;34m:\u001b[0m\u001b[0mtf\u001b[0m\u001b[0;34m.\u001b[0m\u001b[0mTensorShape\u001b[0m\u001b[0;34m(\u001b[0m\u001b[0;34m[\u001b[0m\u001b[0mnum_words\u001b[0m\u001b[0;34m,\u001b[0m \u001b[0membedding_dim\u001b[0m\u001b[0;34m]\u001b[0m\u001b[0;34m)\u001b[0m\u001b[0;34m,\u001b[0m \u001b[0;34m'input_2'\u001b[0m\u001b[0;34m:\u001b[0m\u001b[0mtf\u001b[0m\u001b[0;34m.\u001b[0m\u001b[0mTensorShape\u001b[0m\u001b[0;34m(\u001b[0m\u001b[0;34m[\u001b[0m\u001b[0mnum_words_description\u001b[0m\u001b[0;34m,\u001b[0m \u001b[0membedding_dim\u001b[0m\u001b[0;34m]\u001b[0m\u001b[0;34m)\u001b[0m\u001b[0;34m}\u001b[0m\u001b[0;34m)\u001b[0m\u001b[0;34m)\u001b[0m\u001b[0;34m\u001b[0m\u001b[0;34m\u001b[0m\u001b[0m\n\u001b[1;32m     22\u001b[0m         \u001b[0mdataset\u001b[0m \u001b[0;34m=\u001b[0m \u001b[0mdataset\u001b[0m\u001b[0;34m.\u001b[0m\u001b[0mbatch\u001b[0m\u001b[0;34m(\u001b[0m\u001b[0mlabel_len\u001b[0m\u001b[0;34m)\u001b[0m\u001b[0;34m.\u001b[0m\u001b[0mprefetch\u001b[0m\u001b[0;34m(\u001b[0m\u001b[0;36m50\u001b[0m\u001b[0;34m)\u001b[0m\u001b[0;34m\u001b[0m\u001b[0;34m\u001b[0m\u001b[0m\n\u001b[0;32m---> 23\u001b[0;31m         \u001b[0mpredictions\u001b[0m \u001b[0;34m=\u001b[0m \u001b[0mmodel\u001b[0m\u001b[0;34m.\u001b[0m\u001b[0mpredict\u001b[0m\u001b[0;34m(\u001b[0m\u001b[0mdataset\u001b[0m\u001b[0;34m,\u001b[0m \u001b[0msteps\u001b[0m\u001b[0;34m=\u001b[0m\u001b[0mnum_tests\u001b[0m\u001b[0;34m,\u001b[0m \u001b[0mverbose\u001b[0m\u001b[0;34m=\u001b[0m\u001b[0;36m1\u001b[0m\u001b[0;34m)\u001b[0m\u001b[0;34m.\u001b[0m\u001b[0mreshape\u001b[0m\u001b[0;34m(\u001b[0m\u001b[0mnum_tests\u001b[0m\u001b[0;34m,\u001b[0m \u001b[0mlabel_len\u001b[0m\u001b[0;34m)\u001b[0m\u001b[0;34m\u001b[0m\u001b[0;34m\u001b[0m\u001b[0m\n\u001b[0m\u001b[1;32m     24\u001b[0m         \u001b[0mn\u001b[0m \u001b[0;34m=\u001b[0m \u001b[0;36m0\u001b[0m\u001b[0;34m\u001b[0m\u001b[0;34m\u001b[0m\u001b[0m\n\u001b[1;32m     25\u001b[0m         \u001b[0md\u001b[0m\u001b[0;34m=\u001b[0m\u001b[0;36m0\u001b[0m\u001b[0;34m\u001b[0m\u001b[0;34m\u001b[0m\u001b[0m\n",
            "\u001b[0;31mValueError\u001b[0m: cannot reshape array of size 2620000 into shape (200,131)"
          ]
        }
      ]
    },
    {
      "cell_type": "code",
      "metadata": {
        "id": "OojymS4afPdy",
        "colab_type": "code",
        "colab": {}
      },
      "source": [
        ""
      ],
      "execution_count": null,
      "outputs": []
    }
  ]
}