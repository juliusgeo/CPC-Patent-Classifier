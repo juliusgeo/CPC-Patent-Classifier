{
 "cells": [
  {
   "cell_type": "code",
   "execution_count": null,
   "metadata": {
    "colab": {
     "base_uri": "https://localhost:8080/",
     "height": 34
    },
    "colab_type": "code",
    "id": "4L8TJHgad_7M",
    "outputId": "ee182713-b61f-46da-bd7d-22f965e8fc43"
   },
   "outputs": [],
   "source": []
  },
  {
   "cell_type": "code",
   "execution_count": null,
   "metadata": {
    "colab": {
     "base_uri": "https://localhost:8080/",
     "height": 34
    },
    "colab_type": "code",
    "id": "MJQHRv1rgdGY",
    "outputId": "d91bc341-6253-42af-ac2f-8da7b4ac7286"
   },
   "outputs": [],
   "source": []
  },
  {
   "cell_type": "code",
   "execution_count": null,
   "metadata": {
    "colab": {},
    "colab_type": "code",
    "id": "wK-l3s1hhQmd"
   },
   "outputs": [],
   "source": []
  },
  {
   "cell_type": "code",
   "execution_count": 35,
   "metadata": {
    "colab": {
     "base_uri": "https://localhost:8080/",
     "height": 159
    },
    "colab_type": "code",
    "id": "9QN5Z2_6eRq0",
    "outputId": "f45d893f-2f8f-4a72-f522-a94895fef779"
   },
   "outputs": [
    {
     "name": "stderr",
     "output_type": "stream",
     "text": [
      "[nltk_data] Downloading package stopwords to /home/jpark/nltk_data...\n",
      "[nltk_data]   Package stopwords is already up-to-date!\n"
     ]
    },
    {
     "name": "stdout",
     "output_type": "stream",
     "text": [
      "WARNING:tensorflow:5 out of the last 2934611 calls to <function recreate_function.<locals>.restored_function_body at 0x7f7a3052a510> triggered tf.function retracing. Tracing is expensive and the excessive number of tracings could be due to (1) creating @tf.function repeatedly in a loop, (2) passing tensors with different shapes, (3) passing Python objects instead of tensors. For (1), please define your @tf.function outside of the loop. For (2), @tf.function has experimental_relax_shapes=True option that relaxes argument shapes that can avoid unnecessary retracing. For (3), please refer to https://www.tensorflow.org/tutorials/customization/performance#python_or_tensor_args and https://www.tensorflow.org/api_docs/python/tf/function for  more details.\n"
     ]
    },
    {
     "name": "stderr",
     "output_type": "stream",
     "text": [
      "WARNING:tensorflow:5 out of the last 2934611 calls to <function recreate_function.<locals>.restored_function_body at 0x7f7a3052a510> triggered tf.function retracing. Tracing is expensive and the excessive number of tracings could be due to (1) creating @tf.function repeatedly in a loop, (2) passing tensors with different shapes, (3) passing Python objects instead of tensors. For (1), please define your @tf.function outside of the loop. For (2), @tf.function has experimental_relax_shapes=True option that relaxes argument shapes that can avoid unnecessary retracing. For (3), please refer to https://www.tensorflow.org/tutorials/customization/performance#python_or_tensor_args and https://www.tensorflow.org/api_docs/python/tf/function for  more details.\n"
     ]
    }
   ],
   "source": [
    "import numpy as np\n",
    "import gensim, logging\n",
    "import csv, string\n",
    "import nltk\n",
    "#nltk.download('punkt')\n",
    "nltk.download('stopwords')\n",
    "from nltk.tokenize import word_tokenize\n",
    "from nltk.stem.porter import PorterStemmer\n",
    "import pandas as pd\n",
    "import tensorflow as tf\n",
    "import os\n",
    "import pickle\n",
    "\n",
    "num_words = 100\n",
    "num_words_description = 100\n",
    "directory_prefix = \"./\"\n",
    "label_depth = 3\n",
    "import random\n",
    "#import gensim.downloader as api\n",
    "from nltk.corpus import stopwords\n",
    "from gensim.parsing.preprocessing import remove_stopwords\n",
    "\n",
    "s=set(stopwords.words('english'))\n",
    "wv = gensim.models.KeyedVectors.load(directory_prefix+\"patents.wv\", mmap='r+')\n",
    "#wv = api.load(\"glove-wiki-gigaword-50\")\n",
    "\n",
    "porter = PorterStemmer()\n",
    "embedding_dim = 500\n",
    "\n",
    "\n",
    "\n",
    "import tensorflow_hub as hub\n",
    "\n",
    "embed = hub.load(\"https://tfhub.dev/google/tf2-preview/nnlm-en-dim128-with-normalization/1\")\n",
    "#embed = hub.load(\"https://tfhub.dev/google/Wiki-words-500/2\")\n",
    "\n",
    "embeddings = embed([\"cat is on the mat\", \"dog is in the fog\"])\n",
    "embedding_dim = embeddings.shape[1]\n",
    "#print(embeddings)\n",
    "def get_sentence_vector(words, num_words):\n",
    "    words = word_tokenize(words)\n",
    "    #words = list(filter(lambda w: len(w)>2, words))\n",
    "    ret = embed(words)\n",
    "    ret = tf.pad(ret, tf.constant([[0, max(0, num_words-ret.shape[0]),], [0, 0]]), \"CONSTANT\")\n",
    "    ret = ret[:num_words]\n",
    "    return ret\n",
    " \n",
    "with open(directory_prefix+\"/class_descriptions/class_descriptions_from_patents_simons_dataset.pickle\", 'rb') as f:\n",
    "    label_dict = pickle.load(f)\n",
    "label_dict = {k[:label_depth]: get_sentence_vector(val.lower(), num_words_description) for k, val in label_dict.items()}\n",
    "#label_dict = {k[:label_depth]: get_sentence_vector(val.lower(), num_words_description) for k, val in label_dict.items()}\n",
    "\n",
    "label_dict_keys = set(label_dict.keys())\n"
   ]
  },
  {
   "cell_type": "code",
   "execution_count": 36,
   "metadata": {
    "colab": {
     "base_uri": "https://localhost:8080/",
     "height": 34
    },
    "colab_type": "code",
    "id": "cM9igP7lCXup",
    "outputId": "725c8ce6-adb6-4ad3-8016-a2ed6aa457aa"
   },
   "outputs": [
    {
     "name": "stdout",
     "output_type": "stream",
     "text": [
      "124\n"
     ]
    }
   ],
   "source": [
    "print(len(label_dict.keys()))"
   ]
  },
  {
   "cell_type": "code",
   "execution_count": 37,
   "metadata": {
    "colab": {
     "base_uri": "https://localhost:8080/",
     "height": 34
    },
    "colab_type": "code",
    "id": "zMkC0VFdhZNf",
    "outputId": "05fe3ff7-7adf-411a-ebf9-e663c4443b10"
   },
   "outputs": [],
   "source": [
    "def lstm_data_generator():\n",
    "    current_dataframe = pd.read_csv(directory_prefix+'/datasets/items2.csv',sep=',', header = None).to_numpy()#, chunksize=100000)\n",
    "    #indices = np.random.choice(300000, 200000)\n",
    "    for row in current_dataframe:\n",
    "        label, description=row[0], row[1]\n",
    "        lstm_input_patent = get_sentence_vector(description.lower(), num_words)\n",
    "        label_vectors = [z.strip().strip('\\'\\\"')[:label_depth] for z in label.split(',')]\n",
    "        label_vectors = set([i for i in label_vectors if i in label_dict_keys])\n",
    "        non_true_vectors = set([i for i in random.sample(label_dict_keys, min(len(label_vectors), len(label_dict.keys()))) if i not in label_vectors])\n",
    "        for l, k in zip((label_dict[i] for i in label_vectors), label_vectors):\n",
    "            yield ({'input_1':lstm_input_patent, 'input_2':l}, {'output_binary':[1]})\n",
    "        for l, k in zip((label_dict[i] for i in non_true_vectors), non_true_vectors):\n",
    "            yield ({'input_1':lstm_input_patent, 'input_2':l}, {'output_binary':[0]})\n",
    "    print(\"went through the dataset once\")\n",
    "        \n",
    "        \n",
    "lstm_dataset = tf.data.Dataset.from_generator(lstm_data_generator, ({'input_1':tf.float64, 'input_2':tf.float64}, {'output_binary':tf.float64}), ({'input_1':tf.TensorShape([num_words, embedding_dim]), 'input_2':tf.TensorShape([num_words_description, embedding_dim])}, {'output_binary':tf.TensorShape([1])}))\n",
    "lstm_dataset = lstm_dataset.batch(8, drop_remainder=True).prefetch(1000).repeat()\n",
    "           "
   ]
  },
  {
   "cell_type": "code",
   "execution_count": 4,
   "metadata": {},
   "outputs": [
    {
     "name": "stdout",
     "output_type": "stream",
     "text": [
      "{'output_binary': <tf.Tensor: shape=(16, 1), dtype=float64, numpy=\n",
      "array([[1.],\n",
      "       [0.],\n",
      "       [1.],\n",
      "       [0.],\n",
      "       [1.],\n",
      "       [0.],\n",
      "       [1.],\n",
      "       [1.],\n",
      "       [1.],\n",
      "       [1.],\n",
      "       [0.],\n",
      "       [0.],\n",
      "       [0.],\n",
      "       [0.],\n",
      "       [1.],\n",
      "       [1.]])>}\n",
      "{'output_binary': <tf.Tensor: shape=(16, 1), dtype=float64, numpy=\n",
      "array([[1.],\n",
      "       [0.],\n",
      "       [0.],\n",
      "       [0.],\n",
      "       [1.],\n",
      "       [0.],\n",
      "       [1.],\n",
      "       [1.],\n",
      "       [0.],\n",
      "       [0.],\n",
      "       [1.],\n",
      "       [1.],\n",
      "       [0.],\n",
      "       [0.],\n",
      "       [1.],\n",
      "       [1.]])>}\n",
      "{'output_binary': <tf.Tensor: shape=(16, 1), dtype=float64, numpy=\n",
      "array([[0.],\n",
      "       [0.],\n",
      "       [1.],\n",
      "       [1.],\n",
      "       [0.],\n",
      "       [0.],\n",
      "       [1.],\n",
      "       [0.],\n",
      "       [1.],\n",
      "       [0.],\n",
      "       [1.],\n",
      "       [0.],\n",
      "       [1.],\n",
      "       [1.],\n",
      "       [0.],\n",
      "       [0.]])>}\n",
      "{'output_binary': <tf.Tensor: shape=(16, 1), dtype=float64, numpy=\n",
      "array([[1.],\n",
      "       [0.],\n",
      "       [1.],\n",
      "       [1.],\n",
      "       [0.],\n",
      "       [0.],\n",
      "       [1.],\n",
      "       [0.],\n",
      "       [1.],\n",
      "       [0.],\n",
      "       [1.],\n",
      "       [1.],\n",
      "       [1.],\n",
      "       [1.],\n",
      "       [1.],\n",
      "       [0.]])>}\n",
      "{'output_binary': <tf.Tensor: shape=(16, 1), dtype=float64, numpy=\n",
      "array([[0.],\n",
      "       [0.],\n",
      "       [0.],\n",
      "       [0.],\n",
      "       [1.],\n",
      "       [1.],\n",
      "       [0.],\n",
      "       [0.],\n",
      "       [1.],\n",
      "       [0.],\n",
      "       [1.],\n",
      "       [0.],\n",
      "       [1.],\n",
      "       [1.],\n",
      "       [0.],\n",
      "       [0.]])>}\n",
      "{'output_binary': <tf.Tensor: shape=(16, 1), dtype=float64, numpy=\n",
      "array([[1.],\n",
      "       [0.],\n",
      "       [1.],\n",
      "       [1.],\n",
      "       [1.],\n",
      "       [1.],\n",
      "       [1.],\n",
      "       [0.],\n",
      "       [0.],\n",
      "       [0.],\n",
      "       [0.],\n",
      "       [0.],\n",
      "       [1.],\n",
      "       [0.],\n",
      "       [1.],\n",
      "       [0.]])>}\n",
      "{'output_binary': <tf.Tensor: shape=(16, 1), dtype=float64, numpy=\n",
      "array([[1.],\n",
      "       [0.],\n",
      "       [1.],\n",
      "       [0.],\n",
      "       [1.],\n",
      "       [0.],\n",
      "       [1.],\n",
      "       [0.],\n",
      "       [1.],\n",
      "       [0.],\n",
      "       [1.],\n",
      "       [0.],\n",
      "       [1.],\n",
      "       [0.],\n",
      "       [1.],\n",
      "       [0.]])>}\n",
      "{'output_binary': <tf.Tensor: shape=(16, 1), dtype=float64, numpy=\n",
      "array([[1.],\n",
      "       [1.],\n",
      "       [0.],\n",
      "       [0.],\n",
      "       [1.],\n",
      "       [0.],\n",
      "       [1.],\n",
      "       [0.],\n",
      "       [1.],\n",
      "       [0.],\n",
      "       [1.],\n",
      "       [0.],\n",
      "       [1.],\n",
      "       [0.],\n",
      "       [1.],\n",
      "       [0.]])>}\n",
      "{'output_binary': <tf.Tensor: shape=(16, 1), dtype=float64, numpy=\n",
      "array([[1.],\n",
      "       [0.],\n",
      "       [1.],\n",
      "       [0.],\n",
      "       [1.],\n",
      "       [0.],\n",
      "       [1.],\n",
      "       [0.],\n",
      "       [1.],\n",
      "       [0.],\n",
      "       [1.],\n",
      "       [1.],\n",
      "       [0.],\n",
      "       [0.],\n",
      "       [1.],\n",
      "       [1.]])>}\n",
      "{'output_binary': <tf.Tensor: shape=(16, 1), dtype=float64, numpy=\n",
      "array([[1.],\n",
      "       [0.],\n",
      "       [0.],\n",
      "       [0.],\n",
      "       [1.],\n",
      "       [1.],\n",
      "       [0.],\n",
      "       [0.],\n",
      "       [1.],\n",
      "       [1.],\n",
      "       [0.],\n",
      "       [0.],\n",
      "       [1.],\n",
      "       [1.],\n",
      "       [0.],\n",
      "       [0.]])>}\n",
      "{'output_binary': <tf.Tensor: shape=(16, 1), dtype=float64, numpy=\n",
      "array([[1.],\n",
      "       [1.],\n",
      "       [0.],\n",
      "       [0.],\n",
      "       [1.],\n",
      "       [1.],\n",
      "       [0.],\n",
      "       [0.],\n",
      "       [1.],\n",
      "       [1.],\n",
      "       [0.],\n",
      "       [0.],\n",
      "       [1.],\n",
      "       [1.],\n",
      "       [1.],\n",
      "       [0.]])>}\n",
      "{'output_binary': <tf.Tensor: shape=(16, 1), dtype=float64, numpy=\n",
      "array([[0.],\n",
      "       [0.],\n",
      "       [1.],\n",
      "       [1.],\n",
      "       [0.],\n",
      "       [0.],\n",
      "       [1.],\n",
      "       [0.],\n",
      "       [1.],\n",
      "       [1.],\n",
      "       [0.],\n",
      "       [0.],\n",
      "       [1.],\n",
      "       [1.],\n",
      "       [0.],\n",
      "       [0.]])>}\n",
      "{'output_binary': <tf.Tensor: shape=(16, 1), dtype=float64, numpy=\n",
      "array([[1.],\n",
      "       [1.],\n",
      "       [1.],\n",
      "       [0.],\n",
      "       [0.],\n",
      "       [0.],\n",
      "       [1.],\n",
      "       [0.],\n",
      "       [1.],\n",
      "       [1.],\n",
      "       [0.],\n",
      "       [1.],\n",
      "       [1.],\n",
      "       [0.],\n",
      "       [0.],\n",
      "       [1.]])>}\n",
      "{'output_binary': <tf.Tensor: shape=(16, 1), dtype=float64, numpy=\n",
      "array([[1.],\n",
      "       [0.],\n",
      "       [0.],\n",
      "       [1.],\n",
      "       [0.],\n",
      "       [1.],\n",
      "       [1.],\n",
      "       [0.],\n",
      "       [0.],\n",
      "       [1.],\n",
      "       [0.],\n",
      "       [1.],\n",
      "       [1.],\n",
      "       [0.],\n",
      "       [1.],\n",
      "       [1.]])>}\n",
      "{'output_binary': <tf.Tensor: shape=(16, 1), dtype=float64, numpy=\n",
      "array([[0.],\n",
      "       [1.],\n",
      "       [1.],\n",
      "       [0.],\n",
      "       [0.],\n",
      "       [1.],\n",
      "       [1.],\n",
      "       [0.],\n",
      "       [0.],\n",
      "       [1.],\n",
      "       [1.],\n",
      "       [1.],\n",
      "       [0.],\n",
      "       [0.],\n",
      "       [0.],\n",
      "       [1.]])>}\n",
      "{'output_binary': <tf.Tensor: shape=(16, 1), dtype=float64, numpy=\n",
      "array([[1.],\n",
      "       [0.],\n",
      "       [0.],\n",
      "       [1.],\n",
      "       [1.],\n",
      "       [0.],\n",
      "       [0.],\n",
      "       [1.],\n",
      "       [1.],\n",
      "       [0.],\n",
      "       [0.],\n",
      "       [1.],\n",
      "       [1.],\n",
      "       [1.],\n",
      "       [1.],\n",
      "       [0.]])>}\n",
      "{'output_binary': <tf.Tensor: shape=(16, 1), dtype=float64, numpy=\n",
      "array([[0.],\n",
      "       [0.],\n",
      "       [0.],\n",
      "       [1.],\n",
      "       [1.],\n",
      "       [0.],\n",
      "       [0.],\n",
      "       [1.],\n",
      "       [1.],\n",
      "       [1.],\n",
      "       [1.],\n",
      "       [0.],\n",
      "       [0.],\n",
      "       [0.],\n",
      "       [0.],\n",
      "       [1.]])>}\n",
      "{'output_binary': <tf.Tensor: shape=(16, 1), dtype=float64, numpy=\n",
      "array([[1.],\n",
      "       [1.],\n",
      "       [0.],\n",
      "       [0.],\n",
      "       [0.],\n",
      "       [1.],\n",
      "       [1.],\n",
      "       [0.],\n",
      "       [0.],\n",
      "       [1.],\n",
      "       [0.],\n",
      "       [1.],\n",
      "       [1.],\n",
      "       [0.],\n",
      "       [0.],\n",
      "       [1.]])>}\n",
      "{'output_binary': <tf.Tensor: shape=(16, 1), dtype=float64, numpy=\n",
      "array([[1.],\n",
      "       [0.],\n",
      "       [0.],\n",
      "       [1.],\n",
      "       [1.],\n",
      "       [1.],\n",
      "       [1.],\n",
      "       [0.],\n",
      "       [0.],\n",
      "       [0.],\n",
      "       [0.],\n",
      "       [1.],\n",
      "       [1.],\n",
      "       [1.],\n",
      "       [1.],\n",
      "       [1.]])>}\n",
      "{'output_binary': <tf.Tensor: shape=(16, 1), dtype=float64, numpy=\n",
      "array([[0.],\n",
      "       [0.],\n",
      "       [0.],\n",
      "       [0.],\n",
      "       [0.],\n",
      "       [1.],\n",
      "       [0.],\n",
      "       [1.],\n",
      "       [1.],\n",
      "       [0.],\n",
      "       [0.],\n",
      "       [1.],\n",
      "       [1.],\n",
      "       [0.],\n",
      "       [0.],\n",
      "       [1.]])>}\n",
      "{'output_binary': <tf.Tensor: shape=(16, 1), dtype=float64, numpy=\n",
      "array([[1.],\n",
      "       [1.],\n",
      "       [0.],\n",
      "       [0.],\n",
      "       [0.],\n",
      "       [1.],\n",
      "       [1.],\n",
      "       [0.],\n",
      "       [0.],\n",
      "       [1.],\n",
      "       [0.],\n",
      "       [1.],\n",
      "       [0.],\n",
      "       [1.],\n",
      "       [1.],\n",
      "       [0.]])>}\n",
      "{'output_binary': <tf.Tensor: shape=(16, 1), dtype=float64, numpy=\n",
      "array([[0.],\n",
      "       [1.],\n",
      "       [0.],\n",
      "       [1.],\n",
      "       [1.],\n",
      "       [0.],\n",
      "       [0.],\n",
      "       [1.],\n",
      "       [1.],\n",
      "       [0.],\n",
      "       [0.],\n",
      "       [1.],\n",
      "       [0.],\n",
      "       [1.],\n",
      "       [1.],\n",
      "       [1.]])>}\n",
      "{'output_binary': <tf.Tensor: shape=(16, 1), dtype=float64, numpy=\n",
      "array([[0.],\n",
      "       [0.],\n",
      "       [0.],\n",
      "       [1.],\n",
      "       [0.],\n",
      "       [1.],\n",
      "       [1.],\n",
      "       [0.],\n",
      "       [0.],\n",
      "       [1.],\n",
      "       [0.],\n",
      "       [1.],\n",
      "       [0.],\n",
      "       [1.],\n",
      "       [0.],\n",
      "       [1.]])>}\n",
      "{'output_binary': <tf.Tensor: shape=(16, 1), dtype=float64, numpy=\n",
      "array([[1.],\n",
      "       [0.],\n",
      "       [0.],\n",
      "       [1.],\n",
      "       [0.],\n",
      "       [1.],\n",
      "       [0.],\n",
      "       [1.],\n",
      "       [1.],\n",
      "       [1.],\n",
      "       [0.],\n",
      "       [0.],\n",
      "       [0.],\n",
      "       [1.],\n",
      "       [0.],\n",
      "       [1.]])>}\n",
      "{'output_binary': <tf.Tensor: shape=(16, 1), dtype=float64, numpy=\n",
      "array([[1.],\n",
      "       [1.],\n",
      "       [1.],\n",
      "       [0.],\n",
      "       [0.],\n",
      "       [0.],\n",
      "       [1.],\n",
      "       [0.],\n",
      "       [1.],\n",
      "       [0.],\n",
      "       [1.],\n",
      "       [0.],\n",
      "       [1.],\n",
      "       [1.],\n",
      "       [0.],\n",
      "       [0.]])>}\n",
      "{'output_binary': <tf.Tensor: shape=(16, 1), dtype=float64, numpy=\n",
      "array([[1.],\n",
      "       [1.],\n",
      "       [1.],\n",
      "       [0.],\n",
      "       [0.],\n",
      "       [0.],\n",
      "       [1.],\n",
      "       [1.],\n",
      "       [1.],\n",
      "       [0.],\n",
      "       [0.],\n",
      "       [0.],\n",
      "       [1.],\n",
      "       [1.],\n",
      "       [0.],\n",
      "       [0.]])>}\n",
      "{'output_binary': <tf.Tensor: shape=(16, 1), dtype=float64, numpy=\n",
      "array([[1.],\n",
      "       [0.],\n",
      "       [1.],\n",
      "       [0.],\n",
      "       [1.],\n",
      "       [1.],\n",
      "       [0.],\n",
      "       [0.],\n",
      "       [1.],\n",
      "       [0.],\n",
      "       [1.],\n",
      "       [0.],\n",
      "       [1.],\n",
      "       [0.],\n",
      "       [1.],\n",
      "       [0.]])>}\n",
      "{'output_binary': <tf.Tensor: shape=(16, 1), dtype=float64, numpy=\n",
      "array([[1.],\n",
      "       [1.],\n",
      "       [0.],\n",
      "       [0.],\n",
      "       [1.],\n",
      "       [1.],\n",
      "       [0.],\n",
      "       [0.],\n",
      "       [1.],\n",
      "       [1.],\n",
      "       [1.],\n",
      "       [1.],\n",
      "       [0.],\n",
      "       [0.],\n",
      "       [0.],\n",
      "       [0.]])>}\n",
      "{'output_binary': <tf.Tensor: shape=(16, 1), dtype=float64, numpy=\n",
      "array([[1.],\n",
      "       [0.],\n",
      "       [1.],\n",
      "       [1.],\n",
      "       [1.],\n",
      "       [0.],\n",
      "       [0.],\n",
      "       [0.],\n",
      "       [1.],\n",
      "       [0.],\n",
      "       [1.],\n",
      "       [1.],\n",
      "       [1.],\n",
      "       [0.],\n",
      "       [0.],\n",
      "       [0.]])>}\n",
      "{'output_binary': <tf.Tensor: shape=(16, 1), dtype=float64, numpy=\n",
      "array([[1.],\n",
      "       [1.],\n",
      "       [0.],\n",
      "       [0.],\n",
      "       [1.],\n",
      "       [1.],\n",
      "       [1.],\n",
      "       [0.],\n",
      "       [0.],\n",
      "       [0.],\n",
      "       [1.],\n",
      "       [1.],\n",
      "       [0.],\n",
      "       [0.],\n",
      "       [1.],\n",
      "       [1.]])>}\n",
      "{'output_binary': <tf.Tensor: shape=(16, 1), dtype=float64, numpy=\n",
      "array([[1.],\n",
      "       [0.],\n",
      "       [0.],\n",
      "       [0.],\n",
      "       [1.],\n",
      "       [0.],\n",
      "       [1.],\n",
      "       [1.],\n",
      "       [0.],\n",
      "       [0.],\n",
      "       [1.],\n",
      "       [1.],\n",
      "       [1.],\n",
      "       [0.],\n",
      "       [0.],\n",
      "       [0.]])>}\n",
      "{'output_binary': <tf.Tensor: shape=(16, 1), dtype=float64, numpy=\n",
      "array([[1.],\n",
      "       [0.],\n",
      "       [1.],\n",
      "       [1.],\n",
      "       [0.],\n",
      "       [0.],\n",
      "       [1.],\n",
      "       [0.],\n",
      "       [1.],\n",
      "       [1.],\n",
      "       [0.],\n",
      "       [0.],\n",
      "       [1.],\n",
      "       [1.],\n",
      "       [0.],\n",
      "       [0.]])>}\n",
      "{'output_binary': <tf.Tensor: shape=(16, 1), dtype=float64, numpy=\n",
      "array([[1.],\n",
      "       [1.],\n",
      "       [1.],\n",
      "       [0.],\n",
      "       [0.],\n",
      "       [0.],\n",
      "       [1.],\n",
      "       [0.],\n",
      "       [1.],\n",
      "       [0.],\n",
      "       [1.],\n",
      "       [0.],\n",
      "       [1.],\n",
      "       [1.],\n",
      "       [0.],\n",
      "       [0.]])>}\n",
      "{'output_binary': <tf.Tensor: shape=(16, 1), dtype=float64, numpy=\n",
      "array([[1.],\n",
      "       [1.],\n",
      "       [1.],\n",
      "       [1.],\n",
      "       [0.],\n",
      "       [0.],\n",
      "       [0.],\n",
      "       [0.],\n",
      "       [1.],\n",
      "       [1.],\n",
      "       [0.],\n",
      "       [0.],\n",
      "       [1.],\n",
      "       [1.],\n",
      "       [1.],\n",
      "       [1.]])>}\n"
     ]
    },
    {
     "name": "stdout",
     "output_type": "stream",
     "text": [
      "{'output_binary': <tf.Tensor: shape=(16, 1), dtype=float64, numpy=\n",
      "array([[1.],\n",
      "       [0.],\n",
      "       [0.],\n",
      "       [0.],\n",
      "       [0.],\n",
      "       [0.],\n",
      "       [1.],\n",
      "       [0.],\n",
      "       [1.],\n",
      "       [1.],\n",
      "       [1.],\n",
      "       [0.],\n",
      "       [0.],\n",
      "       [0.],\n",
      "       [1.],\n",
      "       [1.]])>}\n",
      "{'output_binary': <tf.Tensor: shape=(16, 1), dtype=float64, numpy=\n",
      "array([[0.],\n",
      "       [0.],\n",
      "       [1.],\n",
      "       [1.],\n",
      "       [1.],\n",
      "       [0.],\n",
      "       [0.],\n",
      "       [0.],\n",
      "       [1.],\n",
      "       [1.],\n",
      "       [1.],\n",
      "       [0.],\n",
      "       [0.],\n",
      "       [0.],\n",
      "       [1.],\n",
      "       [1.]])>}\n",
      "{'output_binary': <tf.Tensor: shape=(16, 1), dtype=float64, numpy=\n",
      "array([[1.],\n",
      "       [1.],\n",
      "       [0.],\n",
      "       [0.],\n",
      "       [0.],\n",
      "       [0.],\n",
      "       [1.],\n",
      "       [1.],\n",
      "       [1.],\n",
      "       [1.],\n",
      "       [0.],\n",
      "       [0.],\n",
      "       [0.],\n",
      "       [1.],\n",
      "       [1.],\n",
      "       [0.]])>}\n",
      "{'output_binary': <tf.Tensor: shape=(16, 1), dtype=float64, numpy=\n",
      "array([[0.],\n",
      "       [1.],\n",
      "       [0.],\n",
      "       [1.],\n",
      "       [0.],\n",
      "       [1.],\n",
      "       [0.],\n",
      "       [1.],\n",
      "       [0.],\n",
      "       [1.],\n",
      "       [1.],\n",
      "       [1.],\n",
      "       [0.],\n",
      "       [0.],\n",
      "       [0.],\n",
      "       [1.]])>}\n",
      "{'output_binary': <tf.Tensor: shape=(16, 1), dtype=float64, numpy=\n",
      "array([[1.],\n",
      "       [0.],\n",
      "       [0.],\n",
      "       [1.],\n",
      "       [1.],\n",
      "       [0.],\n",
      "       [0.],\n",
      "       [1.],\n",
      "       [1.],\n",
      "       [1.],\n",
      "       [0.],\n",
      "       [0.],\n",
      "       [0.],\n",
      "       [1.],\n",
      "       [0.],\n",
      "       [1.]])>}\n",
      "{'output_binary': <tf.Tensor: shape=(16, 1), dtype=float64, numpy=\n",
      "array([[1.],\n",
      "       [0.],\n",
      "       [0.],\n",
      "       [1.],\n",
      "       [1.],\n",
      "       [0.],\n",
      "       [0.],\n",
      "       [1.],\n",
      "       [0.],\n",
      "       [1.],\n",
      "       [1.],\n",
      "       [0.],\n",
      "       [0.],\n",
      "       [1.],\n",
      "       [0.],\n",
      "       [1.]])>}\n",
      "{'output_binary': <tf.Tensor: shape=(16, 1), dtype=float64, numpy=\n",
      "array([[0.],\n",
      "       [1.],\n",
      "       [1.],\n",
      "       [0.],\n",
      "       [0.],\n",
      "       [1.],\n",
      "       [0.],\n",
      "       [1.],\n",
      "       [0.],\n",
      "       [1.],\n",
      "       [1.],\n",
      "       [0.],\n",
      "       [0.],\n",
      "       [1.],\n",
      "       [1.],\n",
      "       [1.]])>}\n",
      "{'output_binary': <tf.Tensor: shape=(16, 1), dtype=float64, numpy=\n",
      "array([[0.],\n",
      "       [0.],\n",
      "       [0.],\n",
      "       [1.],\n",
      "       [0.],\n",
      "       [1.],\n",
      "       [1.],\n",
      "       [1.],\n",
      "       [0.],\n",
      "       [0.],\n",
      "       [1.],\n",
      "       [1.],\n",
      "       [0.],\n",
      "       [0.],\n",
      "       [1.],\n",
      "       [1.]])>}\n",
      "{'output_binary': <tf.Tensor: shape=(16, 1), dtype=float64, numpy=\n",
      "array([[0.],\n",
      "       [0.],\n",
      "       [1.],\n",
      "       [1.],\n",
      "       [1.],\n",
      "       [1.],\n",
      "       [1.],\n",
      "       [0.],\n",
      "       [0.],\n",
      "       [0.],\n",
      "       [0.],\n",
      "       [0.],\n",
      "       [1.],\n",
      "       [1.],\n",
      "       [1.],\n",
      "       [1.]])>}\n",
      "{'output_binary': <tf.Tensor: shape=(16, 1), dtype=float64, numpy=\n",
      "array([[1.],\n",
      "       [0.],\n",
      "       [0.],\n",
      "       [0.],\n",
      "       [0.],\n",
      "       [0.],\n",
      "       [1.],\n",
      "       [0.],\n",
      "       [1.],\n",
      "       [1.],\n",
      "       [0.],\n",
      "       [0.],\n",
      "       [1.],\n",
      "       [1.],\n",
      "       [1.],\n",
      "       [0.]])>}\n",
      "{'output_binary': <tf.Tensor: shape=(16, 1), dtype=float64, numpy=\n",
      "array([[0.],\n",
      "       [0.],\n",
      "       [1.],\n",
      "       [1.],\n",
      "       [1.],\n",
      "       [0.],\n",
      "       [0.],\n",
      "       [0.],\n",
      "       [1.],\n",
      "       [1.],\n",
      "       [0.],\n",
      "       [0.],\n",
      "       [1.],\n",
      "       [1.],\n",
      "       [1.],\n",
      "       [0.]])>}\n",
      "{'output_binary': <tf.Tensor: shape=(16, 1), dtype=float64, numpy=\n",
      "array([[0.],\n",
      "       [0.],\n",
      "       [1.],\n",
      "       [0.],\n",
      "       [1.],\n",
      "       [1.],\n",
      "       [1.],\n",
      "       [0.],\n",
      "       [0.],\n",
      "       [0.],\n",
      "       [1.],\n",
      "       [1.],\n",
      "       [0.],\n",
      "       [0.],\n",
      "       [1.],\n",
      "       [1.]])>}\n",
      "{'output_binary': <tf.Tensor: shape=(16, 1), dtype=float64, numpy=\n",
      "array([[1.],\n",
      "       [1.],\n",
      "       [0.],\n",
      "       [0.],\n",
      "       [0.],\n",
      "       [0.],\n",
      "       [1.],\n",
      "       [0.],\n",
      "       [1.],\n",
      "       [1.],\n",
      "       [1.],\n",
      "       [1.],\n",
      "       [0.],\n",
      "       [0.],\n",
      "       [0.],\n",
      "       [0.]])>}\n",
      "{'output_binary': <tf.Tensor: shape=(16, 1), dtype=float64, numpy=\n",
      "array([[1.],\n",
      "       [1.],\n",
      "       [0.],\n",
      "       [0.],\n",
      "       [1.],\n",
      "       [1.],\n",
      "       [1.],\n",
      "       [0.],\n",
      "       [0.],\n",
      "       [0.],\n",
      "       [1.],\n",
      "       [1.],\n",
      "       [0.],\n",
      "       [0.],\n",
      "       [1.],\n",
      "       [1.]])>}\n",
      "{'output_binary': <tf.Tensor: shape=(16, 1), dtype=float64, numpy=\n",
      "array([[1.],\n",
      "       [0.],\n",
      "       [0.],\n",
      "       [0.],\n",
      "       [1.],\n",
      "       [0.],\n",
      "       [1.],\n",
      "       [0.],\n",
      "       [1.],\n",
      "       [0.],\n",
      "       [1.],\n",
      "       [0.],\n",
      "       [1.],\n",
      "       [0.],\n",
      "       [1.],\n",
      "       [1.]])>}\n",
      "{'output_binary': <tf.Tensor: shape=(16, 1), dtype=float64, numpy=\n",
      "array([[1.],\n",
      "       [0.],\n",
      "       [0.],\n",
      "       [0.],\n",
      "       [1.],\n",
      "       [1.],\n",
      "       [1.],\n",
      "       [1.],\n",
      "       [1.],\n",
      "       [0.],\n",
      "       [0.],\n",
      "       [0.],\n",
      "       [0.],\n",
      "       [1.],\n",
      "       [1.],\n",
      "       [1.]])>}\n",
      "{'output_binary': <tf.Tensor: shape=(16, 1), dtype=float64, numpy=\n",
      "array([[0.],\n",
      "       [0.],\n",
      "       [0.],\n",
      "       [1.],\n",
      "       [1.],\n",
      "       [0.],\n",
      "       [0.],\n",
      "       [1.],\n",
      "       [1.],\n",
      "       [0.],\n",
      "       [0.],\n",
      "       [1.],\n",
      "       [1.],\n",
      "       [0.],\n",
      "       [0.],\n",
      "       [1.]])>}\n",
      "{'output_binary': <tf.Tensor: shape=(16, 1), dtype=float64, numpy=\n",
      "array([[1.],\n",
      "       [1.],\n",
      "       [1.],\n",
      "       [0.],\n",
      "       [0.],\n",
      "       [0.],\n",
      "       [0.],\n",
      "       [1.],\n",
      "       [0.],\n",
      "       [1.],\n",
      "       [1.],\n",
      "       [1.],\n",
      "       [1.],\n",
      "       [0.],\n",
      "       [0.],\n",
      "       [0.]])>}\n",
      "{'output_binary': <tf.Tensor: shape=(16, 1), dtype=float64, numpy=\n",
      "array([[1.],\n",
      "       [0.],\n",
      "       [1.],\n",
      "       [1.],\n",
      "       [1.],\n",
      "       [0.],\n",
      "       [0.],\n",
      "       [0.],\n",
      "       [1.],\n",
      "       [1.],\n",
      "       [0.],\n",
      "       [0.],\n",
      "       [1.],\n",
      "       [1.],\n",
      "       [1.],\n",
      "       [1.]])>}\n",
      "{'output_binary': <tf.Tensor: shape=(16, 1), dtype=float64, numpy=\n",
      "array([[0.],\n",
      "       [0.],\n",
      "       [0.],\n",
      "       [0.],\n",
      "       [1.],\n",
      "       [1.],\n",
      "       [0.],\n",
      "       [0.],\n",
      "       [1.],\n",
      "       [0.],\n",
      "       [1.],\n",
      "       [1.],\n",
      "       [0.],\n",
      "       [0.],\n",
      "       [1.],\n",
      "       [1.]])>}\n",
      "{'output_binary': <tf.Tensor: shape=(16, 1), dtype=float64, numpy=\n",
      "array([[0.],\n",
      "       [0.],\n",
      "       [1.],\n",
      "       [0.],\n",
      "       [1.],\n",
      "       [0.],\n",
      "       [1.],\n",
      "       [0.],\n",
      "       [1.],\n",
      "       [1.],\n",
      "       [1.],\n",
      "       [0.],\n",
      "       [0.],\n",
      "       [0.],\n",
      "       [1.],\n",
      "       [1.]])>}\n",
      "{'output_binary': <tf.Tensor: shape=(16, 1), dtype=float64, numpy=\n",
      "array([[1.],\n",
      "       [0.],\n",
      "       [0.],\n",
      "       [0.],\n",
      "       [1.],\n",
      "       [1.],\n",
      "       [1.],\n",
      "       [1.],\n",
      "       [0.],\n",
      "       [0.],\n",
      "       [0.],\n",
      "       [0.],\n",
      "       [1.],\n",
      "       [1.],\n",
      "       [1.],\n",
      "       [0.]])>}\n",
      "{'output_binary': <tf.Tensor: shape=(16, 1), dtype=float64, numpy=\n",
      "array([[0.],\n",
      "       [0.],\n",
      "       [1.],\n",
      "       [1.],\n",
      "       [0.],\n",
      "       [0.],\n",
      "       [1.],\n",
      "       [0.],\n",
      "       [1.],\n",
      "       [0.],\n",
      "       [1.],\n",
      "       [0.],\n",
      "       [1.],\n",
      "       [0.],\n",
      "       [1.],\n",
      "       [0.]])>}\n",
      "{'output_binary': <tf.Tensor: shape=(16, 1), dtype=float64, numpy=\n",
      "array([[1.],\n",
      "       [1.],\n",
      "       [0.],\n",
      "       [0.],\n",
      "       [1.],\n",
      "       [1.],\n",
      "       [0.],\n",
      "       [0.],\n",
      "       [1.],\n",
      "       [1.],\n",
      "       [0.],\n",
      "       [0.],\n",
      "       [1.],\n",
      "       [1.],\n",
      "       [1.],\n",
      "       [1.]])>}\n",
      "{'output_binary': <tf.Tensor: shape=(16, 1), dtype=float64, numpy=\n",
      "array([[0.],\n",
      "       [0.],\n",
      "       [0.],\n",
      "       [0.],\n",
      "       [1.],\n",
      "       [0.],\n",
      "       [1.],\n",
      "       [0.],\n",
      "       [1.],\n",
      "       [0.],\n",
      "       [1.],\n",
      "       [1.],\n",
      "       [1.],\n",
      "       [0.],\n",
      "       [0.],\n",
      "       [0.]])>}\n",
      "{'output_binary': <tf.Tensor: shape=(16, 1), dtype=float64, numpy=\n",
      "array([[1.],\n",
      "       [0.],\n",
      "       [1.],\n",
      "       [1.],\n",
      "       [1.],\n",
      "       [1.],\n",
      "       [0.],\n",
      "       [0.],\n",
      "       [0.],\n",
      "       [0.],\n",
      "       [1.],\n",
      "       [1.],\n",
      "       [1.],\n",
      "       [0.],\n",
      "       [0.],\n",
      "       [0.]])>}\n",
      "{'output_binary': <tf.Tensor: shape=(16, 1), dtype=float64, numpy=\n",
      "array([[1.],\n",
      "       [0.],\n",
      "       [1.],\n",
      "       [0.],\n",
      "       [1.],\n",
      "       [1.],\n",
      "       [0.],\n",
      "       [0.],\n",
      "       [1.],\n",
      "       [1.],\n",
      "       [0.],\n",
      "       [0.],\n",
      "       [1.],\n",
      "       [1.],\n",
      "       [0.],\n",
      "       [0.]])>}\n",
      "{'output_binary': <tf.Tensor: shape=(16, 1), dtype=float64, numpy=\n",
      "array([[1.],\n",
      "       [0.],\n",
      "       [1.],\n",
      "       [1.],\n",
      "       [0.],\n",
      "       [0.],\n",
      "       [1.],\n",
      "       [1.],\n",
      "       [1.],\n",
      "       [1.],\n",
      "       [1.],\n",
      "       [1.],\n",
      "       [1.],\n",
      "       [0.],\n",
      "       [0.],\n",
      "       [0.]])>}\n",
      "{'output_binary': <tf.Tensor: shape=(16, 1), dtype=float64, numpy=\n",
      "array([[0.],\n",
      "       [0.],\n",
      "       [0.],\n",
      "       [1.],\n",
      "       [1.],\n",
      "       [1.],\n",
      "       [0.],\n",
      "       [0.],\n",
      "       [0.],\n",
      "       [1.],\n",
      "       [1.],\n",
      "       [1.],\n",
      "       [0.],\n",
      "       [0.],\n",
      "       [0.],\n",
      "       [1.]])>}\n",
      "{'output_binary': <tf.Tensor: shape=(16, 1), dtype=float64, numpy=\n",
      "array([[0.],\n",
      "       [1.],\n",
      "       [0.],\n",
      "       [1.],\n",
      "       [1.],\n",
      "       [1.],\n",
      "       [0.],\n",
      "       [0.],\n",
      "       [0.],\n",
      "       [1.],\n",
      "       [0.],\n",
      "       [1.],\n",
      "       [0.],\n",
      "       [1.],\n",
      "       [1.],\n",
      "       [0.]])>}\n",
      "{'output_binary': <tf.Tensor: shape=(16, 1), dtype=float64, numpy=\n",
      "array([[0.],\n",
      "       [1.],\n",
      "       [0.],\n",
      "       [1.],\n",
      "       [1.],\n",
      "       [1.],\n",
      "       [1.],\n",
      "       [0.],\n",
      "       [0.],\n",
      "       [0.],\n",
      "       [0.],\n",
      "       [1.],\n",
      "       [1.],\n",
      "       [0.],\n",
      "       [0.],\n",
      "       [1.]])>}\n",
      "{'output_binary': <tf.Tensor: shape=(16, 1), dtype=float64, numpy=\n",
      "array([[1.],\n",
      "       [0.],\n",
      "       [0.],\n",
      "       [1.],\n",
      "       [1.],\n",
      "       [0.],\n",
      "       [0.],\n",
      "       [1.],\n",
      "       [1.],\n",
      "       [1.],\n",
      "       [0.],\n",
      "       [0.],\n",
      "       [0.],\n",
      "       [1.],\n",
      "       [0.],\n",
      "       [1.]])>}\n"
     ]
    },
    {
     "name": "stdout",
     "output_type": "stream",
     "text": [
      "{'output_binary': <tf.Tensor: shape=(16, 1), dtype=float64, numpy=\n",
      "array([[0.],\n",
      "       [1.],\n",
      "       [0.],\n",
      "       [1.],\n",
      "       [0.],\n",
      "       [1.],\n",
      "       [0.],\n",
      "       [1.],\n",
      "       [1.],\n",
      "       [0.],\n",
      "       [0.],\n",
      "       [1.],\n",
      "       [0.],\n",
      "       [1.],\n",
      "       [0.],\n",
      "       [1.]])>}\n",
      "{'output_binary': <tf.Tensor: shape=(16, 1), dtype=float64, numpy=\n",
      "array([[0.],\n",
      "       [1.],\n",
      "       [1.],\n",
      "       [0.],\n",
      "       [0.],\n",
      "       [1.],\n",
      "       [1.],\n",
      "       [1.],\n",
      "       [0.],\n",
      "       [0.],\n",
      "       [0.],\n",
      "       [1.],\n",
      "       [1.],\n",
      "       [0.],\n",
      "       [0.],\n",
      "       [1.]])>}\n",
      "{'output_binary': <tf.Tensor: shape=(16, 1), dtype=float64, numpy=\n",
      "array([[0.],\n",
      "       [1.],\n",
      "       [0.],\n",
      "       [1.],\n",
      "       [1.],\n",
      "       [0.],\n",
      "       [0.],\n",
      "       [1.],\n",
      "       [1.],\n",
      "       [0.],\n",
      "       [0.],\n",
      "       [1.],\n",
      "       [1.],\n",
      "       [0.],\n",
      "       [0.],\n",
      "       [1.]])>}\n",
      "{'output_binary': <tf.Tensor: shape=(16, 1), dtype=float64, numpy=\n",
      "array([[1.],\n",
      "       [0.],\n",
      "       [0.],\n",
      "       [1.],\n",
      "       [0.],\n",
      "       [1.],\n",
      "       [1.],\n",
      "       [1.],\n",
      "       [0.],\n",
      "       [0.],\n",
      "       [0.],\n",
      "       [1.],\n",
      "       [0.],\n",
      "       [1.],\n",
      "       [0.],\n",
      "       [1.]])>}\n",
      "{'output_binary': <tf.Tensor: shape=(16, 1), dtype=float64, numpy=\n",
      "array([[0.],\n",
      "       [1.],\n",
      "       [0.],\n",
      "       [1.],\n",
      "       [0.],\n",
      "       [1.],\n",
      "       [0.],\n",
      "       [1.],\n",
      "       [0.],\n",
      "       [1.],\n",
      "       [1.],\n",
      "       [0.],\n",
      "       [0.],\n",
      "       [1.],\n",
      "       [0.],\n",
      "       [1.]])>}\n"
     ]
    },
    {
     "ename": "KeyboardInterrupt",
     "evalue": "",
     "output_type": "error",
     "traceback": [
      "\u001b[0;31m-----------------------------------------------------\u001b[0m",
      "\u001b[0;31mKeyboardInterrupt\u001b[0m   Traceback (most recent call last)",
      "\u001b[0;32m<ipython-input-4-88d65b227c9d>\u001b[0m in \u001b[0;36m<module>\u001b[0;34m\u001b[0m\n\u001b[0;32m----> 1\u001b[0;31m \u001b[0;32mfor\u001b[0m \u001b[0mitems\u001b[0m \u001b[0;32min\u001b[0m \u001b[0mlstm_dataset\u001b[0m\u001b[0;34m:\u001b[0m\u001b[0;34m\u001b[0m\u001b[0;34m\u001b[0m\u001b[0m\n\u001b[0m\u001b[1;32m      2\u001b[0m     \u001b[0mprint\u001b[0m\u001b[0;34m(\u001b[0m\u001b[0mitems\u001b[0m\u001b[0;34m[\u001b[0m\u001b[0;36m1\u001b[0m\u001b[0;34m]\u001b[0m\u001b[0;34m)\u001b[0m\u001b[0;34m\u001b[0m\u001b[0;34m\u001b[0m\u001b[0m\n",
      "\u001b[0;32m~/ml/lib/python3.6/site-packages/tensorflow/python/data/ops/iterator_ops.py\u001b[0m in \u001b[0;36m__next__\u001b[0;34m(self)\u001b[0m\n\u001b[1;32m    734\u001b[0m \u001b[0;34m\u001b[0m\u001b[0m\n\u001b[1;32m    735\u001b[0m   \u001b[0;32mdef\u001b[0m \u001b[0m__next__\u001b[0m\u001b[0;34m(\u001b[0m\u001b[0mself\u001b[0m\u001b[0;34m)\u001b[0m\u001b[0;34m:\u001b[0m  \u001b[0;31m# For Python 3 compatibility\u001b[0m\u001b[0;34m\u001b[0m\u001b[0;34m\u001b[0m\u001b[0m\n\u001b[0;32m--> 736\u001b[0;31m     \u001b[0;32mreturn\u001b[0m \u001b[0mself\u001b[0m\u001b[0;34m.\u001b[0m\u001b[0mnext\u001b[0m\u001b[0;34m(\u001b[0m\u001b[0;34m)\u001b[0m\u001b[0;34m\u001b[0m\u001b[0;34m\u001b[0m\u001b[0m\n\u001b[0m\u001b[1;32m    737\u001b[0m \u001b[0;34m\u001b[0m\u001b[0m\n\u001b[1;32m    738\u001b[0m   \u001b[0;32mdef\u001b[0m \u001b[0m_next_internal\u001b[0m\u001b[0;34m(\u001b[0m\u001b[0mself\u001b[0m\u001b[0;34m)\u001b[0m\u001b[0;34m:\u001b[0m\u001b[0;34m\u001b[0m\u001b[0;34m\u001b[0m\u001b[0m\n",
      "\u001b[0;32m~/ml/lib/python3.6/site-packages/tensorflow/python/data/ops/iterator_ops.py\u001b[0m in \u001b[0;36mnext\u001b[0;34m(self)\u001b[0m\n\u001b[1;32m    770\u001b[0m   \u001b[0;32mdef\u001b[0m \u001b[0mnext\u001b[0m\u001b[0;34m(\u001b[0m\u001b[0mself\u001b[0m\u001b[0;34m)\u001b[0m\u001b[0;34m:\u001b[0m\u001b[0;34m\u001b[0m\u001b[0;34m\u001b[0m\u001b[0m\n\u001b[1;32m    771\u001b[0m     \u001b[0;32mtry\u001b[0m\u001b[0;34m:\u001b[0m\u001b[0;34m\u001b[0m\u001b[0;34m\u001b[0m\u001b[0m\n\u001b[0;32m--> 772\u001b[0;31m       \u001b[0;32mreturn\u001b[0m \u001b[0mself\u001b[0m\u001b[0;34m.\u001b[0m\u001b[0m_next_internal\u001b[0m\u001b[0;34m(\u001b[0m\u001b[0;34m)\u001b[0m\u001b[0;34m\u001b[0m\u001b[0;34m\u001b[0m\u001b[0m\n\u001b[0m\u001b[1;32m    773\u001b[0m     \u001b[0;32mexcept\u001b[0m \u001b[0merrors\u001b[0m\u001b[0;34m.\u001b[0m\u001b[0mOutOfRangeError\u001b[0m\u001b[0;34m:\u001b[0m\u001b[0;34m\u001b[0m\u001b[0;34m\u001b[0m\u001b[0m\n\u001b[1;32m    774\u001b[0m       \u001b[0;32mraise\u001b[0m \u001b[0mStopIteration\u001b[0m\u001b[0;34m\u001b[0m\u001b[0;34m\u001b[0m\u001b[0m\n",
      "\u001b[0;32m~/ml/lib/python3.6/site-packages/tensorflow/python/data/ops/iterator_ops.py\u001b[0m in \u001b[0;36m_next_internal\u001b[0;34m(self)\u001b[0m\n\u001b[1;32m    756\u001b[0m             \u001b[0mself\u001b[0m\u001b[0;34m.\u001b[0m\u001b[0m_iterator_resource\u001b[0m\u001b[0;34m,\u001b[0m\u001b[0;34m\u001b[0m\u001b[0;34m\u001b[0m\u001b[0m\n\u001b[1;32m    757\u001b[0m             \u001b[0moutput_types\u001b[0m\u001b[0;34m=\u001b[0m\u001b[0mself\u001b[0m\u001b[0;34m.\u001b[0m\u001b[0m_flat_output_types\u001b[0m\u001b[0;34m,\u001b[0m\u001b[0;34m\u001b[0m\u001b[0;34m\u001b[0m\u001b[0m\n\u001b[0;32m--> 758\u001b[0;31m             output_shapes=self._flat_output_shapes)\n\u001b[0m\u001b[1;32m    759\u001b[0m \u001b[0;34m\u001b[0m\u001b[0m\n\u001b[1;32m    760\u001b[0m       \u001b[0;32mtry\u001b[0m\u001b[0;34m:\u001b[0m\u001b[0;34m\u001b[0m\u001b[0;34m\u001b[0m\u001b[0m\n",
      "\u001b[0;32m~/ml/lib/python3.6/site-packages/tensorflow/python/ops/gen_dataset_ops.py\u001b[0m in \u001b[0;36miterator_get_next\u001b[0;34m(iterator, output_types, output_shapes, name)\u001b[0m\n\u001b[1;32m   2605\u001b[0m         \u001b[0m_ctx\u001b[0m\u001b[0;34m.\u001b[0m\u001b[0m_context_handle\u001b[0m\u001b[0;34m,\u001b[0m \u001b[0mtld\u001b[0m\u001b[0;34m.\u001b[0m\u001b[0mdevice_name\u001b[0m\u001b[0;34m,\u001b[0m \u001b[0;34m\"IteratorGetNext\"\u001b[0m\u001b[0;34m,\u001b[0m \u001b[0mname\u001b[0m\u001b[0;34m,\u001b[0m\u001b[0;34m\u001b[0m\u001b[0;34m\u001b[0m\u001b[0m\n\u001b[1;32m   2606\u001b[0m         \u001b[0mtld\u001b[0m\u001b[0;34m.\u001b[0m\u001b[0mop_callbacks\u001b[0m\u001b[0;34m,\u001b[0m \u001b[0miterator\u001b[0m\u001b[0;34m,\u001b[0m \u001b[0;34m\"output_types\"\u001b[0m\u001b[0;34m,\u001b[0m \u001b[0moutput_types\u001b[0m\u001b[0;34m,\u001b[0m\u001b[0;34m\u001b[0m\u001b[0;34m\u001b[0m\u001b[0m\n\u001b[0;32m-> 2607\u001b[0;31m         \"output_shapes\", output_shapes)\n\u001b[0m\u001b[1;32m   2608\u001b[0m       \u001b[0;32mreturn\u001b[0m \u001b[0m_result\u001b[0m\u001b[0;34m\u001b[0m\u001b[0;34m\u001b[0m\u001b[0m\n\u001b[1;32m   2609\u001b[0m     \u001b[0;32mexcept\u001b[0m \u001b[0m_core\u001b[0m\u001b[0;34m.\u001b[0m\u001b[0m_NotOkStatusException\u001b[0m \u001b[0;32mas\u001b[0m \u001b[0me\u001b[0m\u001b[0;34m:\u001b[0m\u001b[0;34m\u001b[0m\u001b[0;34m\u001b[0m\u001b[0m\n",
      "\u001b[0;31mKeyboardInterrupt\u001b[0m: "
     ]
    }
   ],
   "source": [
    "for items in lstm_dataset:\n",
    "    print(items[1])"
   ]
  },
  {
   "cell_type": "code",
   "execution_count": 39,
   "metadata": {
    "colab": {
     "base_uri": "https://localhost:8080/",
     "height": 34
    },
    "colab_type": "code",
    "id": "zMkC0VFdhZNf",
    "outputId": "05fe3ff7-7adf-411a-ebf9-e663c4443b10"
   },
   "outputs": [
    {
     "name": "stdout",
     "output_type": "stream",
     "text": [
      "<tensorflow.python.keras.engine.functional.Functional object at 0x7f7a3a744128>\n"
     ]
    }
   ],
   "source": [
    "\n",
    "\n",
    "input_lstm = tf.keras.Input(shape=(num_words, embedding_dim), name='input_1')\n",
    "input_label = tf.keras.Input(shape=(num_words_description, embedding_dim), name='input_2')\n",
    "\n",
    "patent_mask = tf.keras.layers.Masking(mask_value=0., input_shape=(num_words, embedding_dim))(input_lstm)\n",
    "label_mask = tf.keras.layers.Masking(mask_value=0., input_shape=(num_words_description, embedding_dim))(input_label)\n",
    "\n",
    "layer_size = embedding_dim*2\n",
    "patent = tf.keras.layers.Bidirectional(tf.keras.layers.LSTM(embedding_dim*2, return_sequences=True))(patent_mask)\n",
    "label = tf.keras.layers.Bidirectional(tf.keras.layers.LSTM(embedding_dim*2, return_sequences=True))(label_mask)\n",
    "\n",
    "#\n",
    "\n",
    "\n",
    "patent = tf.keras.layers.TimeDistributed(tf.keras.layers.Dense(layer_size*2))(patent)\n",
    "patent = tf.keras.layers.GlobalAveragePooling1D()(patent)\n",
    "\n",
    "label = tf.keras.layers.TimeDistributed(tf.keras.layers.Dense(layer_size*2))(label)\n",
    "label = tf.keras.layers.GlobalAveragePooling1D()(label)\n",
    "patent = tf.keras.layers.Dense(layer_size*2)(patent)\n",
    "label =  tf.keras.layers.Dense(layer_size*2)(label)\n",
    "\n",
    "#subtract = tf.keras.layers.Subtract()([patent, label])\n",
    "#multiply = tf.keras.layers.Multiply()([patent, label])\n",
    "\n",
    "concat = tf.keras.layers.Concatenate(axis=1)([label, patent])\n",
    "dense = tf.keras.layers.Dense(int(layer_size)*4)(concat)\n",
    "dense = tf.keras.layers.Dense(int(layer_size)*4)(dense)\n",
    "dense = tf.keras.layers.Dense(int(layer_size)*4, activation='relu')(dense)\n",
    "dense = tf.keras.layers.Dense(int(layer_size)*4, activation='relu')(dense)\n",
    "dense = tf.keras.layers.Dense(int(layer_size)*4, activation='relu')(dense)\n",
    "\n",
    "output_binary = tf.keras.layers.Dense(1, activation=\"sigmoid\", name='output_binary')(dense)\n",
    "\n",
    "\n",
    "#lstm_enforce_1 = tf.keras.layers.Dense(200, activation='relu')(patent_lstm)\n",
    "#lstm_enforce_2 = tf.keras.layers.Dense(1000, name='output_2')(lstm_enforce_1)\n",
    "#model = tf.keras.Model(inputs={'input_1':input_lstm, 'input_2':input_label}, outputs={'output_1':output_binary, 'output_2':lstm_enforce_2})\n",
    "model = tf.keras.Model(inputs={'input_1':input_lstm, 'input_2':input_label}, outputs=[output_binary])\n",
    "print(model)"
   ]
  },
  {
   "cell_type": "code",
   "execution_count": 6,
   "metadata": {
    "colab": {
     "base_uri": "https://localhost:8080/",
     "height": 34
    },
    "colab_type": "code",
    "id": "zf3uuOE9OYBh",
    "outputId": "a89816d0-c202-46e5-fab5-03a8489353b7"
   },
   "outputs": [
    {
     "name": "stdout",
     "output_type": "stream",
     "text": [
      "124\n"
     ]
    }
   ],
   "source": [
    "print(len(label_dict))"
   ]
  },
  {
   "cell_type": "code",
   "execution_count": 40,
   "metadata": {
    "colab": {
     "base_uri": "https://localhost:8080/",
     "height": 694
    },
    "colab_type": "code",
    "id": "awvA_Z9-hdAC",
    "outputId": "cc371ca1-4f6e-4755-ded8-f730e32aca36"
   },
   "outputs": [
    {
     "name": "stdout",
     "output_type": "stream",
     "text": [
      "Model: \"functional_7\"\n",
      "__________________________________________________________________________________________________\n",
      "Layer (type)                    Output Shape         Param #     Connected to                     \n",
      "==================================================================================================\n",
      "input_2 (InputLayer)            [(None, 100, 128)]   0                                            \n",
      "__________________________________________________________________________________________________\n",
      "input_1 (InputLayer)            [(None, 100, 128)]   0                                            \n",
      "__________________________________________________________________________________________________\n",
      "masking_7 (Masking)             (None, 100, 128)     0           input_2[0][0]                    \n",
      "__________________________________________________________________________________________________\n",
      "masking_6 (Masking)             (None, 100, 128)     0           input_1[0][0]                    \n",
      "__________________________________________________________________________________________________\n",
      "bidirectional_7 (Bidirectional) (None, 100, 512)     788480      masking_7[0][0]                  \n",
      "__________________________________________________________________________________________________\n",
      "bidirectional_6 (Bidirectional) (None, 100, 512)     788480      masking_6[0][0]                  \n",
      "__________________________________________________________________________________________________\n",
      "time_distributed_7 (TimeDistrib (None, 100, 512)     262656      bidirectional_7[0][0]            \n",
      "__________________________________________________________________________________________________\n",
      "time_distributed_6 (TimeDistrib (None, 100, 512)     262656      bidirectional_6[0][0]            \n",
      "__________________________________________________________________________________________________\n",
      "global_average_pooling1d_7 (Glo (None, 512)          0           time_distributed_7[0][0]         \n",
      "__________________________________________________________________________________________________\n",
      "global_average_pooling1d_6 (Glo (None, 512)          0           time_distributed_6[0][0]         \n",
      "__________________________________________________________________________________________________\n",
      "dense_24 (Dense)                (None, 512)          262656      global_average_pooling1d_7[0][0] \n",
      "__________________________________________________________________________________________________\n",
      "dense_23 (Dense)                (None, 512)          262656      global_average_pooling1d_6[0][0] \n",
      "__________________________________________________________________________________________________\n",
      "concatenate_3 (Concatenate)     (None, 1024)         0           dense_24[0][0]                   \n",
      "                                                                 dense_23[0][0]                   \n",
      "__________________________________________________________________________________________________\n",
      "dense_25 (Dense)                (None, 1024)         1049600     concatenate_3[0][0]              \n",
      "__________________________________________________________________________________________________\n",
      "dense_26 (Dense)                (None, 1024)         1049600     dense_25[0][0]                   \n",
      "__________________________________________________________________________________________________\n",
      "dense_27 (Dense)                (None, 1024)         1049600     dense_26[0][0]                   \n",
      "__________________________________________________________________________________________________\n",
      "dense_28 (Dense)                (None, 1024)         1049600     dense_27[0][0]                   \n",
      "__________________________________________________________________________________________________\n",
      "dense_29 (Dense)                (None, 1024)         1049600     dense_28[0][0]                   \n",
      "__________________________________________________________________________________________________\n",
      "output_binary (Dense)           (None, 1)            1025        dense_29[0][0]                   \n",
      "==================================================================================================\n",
      "Total params: 7,876,609\n",
      "Trainable params: 7,876,609\n",
      "Non-trainable params: 0\n",
      "__________________________________________________________________________________________________\n"
     ]
    }
   ],
   "source": [
    "#saver = tf.train.Saver(max_to_keep=4, keep_checkpoint_every_n_hours=2)\n",
    "#del model\n",
    "model.load_weights(directory_prefix+\"/checkpoints/doublelstmcheckpoint2.h5\")\n",
    "\n",
    "model.summary()\n",
    "opt = tf.optimizers.Adam(1e-5)\n",
    "model.compile(loss=['mse'],\n",
    "              optimizer=opt,\n",
    "              metrics=['accuracy'], experimental_run_tf_function=False)\n",
    "\n",
    "\n",
    "# Create a callback that saves the model's weights\n",
    "cp_callback = tf.keras.callbacks.ModelCheckpoint(filepath=directory_prefix+\"/checkpoints/doublelstmcheckpoint1.h5\",\n",
    "                                                 save_weights_only=False,\n",
    "                                                 verbose=1)\n",
    "\n",
    "class CustomCallback(tf.keras.callbacks.Callback):\n",
    "    def on_epoch_end(self, epoch, logs=None):\n",
    "        generate_prc()\n",
    "prc_callback = CustomCallback()"
   ]
  },
  {
   "cell_type": "code",
   "execution_count": 29,
   "metadata": {},
   "outputs": [],
   "source": [
    "def generate_prc():\n",
    "    label_len = len(label_dict_keys)\n",
    "    #print(label_len)\n",
    "    left = [label_dict[i] for i in label_dict_keys]\n",
    "    left_vectors = np.array(list(label_dict.keys()))\n",
    "    \n",
    "    predictions = []\n",
    "    label_vectors_vector = []\n",
    "    num_tests = 1000\n",
    "    for row in pd.read_csv(directory_prefix+'items2.csv',sep=',', header = None).to_numpy()[:num_tests]:\n",
    "        label, description=row[0], row[1]\n",
    "        label_vectors = [z.strip().strip('\\'\\\"')[:label_depth] for z in label.split(',')]\n",
    "        label_vectors = set([i for i in label_vectors if i in label_dict_keys])\n",
    "        if label_vectors == set():\n",
    "            continue\n",
    "        label_vectors_vector.append(label_vectors)\n",
    "        lstm_input_patent =  get_sentence_vector(description.lower(), num_words)\n",
    "        def cur_gen():\n",
    "            for i in left:\n",
    "                yield ({'input_1':lstm_input_patent, 'input_2':i})\n",
    "        dataset = tf.data.Dataset.from_generator(cur_gen, ({'input_1':tf.float64, 'input_2':tf.float64}), ({'input_1':tf.TensorShape([num_words, embedding_dim]), 'input_2':tf.TensorShape([num_words_description, embedding_dim])}))\n",
    "        dataset = dataset.batch(label_len)\n",
    "        prediction = model.predict(dataset, steps=1, verbose=0)\n",
    "        predictions.append(prediction.reshape(label_len))\n",
    "        #print(prediction.shape)\n",
    "    n = 0\n",
    "    d=0\n",
    "    ns = []\n",
    "    recalls = np.arange(0, 1.01, .01)\n",
    "    ns = []\n",
    "    for prediction, label_vectors in zip(predictions, label_vectors_vector):\n",
    "        indices = np.flip(np.argsort(prediction, axis=0))\n",
    "        e = [1 if i in label_vectors else 0 for i in left_vectors[indices]]\n",
    "        cur = []\n",
    "        total_ones = e.count(1)\n",
    "        n = 0\n",
    "        ones_seen = 0\n",
    "        while ones_seen < total_ones:\n",
    "            if e[n] == 1:\n",
    "                ones_seen = ones_seen+1\n",
    "            n = n+1\n",
    "            cur.append((ones_seen/float(n), ones_seen/float(total_ones)))\n",
    "        new_cur = []\n",
    "        for r in recalls:\n",
    "            max_of_larger = max([i[0] for i in cur if i[1] >= r])\n",
    "            new_cur.append(max_of_larger)\n",
    "        ns.append(new_cur)\n",
    "        d = d+1\n",
    "    p = np.mean(np.array(ns), axis=0)\n",
    "    np.save(\"newest_ps.npy\", p)\n",
    "    np.save(\"predictions.npy\", predictions)\n",
    "    np.save(\"label_vectors_vector.npy\", label_vectors_vector)\n",
    "    import matplotlib.pyplot as plt\n",
    "    plt.plot(recalls, p)\n",
    "    plt.ylim(0, 1)\n",
    "    plt.xlim(0, 1)\n",
    "    plt.margins(0.1)\n",
    "    #plt.xticks(range(len(distribution_dict.keys()))[::50], new_x[::50], rotation='vertical')\n",
    "    plt.ylabel('Precision', fontsize=16)\n",
    "    plt.xlabel('Recall', fontsize=16)\n",
    "    plt.tight_layout()\n",
    "    plt.show()\n",
    "    #print(p) \n",
    "    plt.savefig('binary_prc1.eps', format='eps')"
   ]
  },
  {
   "cell_type": "code",
   "execution_count": null,
   "metadata": {},
   "outputs": [],
   "source": []
  },
  {
   "cell_type": "code",
   "execution_count": 24,
   "metadata": {},
   "outputs": [
    {
     "data": {
      "image/png": "[encoded data removed]",
      "text/plain": [
       "<Figure size 432x288 with 1 Axes>"
      ]
     },
     "metadata": {
      "needs_background": "light"
     },
     "output_type": "display_data"
    },
    {
     "data": {
      "text/plain": [
       "<Figure size 432x288 with 0 Axes>"
      ]
     },
     "metadata": {},
     "output_type": "display_data"
    }
   ],
   "source": [
    "generate_prc()"
   ]
  },
  {
   "cell_type": "code",
   "execution_count": 41,
   "metadata": {
    "colab": {
     "base_uri": "https://localhost:8080/",
     "height": 1000
    },
    "colab_type": "code",
    "id": "JdetCO3l-DPU",
    "outputId": "2ade98f6-a042-49e9-89af-9b686259cce3",
    "scrolled": true
   },
   "outputs": [
    {
     "name": "stdout",
     "output_type": "stream",
     "text": [
      "Epoch 1/50\n",
      "5444/5444 [==============================] - ETA: 0s - loss: 0.1649 - accuracy: 0.7614\n",
      "Epoch 00001: saving model to ./doublelstmcheckpoint1.h5\n"
     ]
    },
    {
     "data": {
      "image/png": "[encoded data removed]",
      "text/plain": [
       "<Figure size 432x288 with 1 Axes>"
      ]
     },
     "metadata": {
      "needs_background": "light"
     },
     "output_type": "display_data"
    },
    {
     "name": "stdout",
     "output_type": "stream",
     "text": [
      "5444/5444 [==============================] - 249s 46ms/step - loss: 0.1649 - accuracy: 0.7614\n",
      "Epoch 2/50\n",
      "5068/5444 [==========================>...] - ETA: 9s - loss: 0.1276 - accuracy: 0.8198went through the dataset once\n",
      "5443/5444 [============================>.] - ETA: 0s - loss: 0.1277 - accuracy: 0.8200\n",
      "Epoch 00002: saving model to ./doublelstmcheckpoint1.h5\n"
     ]
    },
    {
     "data": {
      "image/png": "[encoded data removed]",
      "text/plain": [
       "<Figure size 432x288 with 1 Axes>"
      ]
     },
     "metadata": {
      "needs_background": "light"
     },
     "output_type": "display_data"
    },
    {
     "name": "stdout",
     "output_type": "stream",
     "text": [
      "5444/5444 [==============================] - 229s 42ms/step - loss: 0.1277 - accuracy: 0.8200\n",
      "Epoch 3/50\n",
      "5444/5444 [==============================] - ETA: 0s - loss: 0.1222 - accuracy: 0.8289\n",
      "Epoch 00003: saving model to ./doublelstmcheckpoint1.h5\n"
     ]
    },
    {
     "data": {
      "image/png": "[encoded data removed]",
      "text/plain": [
       "<Figure size 432x288 with 1 Axes>"
      ]
     },
     "metadata": {
      "needs_background": "light"
     },
     "output_type": "display_data"
    },
    {
     "name": "stdout",
     "output_type": "stream",
     "text": [
      "5444/5444 [==============================] - 248s 46ms/step - loss: 0.1222 - accuracy: 0.8289\n",
      "Epoch 4/50\n",
      "5085/5444 [===========================>..] - ETA: 9s - loss: 0.1127 - accuracy: 0.8435went through the dataset once\n",
      "5442/5444 [============================>.] - ETA: 0s - loss: 0.1125 - accuracy: 0.8441\n",
      "Epoch 00004: saving model to ./doublelstmcheckpoint1.h5\n"
     ]
    },
    {
     "data": {
      "image/png": "[encoded data removed]",
      "text/plain": [
       "<Figure size 432x288 with 1 Axes>"
      ]
     },
     "metadata": {
      "needs_background": "light"
     },
     "output_type": "display_data"
    },
    {
     "name": "stdout",
     "output_type": "stream",
     "text": [
      "5444/5444 [==============================] - 229s 42ms/step - loss: 0.1125 - accuracy: 0.8441\n",
      "Epoch 5/50\n",
      "5444/5444 [==============================] - ETA: 0s - loss: 0.1128 - accuracy: 0.8437\n",
      "Epoch 00005: saving model to ./doublelstmcheckpoint1.h5\n"
     ]
    },
    {
     "data": {
      "image/png": "[encoded data removed]",
      "text/plain": [
       "<Figure size 432x288 with 1 Axes>"
      ]
     },
     "metadata": {
      "needs_background": "light"
     },
     "output_type": "display_data"
    },
    {
     "name": "stdout",
     "output_type": "stream",
     "text": [
      "5444/5444 [==============================] - 248s 46ms/step - loss: 0.1128 - accuracy: 0.8437\n",
      "Epoch 6/50\n",
      "5078/5444 [==========================>...] - ETA: 9s - loss: 0.1032 - accuracy: 0.8571went through the dataset once\n",
      "5443/5444 [============================>.] - ETA: 0s - loss: 0.1034 - accuracy: 0.8569\n",
      "Epoch 00006: saving model to ./doublelstmcheckpoint1.h5\n"
     ]
    },
    {
     "data": {
      "image/png": "[encoded data removed]",
      "text/plain": [
       "<Figure size 432x288 with 1 Axes>"
      ]
     },
     "metadata": {
      "needs_background": "light"
     },
     "output_type": "display_data"
    },
    {
     "name": "stdout",
     "output_type": "stream",
     "text": [
      "5444/5444 [==============================] - 229s 42ms/step - loss: 0.1034 - accuracy: 0.8570\n",
      "Epoch 7/50\n",
      "5443/5444 [============================>.] - ETA: 0s - loss: 0.1053 - accuracy: 0.8552\n",
      "Epoch 00007: saving model to ./doublelstmcheckpoint1.h5\n"
     ]
    },
    {
     "data": {
      "image/png": "[encoded data removed]",
      "text/plain": [
       "<Figure size 432x288 with 1 Axes>"
      ]
     },
     "metadata": {
      "needs_background": "light"
     },
     "output_type": "display_data"
    },
    {
     "name": "stdout",
     "output_type": "stream",
     "text": [
      "5444/5444 [==============================] - 249s 46ms/step - loss: 0.1053 - accuracy: 0.8552\n",
      "Epoch 8/50\n",
      "5074/5444 [==========================>...] - ETA: 9s - loss: 0.0986 - accuracy: 0.8654went through the dataset once\n",
      "5443/5444 [============================>.] - ETA: 0s - loss: 0.0986 - accuracy: 0.8658\n",
      "Epoch 00008: saving model to ./doublelstmcheckpoint1.h5\n"
     ]
    },
    {
     "data": {
      "image/png": "[encoded data removed]",
      "text/plain": [
       "<Figure size 432x288 with 1 Axes>"
      ]
     },
     "metadata": {
      "needs_background": "light"
     },
     "output_type": "display_data"
    },
    {
     "name": "stdout",
     "output_type": "stream",
     "text": [
      "5444/5444 [==============================] - 235s 43ms/step - loss: 0.0985 - accuracy: 0.8658\n",
      "Epoch 9/50\n",
      "5443/5444 [============================>.] - ETA: 0s - loss: 0.1007 - accuracy: 0.8603\n",
      "Epoch 00009: saving model to ./doublelstmcheckpoint1.h5\n"
     ]
    },
    {
     "data": {
      "image/png": "[encoded data removed]",
      "text/plain": [
       "<Figure size 432x288 with 1 Axes>"
      ]
     },
     "metadata": {
      "needs_background": "light"
     },
     "output_type": "display_data"
    },
    {
     "name": "stdout",
     "output_type": "stream",
     "text": [
      "5444/5444 [==============================] - 249s 46ms/step - loss: 0.1007 - accuracy: 0.8603\n",
      "Epoch 10/50\n",
      "5068/5444 [==========================>...] - ETA: 9s - loss: 0.0945 - accuracy: 0.8717went through the dataset once\n",
      "5443/5444 [============================>.] - ETA: 0s - loss: 0.0948 - accuracy: 0.8713\n",
      "Epoch 00010: saving model to ./doublelstmcheckpoint1.h5\n"
     ]
    },
    {
     "data": {
      "image/png": "[encoded data removed]",
      "text/plain": [
       "<Figure size 432x288 with 1 Axes>"
      ]
     },
     "metadata": {
      "needs_background": "light"
     },
     "output_type": "display_data"
    },
    {
     "name": "stdout",
     "output_type": "stream",
     "text": [
      "5444/5444 [==============================] - 229s 42ms/step - loss: 0.0948 - accuracy: 0.8713\n",
      "Epoch 11/50\n",
      "5444/5444 [==============================] - ETA: 0s - loss: 0.0987 - accuracy: 0.8655\n",
      "Epoch 00011: saving model to ./doublelstmcheckpoint1.h5\n"
     ]
    },
    {
     "data": {
      "image/png": "[encoded data removed]",
      "text/plain": [
       "<Figure size 432x288 with 1 Axes>"
      ]
     },
     "metadata": {
      "needs_background": "light"
     },
     "output_type": "display_data"
    },
    {
     "name": "stdout",
     "output_type": "stream",
     "text": [
      "5444/5444 [==============================] - 249s 46ms/step - loss: 0.0987 - accuracy: 0.8655\n",
      "Epoch 12/50\n",
      "5083/5444 [===========================>..] - ETA: 9s - loss: 0.0924 - accuracy: 0.8737went through the dataset once\n",
      "5443/5444 [============================>.] - ETA: 0s - loss: 0.0923 - accuracy: 0.8741\n",
      "Epoch 00012: saving model to ./doublelstmcheckpoint1.h5\n"
     ]
    },
    {
     "data": {
      "image/png": "[encoded data removed]",
      "text/plain": [
       "<Figure size 432x288 with 1 Axes>"
      ]
     },
     "metadata": {
      "needs_background": "light"
     },
     "output_type": "display_data"
    },
    {
     "name": "stdout",
     "output_type": "stream",
     "text": [
      "5444/5444 [==============================] - 229s 42ms/step - loss: 0.0923 - accuracy: 0.8742\n",
      "Epoch 13/50\n",
      "5444/5444 [==============================] - ETA: 0s - loss: 0.0938 - accuracy: 0.8726\n",
      "Epoch 00013: saving model to ./doublelstmcheckpoint1.h5\n"
     ]
    },
    {
     "data": {
      "image/png": "[encoded data removed]",
      "text/plain": [
       "<Figure size 432x288 with 1 Axes>"
      ]
     },
     "metadata": {
      "needs_background": "light"
     },
     "output_type": "display_data"
    },
    {
     "name": "stdout",
     "output_type": "stream",
     "text": [
      "5444/5444 [==============================] - 249s 46ms/step - loss: 0.0938 - accuracy: 0.8726\n",
      "Epoch 14/50\n",
      "5094/5444 [===========================>..] - ETA: 9s - loss: 0.0892 - accuracy: 0.8787went through the dataset once\n",
      "5444/5444 [==============================] - ETA: 0s - loss: 0.0893 - accuracy: 0.8787\n",
      "Epoch 00014: saving model to ./doublelstmcheckpoint1.h5\n",
      "5443/5444 [============================>.] - ETA: 0s - loss: 0.0922 - accuracy: 0.8745\n",
      "Epoch 00015: saving model to ./doublelstmcheckpoint1.h5\n"
     ]
    },
    {
     "data": {
      "image/png": "[encoded data removed]",
      "text/plain": [
       "<Figure size 432x288 with 1 Axes>"
      ]
     },
     "metadata": {
      "needs_background": "light"
     },
     "output_type": "display_data"
    },
    {
     "name": "stdout",
     "output_type": "stream",
     "text": [
      "5444/5444 [==============================] - 248s 46ms/step - loss: 0.0922 - accuracy: 0.8745\n",
      "Epoch 16/50\n",
      "2377/5444 [============>.................] - ETA: 1:19 - loss: 0.0900 - accuracy: 0.8769"
     ]
    },
    {
     "name": "stderr",
     "output_type": "stream",
     "text": [
      "IOPub message rate exceeded.\n",
      "The notebook server will temporarily stop sending output\n",
      "to the client in order to avoid crashing it.\n",
      "To change this limit, set the config variable\n",
      "`--NotebookApp.iopub_msg_rate_limit`.\n",
      "\n",
      "Current values:\n",
      "NotebookApp.iopub_msg_rate_limit=1000.0 (msgs/sec)\n",
      "NotebookApp.rate_limit_window=3.0 (secs)\n",
      "\n"
     ]
    },
    {
     "name": "stdout",
     "output_type": "stream",
     "text": [
      "5075/5444 [==========================>...] - ETA: 9s - loss: 0.0839 - accuracy: 0.8880went through the dataset once\n",
      "5444/5444 [==============================] - ETA: 0s - loss: 0.0847 - accuracy: 0.8867\n",
      "Epoch 00020: saving model to ./doublelstmcheckpoint1.h5\n"
     ]
    },
    {
     "data": {
      "image/png": "[encoded data removed]",
      "text/plain": [
       "<Figure size 432x288 with 1 Axes>"
      ]
     },
     "metadata": {
      "needs_background": "light"
     },
     "output_type": "display_data"
    },
    {
     "name": "stdout",
     "output_type": "stream",
     "text": [
      "5444/5444 [==============================] - 230s 42ms/step - loss: 0.0847 - accuracy: 0.8867\n",
      "Epoch 21/50\n",
      "3648/5444 [===================>..........] - ETA: 50s - loss: 0.0864 - accuracy: 0.8831"
     ]
    },
    {
     "name": "stderr",
     "output_type": "stream",
     "text": [
      "IOPub message rate exceeded.\n",
      "The notebook server will temporarily stop sending output\n",
      "to the client in order to avoid crashing it.\n",
      "To change this limit, set the config variable\n",
      "`--NotebookApp.iopub_msg_rate_limit`.\n",
      "\n",
      "Current values:\n",
      "NotebookApp.iopub_msg_rate_limit=1000.0 (msgs/sec)\n",
      "NotebookApp.rate_limit_window=3.0 (secs)\n",
      "\n"
     ]
    },
    {
     "name": "stdout",
     "output_type": "stream",
     "text": [
      "5443/5444 [============================>.] - ETA: 0s - loss: 0.0852 - accuracy: 0.8838\n",
      "Epoch 00025: saving model to ./doublelstmcheckpoint1.h5\n"
     ]
    },
    {
     "data": {
      "image/png": "[encoded data removed]",
      "text/plain": [
       "<Figure size 432x288 with 1 Axes>"
      ]
     },
     "metadata": {
      "needs_background": "light"
     },
     "output_type": "display_data"
    },
    {
     "name": "stdout",
     "output_type": "stream",
     "text": [
      "5444/5444 [==============================] - 249s 46ms/step - loss: 0.0852 - accuracy: 0.8838\n",
      "Epoch 26/50\n",
      "5109/5444 [===========================>..] - ETA: 8s - loss: 0.0794 - accuracy: 0.8942went through the dataset once\n",
      "5442/5444 [============================>.] - ETA: 0s - loss: 0.0796 - accuracy: 0.8940\n",
      "Epoch 00026: saving model to ./doublelstmcheckpoint1.h5\n"
     ]
    },
    {
     "data": {
      "image/png": "[encoded data removed]",
      "text/plain": [
       "<Figure size 432x288 with 1 Axes>"
      ]
     },
     "metadata": {
      "needs_background": "light"
     },
     "output_type": "display_data"
    },
    {
     "name": "stdout",
     "output_type": "stream",
     "text": [
      "5444/5444 [==============================] - 229s 42ms/step - loss: 0.0796 - accuracy: 0.8940\n",
      "Epoch 27/50\n",
      "  59/5444 [..............................] - ETA: 2:31 - loss: 0.0967 - accuracy: 0.8517"
     ]
    },
    {
     "name": "stderr",
     "output_type": "stream",
     "text": [
      "IOPub message rate exceeded.\n",
      "The notebook server will temporarily stop sending output\n",
      "to the client in order to avoid crashing it.\n",
      "To change this limit, set the config variable\n",
      "`--NotebookApp.iopub_msg_rate_limit`.\n",
      "\n",
      "Current values:\n",
      "NotebookApp.iopub_msg_rate_limit=1000.0 (msgs/sec)\n",
      "NotebookApp.rate_limit_window=3.0 (secs)\n",
      "\n"
     ]
    },
    {
     "name": "stdout",
     "output_type": "stream",
     "text": [
      "5443/5444 [============================>.] - ETA: 0s - loss: 0.0829 - accuracy: 0.8871\n",
      "Epoch 00031: saving model to ./doublelstmcheckpoint1.h5\n"
     ]
    },
    {
     "data": {
      "image/png": "[encoded data removed]",
      "text/plain": [
       "<Figure size 432x288 with 1 Axes>"
      ]
     },
     "metadata": {
      "needs_background": "light"
     },
     "output_type": "display_data"
    },
    {
     "name": "stdout",
     "output_type": "stream",
     "text": [
      "5444/5444 [==============================] - 254s 47ms/step - loss: 0.0829 - accuracy: 0.8871\n",
      "Epoch 32/50\n",
      " 703/5444 [==>...........................] - ETA: 2:04 - loss: 0.0696 - accuracy: 0.9079"
     ]
    },
    {
     "name": "stderr",
     "output_type": "stream",
     "text": [
      "IOPub message rate exceeded.\n",
      "The notebook server will temporarily stop sending output\n",
      "to the client in order to avoid crashing it.\n",
      "To change this limit, set the config variable\n",
      "`--NotebookApp.iopub_msg_rate_limit`.\n",
      "\n",
      "Current values:\n",
      "NotebookApp.iopub_msg_rate_limit=1000.0 (msgs/sec)\n",
      "NotebookApp.rate_limit_window=3.0 (secs)\n",
      "\n"
     ]
    },
    {
     "name": "stdout",
     "output_type": "stream",
     "text": [
      "5139/5444 [===========================>..] - ETA: 7s - loss: 0.0764 - accuracy: 0.8976went through the dataset once\n",
      "5442/5444 [============================>.] - ETA: 0s - loss: 0.0767 - accuracy: 0.8973\n",
      "Epoch 00036: saving model to ./doublelstmcheckpoint1.h5\n"
     ]
    },
    {
     "data": {
      "image/png": "[encoded data removed]",
      "text/plain": [
       "<Figure size 432x288 with 1 Axes>"
      ]
     },
     "metadata": {
      "needs_background": "light"
     },
     "output_type": "display_data"
    },
    {
     "name": "stdout",
     "output_type": "stream",
     "text": [
      "5444/5444 [==============================] - 229s 42ms/step - loss: 0.0767 - accuracy: 0.8973\n",
      "Epoch 37/50\n",
      "2522/5444 [============>.................] - ETA: 1:21 - loss: 0.0808 - accuracy: 0.8909"
     ]
    },
    {
     "name": "stderr",
     "output_type": "stream",
     "text": [
      "IOPub message rate exceeded.\n",
      "The notebook server will temporarily stop sending output\n",
      "to the client in order to avoid crashing it.\n",
      "To change this limit, set the config variable\n",
      "`--NotebookApp.iopub_msg_rate_limit`.\n",
      "\n",
      "Current values:\n",
      "NotebookApp.iopub_msg_rate_limit=1000.0 (msgs/sec)\n",
      "NotebookApp.rate_limit_window=3.0 (secs)\n",
      "\n"
     ]
    },
    {
     "name": "stdout",
     "output_type": "stream",
     "text": [
      "5443/5444 [============================>.] - ETA: 0s - loss: 0.0783 - accuracy: 0.8947\n",
      "Epoch 00041: saving model to ./doublelstmcheckpoint1.h5\n"
     ]
    },
    {
     "data": {
      "image/png": "[encoded data removed]",
      "text/plain": [
       "<Figure size 432x288 with 1 Axes>"
      ]
     },
     "metadata": {
      "needs_background": "light"
     },
     "output_type": "display_data"
    },
    {
     "name": "stdout",
     "output_type": "stream",
     "text": [
      "5444/5444 [==============================] - 248s 46ms/step - loss: 0.0783 - accuracy: 0.8947\n",
      "Epoch 42/50\n",
      "4415/5444 [=======================>......] - ETA: 26s - loss: 0.0703 - accuracy: 0.9064"
     ]
    },
    {
     "name": "stderr",
     "output_type": "stream",
     "text": [
      "IOPub message rate exceeded.\n",
      "The notebook server will temporarily stop sending output\n",
      "to the client in order to avoid crashing it.\n",
      "To change this limit, set the config variable\n",
      "`--NotebookApp.iopub_msg_rate_limit`.\n",
      "\n",
      "Current values:\n",
      "NotebookApp.iopub_msg_rate_limit=1000.0 (msgs/sec)\n",
      "NotebookApp.rate_limit_window=3.0 (secs)\n",
      "\n"
     ]
    },
    {
     "name": "stdout",
     "output_type": "stream",
     "text": [
      "5444/5444 [==============================] - ETA: 0s - loss: 0.0752 - accuracy: 0.9000\n",
      "Epoch 00047: saving model to ./doublelstmcheckpoint1.h5\n"
     ]
    },
    {
     "data": {
      "image/png": "[encoded data removed]",
      "text/plain": [
       "<Figure size 432x288 with 1 Axes>"
      ]
     },
     "metadata": {
      "needs_background": "light"
     },
     "output_type": "display_data"
    },
    {
     "name": "stdout",
     "output_type": "stream",
     "text": [
      "5444/5444 [==============================] - 249s 46ms/step - loss: 0.0752 - accuracy: 0.9000\n",
      "Epoch 48/50\n",
      "1097/5444 [=====>........................] - ETA: 1:53 - loss: 0.0654 - accuracy: 0.9151"
     ]
    },
    {
     "name": "stderr",
     "output_type": "stream",
     "text": [
      "IOPub message rate exceeded.\n",
      "The notebook server will temporarily stop sending output\n",
      "to the client in order to avoid crashing it.\n",
      "To change this limit, set the config variable\n",
      "`--NotebookApp.iopub_msg_rate_limit`.\n",
      "\n",
      "Current values:\n",
      "NotebookApp.iopub_msg_rate_limit=1000.0 (msgs/sec)\n",
      "NotebookApp.rate_limit_window=3.0 (secs)\n",
      "\n"
     ]
    }
   ],
   "source": [
    "history = model.fit(lstm_dataset, epochs=50, steps_per_epoch=5444, callbacks=[cp_callback, prc_callback])"
   ]
  },
  {
   "cell_type": "code",
   "execution_count": null,
   "metadata": {},
   "outputs": [],
   "source": []
  },
  {
   "cell_type": "code",
   "execution_count": null,
   "metadata": {
    "colab": {},
    "colab_type": "code",
    "id": "a844kTf5fO0s"
   },
   "outputs": [],
   "source": []
  },
  {
   "cell_type": "code",
   "execution_count": 42,
   "metadata": {
    "colab": {
     "base_uri": "https://localhost:8080/",
     "height": 373
    },
    "colab_type": "code",
    "id": "JB35kwKqrSi8",
    "outputId": "aabdf11b-b546-44ee-f345-a6ed56cafc5d"
   },
   "outputs": [
    {
     "data": {
      "image/png": "[encoded data removed]",
      "text/plain": [
       "<Figure size 432x288 with 1 Axes>"
      ]
     },
     "metadata": {
      "needs_background": "light"
     },
     "output_type": "display_data"
    },
    {
     "data": {
      "text/plain": [
       "<Figure size 432x288 with 0 Axes>"
      ]
     },
     "metadata": {},
     "output_type": "display_data"
    }
   ],
   "source": [
    "generate_prc()"
   ]
  },
  {
   "cell_type": "code",
   "execution_count": null,
   "metadata": {
    "colab": {},
    "colab_type": "code",
    "id": "OojymS4afPdy"
   },
   "outputs": [],
   "source": []
  }
 ],
 "metadata": {
  "accelerator": "GPU",
  "colab": {
   "collapsed_sections": [],
   "name": "PatentStuffNotebook.ipynb",
   "provenance": []
  },
  "kernelspec": {
   "display_name": "Python 3",
   "language": "python",
   "name": "python3"
  },
  "language_info": {
   "codemirror_mode": {
    "name": "ipython",
    "version": 3
   },
   "file_extension": ".py",
   "mimetype": "text/x-python",
   "name": "python",
   "nbconvert_exporter": "python",
   "pygments_lexer": "ipython3",
   "version": "3.6.9"
  }
 },
 "nbformat": 4,
 "nbformat_minor": 1
}
