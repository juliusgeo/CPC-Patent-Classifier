{
 "cells": [
  {
   "cell_type": "code",
   "execution_count": null,
   "metadata": {
    "colab": {
     "base_uri": "https://localhost:8080/",
     "height": 34
    },
    "colab_type": "code",
    "id": "4L8TJHgad_7M",
    "outputId": "ee182713-b61f-46da-bd7d-22f965e8fc43"
   },
   "outputs": [],
   "source": []
  },
  {
   "cell_type": "code",
   "execution_count": null,
   "metadata": {
    "colab": {
     "base_uri": "https://localhost:8080/",
     "height": 34
    },
    "colab_type": "code",
    "id": "MJQHRv1rgdGY",
    "outputId": "d91bc341-6253-42af-ac2f-8da7b4ac7286"
   },
   "outputs": [],
   "source": []
  },
  {
   "cell_type": "code",
   "execution_count": null,
   "metadata": {
    "colab": {},
    "colab_type": "code",
    "id": "wK-l3s1hhQmd"
   },
   "outputs": [],
   "source": []
  },
  {
   "cell_type": "code",
   "execution_count": 1,
   "metadata": {
    "colab": {
     "base_uri": "https://localhost:8080/",
     "height": 159
    },
    "colab_type": "code",
    "id": "9QN5Z2_6eRq0",
    "outputId": "f45d893f-2f8f-4a72-f522-a94895fef779"
   },
   "outputs": [],
   "source": [
    "import numpy as np\n",
    "import gensim, logging\n",
    "import csv, string\n",
    "import nltk\n",
    "#nltk.download('punkt')\n",
    "#nltk.download('stopwords')\n",
    "from nltk.tokenize import word_tokenize\n",
    "from nltk.stem.porter import PorterStemmer\n",
    "import pandas as pd\n",
    "import tensorflow as tf\n",
    "import os\n",
    "import pickle\n",
    "\n",
    "num_words = 100\n",
    "num_words_description = 100\n",
    "\n",
    "number_occurences = 4000\n",
    "directory_prefix = \"../\"\n",
    "label_depth = 3\n",
    "import random\n",
    "#import gensim.downloader as api\n",
    "from nltk.corpus import stopwords\n",
    "from gensim.parsing.preprocessing import remove_stopwords\n",
    "\n",
    "s=set(stopwords.words('english'))\n",
    "wv = gensim.models.KeyedVectors.load(directory_prefix+\"patents.wv\", mmap='r+')\n",
    "#wv = api.load(\"glove-wiki-gigaword-50\")\n",
    "\n",
    "porter = PorterStemmer()\n",
    "#embedding_dim = 500\n",
    "hashing_bucket_size = 100000\n",
    "\n",
    "def get_sentence_vector(words, num_words):\n",
    "    ret = tf.convert_to_tensor(tf.keras.preprocessing.text.hashing_trick(words, hashing_bucket_size, hash_function='md5'))\n",
    "    ret = tf.pad(ret, tf.constant([[0, max(0, num_words-ret.shape[0]),]]), \"CONSTANT\")\n",
    "    ret = ret[:num_words]\n",
    "    #ret = tf.reshape(ret, [1, num_words])\n",
    "    #print(ret)\n",
    "    return ret\n",
    "\n",
    "with open(directory_prefix+\"class_descriptions/class_descriptions_from_patents_simons_dataset.pickle\", 'rb') as f:\n",
    "    label_dict = pickle.load(f)\n",
    "label_dict = {k[:label_depth]: get_sentence_vector(val.lower(), num_words_description) for k, val in label_dict.items()}\n",
    "#label_dict = {k[:label_depth]: get_sentence_vector(val.lower(), num_words_description) for k, val in label_dict.items()}\n",
    "\n",
    "label_dict_keys = set(label_dict.keys())\n"
   ]
  },
  {
   "cell_type": "code",
   "execution_count": 2,
   "metadata": {
    "colab": {
     "base_uri": "https://localhost:8080/",
     "height": 34
    },
    "colab_type": "code",
    "id": "cM9igP7lCXup",
    "outputId": "725c8ce6-adb6-4ad3-8016-a2ed6aa457aa"
   },
   "outputs": [
    {
     "name": "stdout",
     "output_type": "stream",
     "text": [
      "124\n"
     ]
    }
   ],
   "source": [
    "print(len(label_dict.keys()))"
   ]
  },
  {
   "cell_type": "code",
   "execution_count": 62,
   "metadata": {
    "colab": {
     "base_uri": "https://localhost:8080/",
     "height": 34
    },
    "colab_type": "code",
    "id": "zMkC0VFdhZNf",
    "outputId": "05fe3ff7-7adf-411a-ebf9-e663c4443b10"
   },
   "outputs": [],
   "source": [
    "def lstm_data_generator():\n",
    "    occurences = {k:0 for k in label_dict.keys()}\n",
    "    for row in pd.read_csv(directory_prefix+'datasets/items.csv',sep=',', header = None).to_numpy():\n",
    "        label, description=row[0], row[1]\n",
    "        lstm_input_patent = get_sentence_vector(description.lower(), num_words)\n",
    "        label_vectors = [z.strip().strip('\\'\\\"')[:label_depth] for z in label.split(',')]\n",
    "        label_vectors = set([i for i in label_vectors if i in label_dict_keys])\n",
    "        non_true_vectors = set([i for i in random.sample(label_dict_keys, len(label_dict.keys())) if i not in label_vectors])\n",
    "        for l, k in zip((label_dict[i] for i in label_vectors), label_vectors):\n",
    "            if occurences[k] >= number_occurences:\n",
    "                continue\n",
    "            occurences[k] +=1\n",
    "            yield ({'input_1':lstm_input_patent, 'input_2':l}, {'output_binary':[1]})\n",
    "        for l, k in zip((label_dict[i] for i in non_true_vectors), non_true_vectors):\n",
    "            if occurences[k] >= number_occurences:\n",
    "                continue\n",
    "            occurences[k] +=1\n",
    "            yield ({'input_1':lstm_input_patent, 'input_2':l}, {'output_binary':[0]})\n",
    "        if sum(occurences.values()) >= len(label_dict)*(number_occurences-1):\n",
    "            print(\"done with occurences\")\n",
    "            return\n",
    "\n",
    "lstm_dataset = tf.data.Dataset.from_generator(lstm_data_generator, ({'input_1':tf.float64, 'input_2':tf.float64}, {'output_binary':tf.float64}), ({'input_1':tf.TensorShape([num_words,]), 'input_2':tf.TensorShape([num_words_description,])}, {'output_binary':tf.TensorShape([1])}))\n",
    "lstm_dataset = lstm_dataset.batch(16, drop_remainder=True).prefetch(100).repeat()\n",
    "           "
   ]
  },
  {
   "cell_type": "code",
   "execution_count": 5,
   "metadata": {},
   "outputs": [],
   "source": [
    "for item in lstm_dataset:\n",
    "    break"
   ]
  },
  {
   "cell_type": "code",
   "execution_count": 4,
   "metadata": {
    "colab": {
     "base_uri": "https://localhost:8080/",
     "height": 34
    },
    "colab_type": "code",
    "id": "zMkC0VFdhZNf",
    "outputId": "05fe3ff7-7adf-411a-ebf9-e663c4443b10"
   },
   "outputs": [
    {
     "name": "stdout",
     "output_type": "stream",
     "text": [
      "<tensorflow.python.keras.engine.functional.Functional object at 0x7f4b7a9c0f60>\n"
     ]
    }
   ],
   "source": [
    "\n",
    "embedding_dim = 1\n",
    "input_lstm = tf.keras.Input(shape=(num_words,), name='input_1')\n",
    "input_label = tf.keras.Input(shape=(num_words_description,), name='input_2')\n",
    "\n",
    "layer_size = num_words*2\n",
    "#patent = tf.keras.layers.Bidirectional(tf.keras.layers.LSTM(embedding_dim, return_sequences=True))(patent_mask)\n",
    "#label = tf.keras.layers.Bidirectional(tf.keras.layers.LSTM(embedding_dim, return_sequences=True))(label_mask)\n",
    "\n",
    "#\n",
    "\n",
    "\n",
    "#patent = tf.keras.layers.TimeDistributed(tf.keras.layers.Dense(layer_size//2))(patent_mask)\n",
    "#patent = tf.keras.layers.GlobalAveragePooling1D()(patent)\n",
    "\n",
    "#label = tf.keras.layers.TimeDistributed(tf.keras.layers.Dense(layer_size//2))(label_maskz)\n",
    "#label = tf.keras.layers.GlobalAveragePooling1D()(label)\n",
    "patent = tf.keras.layers.Dense(layer_size//2)(input_lstm)\n",
    "label =  tf.keras.layers.Dense(layer_size//2)(input_label)\n",
    "patent = tf.keras.layers.Dense(layer_size//2)(patent)\n",
    "label =  tf.keras.layers.Dense(layer_size//2)(label)\n",
    "patent = tf.keras.layers.Dense(layer_size//2)(patent)\n",
    "label =  tf.keras.layers.Dense(layer_size//2)(label)\n",
    "#subtract = tf.keras.layers.Subtract()([patent, label])\n",
    "#multiply = tf.keras.layers.Multiply()([patent, label])\n",
    "\n",
    "concat = tf.keras.layers.Concatenate(axis=1)([label, patent])\n",
    "dense = tf.keras.layers.Dense(int(layer_size))(concat)\n",
    "dense = tf.keras.layers.Dense(int(layer_size))(dense)\n",
    "dense = tf.keras.layers.Dense(int(layer_size), activation='relu')(dense)\n",
    "dense = tf.keras.layers.Dense(int(layer_size), activation='relu')(dense)\n",
    "dense = tf.keras.layers.Dense(int(layer_size), activation='relu')(dense)\n",
    "dense = tf.keras.layers.Dense(int(layer_size), activation='relu')(dense)\n",
    "\n",
    "\n",
    "output_binary = tf.keras.layers.Dense(1, activation=\"sigmoid\", name='output_binary')(dense)\n",
    "\n",
    "\n",
    "#lstm_enforce_1 = tf.keras.layers.Dense(200, activation='relu')(patent_lstm)\n",
    "#lstm_enforce_2 = tf.keras.layers.Dense(1000, name='output_2')(lstm_enforce_1)\n",
    "#model = tf.keras.Model(inputs={'input_1':input_lstm, 'input_2':input_label}, outputs={'output_1':output_binary, 'output_2':lstm_enforce_2})\n",
    "model = tf.keras.Model(inputs={'input_1':input_lstm, 'input_2':input_label}, outputs=[output_binary])\n",
    "print(model)"
   ]
  },
  {
   "cell_type": "code",
   "execution_count": 14,
   "metadata": {
    "colab": {
     "base_uri": "https://localhost:8080/",
     "height": 34
    },
    "colab_type": "code",
    "id": "zf3uuOE9OYBh",
    "outputId": "a89816d0-c202-46e5-fab5-03a8489353b7"
   },
   "outputs": [
    {
     "name": "stdout",
     "output_type": "stream",
     "text": [
      "124\n"
     ]
    }
   ],
   "source": [
    "print(len(label_dict))"
   ]
  },
  {
   "cell_type": "code",
   "execution_count": 63,
   "metadata": {
    "colab": {
     "base_uri": "https://localhost:8080/",
     "height": 694
    },
    "colab_type": "code",
    "id": "awvA_Z9-hdAC",
    "outputId": "cc371ca1-4f6e-4755-ded8-f730e32aca36"
   },
   "outputs": [
    {
     "name": "stdout",
     "output_type": "stream",
     "text": [
      "Model: \"functional_1\"\n",
      "__________________________________________________________________________________________________\n",
      "Layer (type)                    Output Shape         Param #     Connected to                     \n",
      "==================================================================================================\n",
      "input_2 (InputLayer)            [(None, 100)]        0                                            \n",
      "__________________________________________________________________________________________________\n",
      "input_1 (InputLayer)            [(None, 100)]        0                                            \n",
      "__________________________________________________________________________________________________\n",
      "dense_1 (Dense)                 (None, 100)          10100       input_2[0][0]                    \n",
      "__________________________________________________________________________________________________\n",
      "dense (Dense)                   (None, 100)          10100       input_1[0][0]                    \n",
      "__________________________________________________________________________________________________\n",
      "dense_3 (Dense)                 (None, 100)          10100       dense_1[0][0]                    \n",
      "__________________________________________________________________________________________________\n",
      "dense_2 (Dense)                 (None, 100)          10100       dense[0][0]                      \n",
      "__________________________________________________________________________________________________\n",
      "dense_5 (Dense)                 (None, 100)          10100       dense_3[0][0]                    \n",
      "__________________________________________________________________________________________________\n",
      "dense_4 (Dense)                 (None, 100)          10100       dense_2[0][0]                    \n",
      "__________________________________________________________________________________________________\n",
      "concatenate (Concatenate)       (None, 200)          0           dense_5[0][0]                    \n",
      "                                                                 dense_4[0][0]                    \n",
      "__________________________________________________________________________________________________\n",
      "dense_6 (Dense)                 (None, 200)          40200       concatenate[0][0]                \n",
      "__________________________________________________________________________________________________\n",
      "dense_7 (Dense)                 (None, 200)          40200       dense_6[0][0]                    \n",
      "__________________________________________________________________________________________________\n",
      "dense_8 (Dense)                 (None, 200)          40200       dense_7[0][0]                    \n",
      "__________________________________________________________________________________________________\n",
      "dense_9 (Dense)                 (None, 200)          40200       dense_8[0][0]                    \n",
      "__________________________________________________________________________________________________\n",
      "dense_10 (Dense)                (None, 200)          40200       dense_9[0][0]                    \n",
      "__________________________________________________________________________________________________\n",
      "dense_11 (Dense)                (None, 200)          40200       dense_10[0][0]                   \n",
      "__________________________________________________________________________________________________\n",
      "output_binary (Dense)           (None, 1)            201         dense_11[0][0]                   \n",
      "==================================================================================================\n",
      "Total params: 302,001\n",
      "Trainable params: 302,001\n",
      "Non-trainable params: 0\n",
      "__________________________________________________________________________________________________\n"
     ]
    }
   ],
   "source": [
    "#saver = tf.train.Saver(max_to_keep=4, keep_checkpoint_every_n_hours=2)\n",
    "#del model\n",
    "model.load_weights(directory_prefix+\"/checkpoints/hashingtrickcheckpoint.h5\")\n",
    "\n",
    "\n",
    "model.summary()\n",
    "opt = tf.optimizers.Adam(1e-4)\n",
    "model.compile(loss=['binary_crossentropy'],\n",
    "              optimizer=opt,\n",
    "              metrics=['accuracy', 'mae'], experimental_run_tf_function=False)\n",
    "\n",
    "\n",
    "# Create a callback that saves the model's weights\n",
    "cp_callback = tf.keras.callbacks.ModelCheckpoint(filepath=directory_prefix+\"/checkpoints/hashingtrickcheckpoint.h5\",\n",
    "                                                 save_weights_only=False,\n",
    "                                                 verbose=1)\n",
    "\n",
    "class CustomCallback(tf.keras.callbacks.Callback):\n",
    "    def on_epoch_end(self, epoch, logs=None):\n",
    "        generate_prc()\n",
    "prc_callback = CustomCallback()"
   ]
  },
  {
   "cell_type": "code",
   "execution_count": 59,
   "metadata": {},
   "outputs": [
    {
     "data": {
      "image/png": "[encoded data removed]",
      "text/plain": [
       "<Figure size 432x288 with 1 Axes>"
      ]
     },
     "metadata": {
      "needs_background": "light"
     },
     "output_type": "display_data"
    },
    {
     "name": "stdout",
     "output_type": "stream",
     "text": [
      "18.2339129447937\n"
     ]
    },
    {
     "data": {
      "text/plain": [
       "<Figure size 432x288 with 0 Axes>"
      ]
     },
     "metadata": {},
     "output_type": "display_data"
    }
   ],
   "source": [
    "label_len = len(label_dict_keys)\n",
    "left_vectors = np.array(list(label_dict.keys())).reshape((label_len))\n",
    "recalls = np.arange(0, 1.01, .01)\n",
    "def get_n(prediction, label_vectors):\n",
    "    indices = np.flip(np.argsort(prediction, axis=0)).reshape((label_len))\n",
    "    #print(left_vectors[indices])\n",
    "    e = [1 if i in label_vectors else 0 for i in left_vectors[indices]]\n",
    "    cur = []\n",
    "    total_ones = e.count(1)\n",
    "    n = 0\n",
    "    ones_seen = 0\n",
    "    while ones_seen < total_ones:\n",
    "        if e[n] == 1:\n",
    "            ones_seen = ones_seen+1\n",
    "        n = n+1\n",
    "        cur.append((ones_seen/float(n), ones_seen/float(total_ones)))\n",
    "    new_cur = []\n",
    "    for r in recalls:\n",
    "        max_of_larger = max([i[0] for i in cur if i[1] >= r])\n",
    "        new_cur.append(max_of_larger)\n",
    "    return new_cur\n",
    "\n",
    "def generate_prc():\n",
    "    #print(label_len)\n",
    "    left = np.vstack([label_dict[i] for i in label_dict_keys])\n",
    "    num_tests = 500\n",
    "    ns = []\n",
    "    for row in pd.read_csv(directory_prefix+'datasets/items2.csv',sep=',', header = None).to_numpy()[:num_tests]:\n",
    "        label, description=row[0], row[1]\n",
    "        label_vectors = [z.strip().strip('\\'\\\"')[:label_depth] for z in label.split(',')]\n",
    "        label_vectors = set([i for i in label_vectors if i in label_dict_keys])\n",
    "        if label_vectors == set():\n",
    "            continue\n",
    "        lstm_input_patent =  get_sentence_vector(description.lower(), num_words)\n",
    "        #output = np.vstack([lstm_input_patent]*label_len)\n",
    "        output = np.broadcast_to(lstm_input_patent, (label_len, lstm_input_patent.shape[0]))\n",
    "        #print(output.shape, left.shape)\n",
    "        prediction = model.predict({\"input_1\":output, \"input_2\":left}, verbose=0)\n",
    "        #print(prediction.shape)\n",
    "        n = get_n(prediction, label_vectors)\n",
    "        ns.append(n)\n",
    "        \n",
    "    p = np.mean(np.array(ns), axis=0)\n",
    "    import matplotlib.pyplot as plt\n",
    "    plt.plot(recalls, p)\n",
    "    plt.ylim(0, 1)\n",
    "    plt.xlim(0, 1)\n",
    "    plt.margins(0.1)\n",
    "    #plt.xticks(range(len(distribution_dict.keys()))[::50], new_x[::50], rotation='vertical')\n",
    "    plt.ylabel('Precision', fontsize=16)\n",
    "    plt.xlabel('Recall', fontsize=16)\n",
    "    plt.tight_layout()\n",
    "    plt.show()\n",
    "    #print(p) \n",
    "    plt.savefig('binary_prc1.eps', format='eps')\n",
    "import time\n",
    "\n",
    "start = time.time()\n",
    "generate_prc()\n",
    "end = time.time()\n",
    "print(end - start)\n"
   ]
  },
  {
   "cell_type": "code",
   "execution_count": null,
   "metadata": {
    "colab": {
     "base_uri": "https://localhost:8080/",
     "height": 1000
    },
    "colab_type": "code",
    "id": "JdetCO3l-DPU",
    "outputId": "2ade98f6-a042-49e9-89af-9b686259cce3"
   },
   "outputs": [
    {
     "name": "stdout",
     "output_type": "stream",
     "text": [
      "Epoch 1/50\n",
      "5442/5444 [============================>.] - ETA: 0s - loss: 0.0860 - accuracy: 0.9850 - mae: 0.0422\n",
      "Epoch 00001: saving model to ..//checkpoints/hashingtrickcheckpoint.h5\n"
     ]
    },
    {
     "data": {
      "image/png": "[encoded data removed]",
      "text/plain": [
       "<Figure size 432x288 with 1 Axes>"
      ]
     },
     "metadata": {
      "needs_background": "light"
     },
     "output_type": "display_data"
    },
    {
     "name": "stdout",
     "output_type": "stream",
     "text": [
      "5444/5444 [==============================] - 37s 7ms/step - loss: 0.0860 - accuracy: 0.9850 - mae: 0.0422\n",
      "Epoch 2/50\n",
      "5443/5444 [============================>.] - ETA: 0s - loss: 0.0778 - accuracy: 0.9850 - mae: 0.0296\n",
      "Epoch 00002: saving model to ..//checkpoints/hashingtrickcheckpoint.h5\n"
     ]
    },
    {
     "data": {
      "image/png": "[encoded data removed]",
      "text/plain": [
       "<Figure size 432x288 with 1 Axes>"
      ]
     },
     "metadata": {
      "needs_background": "light"
     },
     "output_type": "display_data"
    },
    {
     "name": "stdout",
     "output_type": "stream",
     "text": [
      "5444/5444 [==============================] - 37s 7ms/step - loss: 0.0778 - accuracy: 0.9850 - mae: 0.0296\n",
      "Epoch 3/50\n",
      " 907/5444 [===>..........................] - ETA: 15s - loss: 0.0757 - accuracy: 0.9855 - mae: 0.0288"
     ]
    }
   ],
   "source": [
    "history = model.fit(lstm_dataset, epochs=50, steps_per_epoch=5444, callbacks=[cp_callback, prc_callback])"
   ]
  },
  {
   "cell_type": "code",
   "execution_count": null,
   "metadata": {},
   "outputs": [],
   "source": [
    "print(occurences)"
   ]
  },
  {
   "cell_type": "code",
   "execution_count": null,
   "metadata": {
    "colab": {},
    "colab_type": "code",
    "id": "a844kTf5fO0s"
   },
   "outputs": [],
   "source": []
  },
  {
   "cell_type": "code",
   "execution_count": 42,
   "metadata": {
    "colab": {
     "base_uri": "https://localhost:8080/",
     "height": 373
    },
    "colab_type": "code",
    "id": "JB35kwKqrSi8",
    "outputId": "aabdf11b-b546-44ee-f345-a6ed56cafc5d"
   },
   "outputs": [
    {
     "data": {
      "image/png": "[encoded data removed]",
      "text/plain": [
       "<Figure size 432x288 with 1 Axes>"
      ]
     },
     "metadata": {
      "needs_background": "light"
     },
     "output_type": "display_data"
    },
    {
     "data": {
      "text/plain": [
       "<Figure size 432x288 with 0 Axes>"
      ]
     },
     "metadata": {},
     "output_type": "display_data"
    }
   ],
   "source": [
    "\n"
   ]
  },
  {
   "cell_type": "code",
   "execution_count": null,
   "metadata": {
    "colab": {},
    "colab_type": "code",
    "id": "OojymS4afPdy"
   },
   "outputs": [],
   "source": []
  }
 ],
 "metadata": {
  "accelerator": "GPU",
  "colab": {
   "collapsed_sections": [],
   "name": "PatentStuffNotebook.ipynb",
   "provenance": []
  },
  "kernelspec": {
   "display_name": "Python 3",
   "language": "python",
   "name": "python3"
  },
  "language_info": {
   "codemirror_mode": {
    "name": "ipython",
    "version": 3
   },
   "file_extension": ".py",
   "mimetype": "text/x-python",
   "name": "python",
   "nbconvert_exporter": "python",
   "pygments_lexer": "ipython3",
   "version": "3.6.9"
  }
 },
 "nbformat": 4,
 "nbformat_minor": 1
}
