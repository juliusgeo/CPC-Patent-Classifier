{
 "cells": [
  {
   "cell_type": "code",
   "execution_count": null,
   "metadata": {},
   "outputs": [],
   "source": [
    "directory_prefix = \"../\"\n",
    "num_of_patents = 10"
   ]
  },
  {
   "cell_type": "code",
   "execution_count": null,
   "metadata": {},
   "outputs": [],
   "source": [
    "with open('test_dataset.csv', mode='a') as file:\n",
    "    writer = csv.writer(file, delimiter=',', quotechar=\"\\\"\", quoting=csv.QUOTE_MINIMAL)\n",
    "    current_dataframe = pd.read_csv(directory_prefix+'datasets/claims_dataset_1.csv',sep=',', header = None).to_numpy()#, chunksize=100000)\n",
    "    for row in current_dataframe:\n",
    "        label, description=row[0], row[1]+row[2]\n",
    "        label_vectors = [z.strip().strip('\\'\\\"')[:label_depth] for z in label.split(',')]\n",
    "        label_vectors = set([i for i in label_vectors if i in label_dict_keys])\n",
    "        if label_vectors == set():\n",
    "            continue\n",
    "        writer.writerow([\"\\\"\"+','.join(list(grant[0]))+\"\\\"\", \"\\\"\"+str(abstract_text.strip())+\"\\\"\"])\n",
    "\n",
    "    "
   ]
  }
 ],
 "metadata": {
  "kernelspec": {
   "display_name": "Python 3",
   "language": "python",
   "name": "python3"
  },
  "language_info": {
   "codemirror_mode": {
    "name": "ipython",
    "version": 3
   },
   "file_extension": ".py",
   "mimetype": "text/x-python",
   "name": "python",
   "nbconvert_exporter": "python",
   "pygments_lexer": "ipython3",
   "version": "3.6.9"
  }
 },
 "nbformat": 4,
 "nbformat_minor": 4
}
