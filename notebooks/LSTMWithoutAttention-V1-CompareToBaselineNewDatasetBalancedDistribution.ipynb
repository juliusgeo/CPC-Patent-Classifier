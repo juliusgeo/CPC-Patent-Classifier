{
 "cells": [
  {
   "cell_type": "code",
   "execution_count": null,
   "metadata": {
    "colab": {
     "base_uri": "https://localhost:8080/",
     "height": 34
    },
    "colab_type": "code",
    "id": "4L8TJHgad_7M",
    "outputId": "ee182713-b61f-46da-bd7d-22f965e8fc43"
   },
   "outputs": [],
   "source": []
  },
  {
   "cell_type": "code",
   "execution_count": null,
   "metadata": {
    "colab": {
     "base_uri": "https://localhost:8080/",
     "height": 34
    },
    "colab_type": "code",
    "id": "MJQHRv1rgdGY",
    "outputId": "d91bc341-6253-42af-ac2f-8da7b4ac7286"
   },
   "outputs": [],
   "source": []
  },
  {
   "cell_type": "code",
   "execution_count": null,
   "metadata": {
    "colab": {},
    "colab_type": "code",
    "id": "wK-l3s1hhQmd"
   },
   "outputs": [],
   "source": []
  },
  {
   "cell_type": "code",
   "execution_count": 1,
   "metadata": {
    "colab": {
     "base_uri": "https://localhost:8080/",
     "height": 159
    },
    "colab_type": "code",
    "id": "9QN5Z2_6eRq0",
    "outputId": "f45d893f-2f8f-4a72-f522-a94895fef779"
   },
   "outputs": [
    {
     "name": "stderr",
     "output_type": "stream",
     "text": [
      "[nltk_data] Downloading package stopwords to /home/jpark/nltk_data...\n",
      "[nltk_data]   Package stopwords is already up-to-date!\n"
     ]
    }
   ],
   "source": [
    "import numpy as np\n",
    "import gensim, logging\n",
    "import csv, string\n",
    "import nltk\n",
    "#nltk.download('punkt')\n",
    "nltk.download('stopwords')\n",
    "from nltk.tokenize import word_tokenize\n",
    "from nltk.stem.porter import PorterStemmer\n",
    "import pandas as pd\n",
    "import tensorflow as tf\n",
    "import os\n",
    "import pickle\n",
    "\n",
    "num_words = 200\n",
    "num_words_description = 200\n",
    "directory_prefix = \"../\"\n",
    "label_depth = 3\n",
    "import random\n",
    "#import gensim.downloader as api\n",
    "from nltk.corpus import stopwords\n",
    "from gensim.parsing.preprocessing import remove_stopwords\n",
    "\n",
    "\n",
    "import tensorflow_hub as hub\n",
    "\n",
    "embed = hub.load(\"https://tfhub.dev/google/tf2-preview/nnlm-en-dim128-with-normalization/1\")\n",
    "#embed = hub.load(\"https://tfhub.dev/google/Wiki-words-500/2\")\n",
    "\n",
    "embeddings = embed([\"cat is on the mat\", \"dog is in the fog\"])\n",
    "embedding_dim = embeddings.shape[1]\n",
    "#print(embeddings)\n",
    "def get_sentence_vector(words, num_words):\n",
    "    words = word_tokenize(remove_stopwords(words))\n",
    "    #words = list(filter(lambda w: len(w)>2, words))\n",
    "    ret = embed(words)\n",
    "    ret = tf.pad(ret, tf.constant([[0, max(0, num_words-ret.shape[0]),], [0, 0]]), \"CONSTANT\")\n",
    "    ret = ret[:num_words]\n",
    "    return ret\n",
    " \n",
    "with open(directory_prefix+\"/class_descriptions/class_descriptions_from_patents.pickle\", 'rb') as f:\n",
    "    label_dict = pickle.load(f)\n",
    "label_dict = {k[:label_depth]: get_sentence_vector(val.lower(), num_words_description) for k, val in label_dict.items()}\n",
    "#label_dict = {k[:label_depth]: get_sentence_vector(val.lower(), num_words_description) for k, val in label_dict.items()}\n",
    "\n",
    "label_dict_keys = set(label_dict.keys())\n"
   ]
  },
  {
   "cell_type": "code",
   "execution_count": 2,
   "metadata": {
    "colab": {
     "base_uri": "https://localhost:8080/",
     "height": 34
    },
    "colab_type": "code",
    "id": "cM9igP7lCXup",
    "outputId": "725c8ce6-adb6-4ad3-8016-a2ed6aa457aa"
   },
   "outputs": [
    {
     "name": "stdout",
     "output_type": "stream",
     "text": [
      "128\n"
     ]
    }
   ],
   "source": [
    "print(embedding_dim)"
   ]
  },
  {
   "cell_type": "code",
   "execution_count": 33,
   "metadata": {
    "colab": {
     "base_uri": "https://localhost:8080/",
     "height": 34
    },
    "colab_type": "code",
    "id": "zMkC0VFdhZNf",
    "outputId": "05fe3ff7-7adf-411a-ebf9-e663c4443b10"
   },
   "outputs": [],
   "source": [
    "number_occurences=400\n",
    "def lstm_data_generator():\n",
    "    occurences = {k:0 for k in label_dict.keys()}\n",
    "    current_dataframe = pd.read_csv(directory_prefix+'/datasets/items2.csv',sep=',', header = None).to_numpy()#, chunksize=100000)\n",
    "    indices = np.random.choice(len(current_dataframe), len(current_dataframe)//2)\n",
    "    for row in current_dataframe[indices]:\n",
    "        label, description=row[0], row[1]\n",
    "        lstm_input_patent = get_sentence_vector(description.lower(), num_words)\n",
    "        label_vectors = [z.strip().strip('\\'\\\"')[:label_depth] for z in label.split(',')]\n",
    "        label_vectors = set([i for i in label_vectors if i in label_dict_keys])\n",
    "        non_true_vectors = set([i for i in random.sample(label_dict_keys, min(len(label_vectors), len(label_dict.keys()))) if i not in label_vectors])\n",
    "        for l, k in zip((label_dict[i] for i in label_vectors), label_vectors):\n",
    "            if occurences[k] >= number_occurences:\n",
    "                continue\n",
    "            occurences[k] +=1\n",
    "            yield ({'input_1':lstm_input_patent, 'input_2':l}, {'output_binary':[1]})\n",
    "        for l, k in zip((label_dict[i] for i in non_true_vectors), non_true_vectors):\n",
    "            if occurences[k] >= number_occurences:\n",
    "                continue\n",
    "            occurences[k] +=1\n",
    "            yield ({'input_1':lstm_input_patent, 'input_2':l}, {'output_binary':[0]})\n",
    "        if sum(occurences.values()) >= len(label_dict)*(number_occurences-4):\n",
    "            print(\"done with occurences\\n\\n\")\n",
    "            return\n",
    "\n",
    "lstm_dataset = tf.data.Dataset.from_generator(lstm_data_generator, ({'input_1':tf.float64, 'input_2':tf.float64}, {'output_binary':tf.float64}), ({'input_1':tf.TensorShape([num_words, embedding_dim]), 'input_2':tf.TensorShape([num_words_description, embedding_dim])}, {'output_binary':tf.TensorShape([1])}))\n",
    "lstm_dataset = lstm_dataset.batch(16, drop_remainder=True).prefetch(100).repeat()\n",
    "           "
   ]
  },
  {
   "cell_type": "code",
   "execution_count": 12,
   "metadata": {
    "colab": {
     "base_uri": "https://localhost:8080/",
     "height": 34
    },
    "colab_type": "code",
    "id": "zMkC0VFdhZNf",
    "outputId": "05fe3ff7-7adf-411a-ebf9-e663c4443b10"
   },
   "outputs": [
    {
     "name": "stdout",
     "output_type": "stream",
     "text": [
      "<tensorflow.python.keras.engine.functional.Functional object at 0x7fe4ac250240>\n"
     ]
    }
   ],
   "source": [
    "\n",
    "\n",
    "input_lstm = tf.keras.Input(shape=(num_words, embedding_dim), name='input_1')\n",
    "input_label = tf.keras.Input(shape=(num_words_description, embedding_dim), name='input_2')\n",
    "\n",
    "patent_mask = tf.keras.layers.Masking(mask_value=0., input_shape=(num_words, embedding_dim))(input_lstm)\n",
    "label_mask = tf.keras.layers.Masking(mask_value=0., input_shape=(num_words_description, embedding_dim))(input_label)\n",
    "\n",
    "layer_size = embedding_dim*2\n",
    "patent = tf.keras.layers.Bidirectional(tf.keras.layers.LSTM(embedding_dim, return_sequences=True))(patent_mask)\n",
    "label = tf.keras.layers.Bidirectional(tf.keras.layers.LSTM(embedding_dim, return_sequences=True))(label_mask)\n",
    "\n",
    "#\n",
    "\n",
    "\n",
    "patent = tf.keras.layers.TimeDistributed(tf.keras.layers.Dense(layer_size//2))(patent)\n",
    "patent = tf.keras.layers.GlobalAveragePooling1D()(patent)\n",
    "\n",
    "label = tf.keras.layers.TimeDistributed(tf.keras.layers.Dense(layer_size//2))(label)\n",
    "label = tf.keras.layers.GlobalAveragePooling1D()(label)\n",
    "#patent = tf.keras.layers.Dense(layer_size//2)(patent)\n",
    "#label =  tf.keras.layers.Dense(layer_size//2)(label)\n",
    "\n",
    "#subtract = tf.keras.layers.Subtract()([patent, label])\n",
    "#multiply = tf.keras.layers.Multiply()([patent, label])\n",
    "\n",
    "concat = tf.keras.layers.Concatenate(axis=1)([label, patent])\n",
    "dense = tf.keras.layers.Dense(int(layer_size))(concat)\n",
    "dense = tf.keras.layers.Dense(int(layer_size))(dense)\n",
    "dense = tf.keras.layers.Dense(int(layer_size), activation='relu')(dense)\n",
    "dense = tf.keras.layers.Dense(int(layer_size), activation='relu')(dense)\n",
    "dense = tf.keras.layers.Dense(int(layer_size), activation='relu')(dense)\n",
    "\n",
    "output_binary = tf.keras.layers.Dense(1, name='output_binary')(dense)\n",
    "\n",
    "\n",
    "#lstm_enforce_1 = tf.keras.layers.Dense(200, activation='relu')(patent_lstm)\n",
    "#lstm_enforce_2 = tf.keras.layers.Dense(1000, name='output_2')(lstm_enforce_1)\n",
    "#model = tf.keras.Model(inputs={'input_1':input_lstm, 'input_2':input_label}, outputs={'output_1':output_binary, 'output_2':lstm_enforce_2})\n",
    "model = tf.keras.Model(inputs={'input_1':input_lstm, 'input_2':input_label}, outputs=[output_binary])\n",
    "print(model)"
   ]
  },
  {
   "cell_type": "code",
   "execution_count": 13,
   "metadata": {
    "colab": {
     "base_uri": "https://localhost:8080/",
     "height": 34
    },
    "colab_type": "code",
    "id": "zf3uuOE9OYBh",
    "outputId": "a89816d0-c202-46e5-fab5-03a8489353b7"
   },
   "outputs": [
    {
     "name": "stdout",
     "output_type": "stream",
     "text": [
      "128\n"
     ]
    }
   ],
   "source": [
    "print(len(label_dict))"
   ]
  },
  {
   "cell_type": "code",
   "execution_count": 18,
   "metadata": {
    "colab": {
     "base_uri": "https://localhost:8080/",
     "height": 694
    },
    "colab_type": "code",
    "id": "awvA_Z9-hdAC",
    "outputId": "cc371ca1-4f6e-4755-ded8-f730e32aca36"
   },
   "outputs": [
    {
     "name": "stdout",
     "output_type": "stream",
     "text": [
      "Model: \"functional_3\"\n",
      "__________________________________________________________________________________________________\n",
      "Layer (type)                    Output Shape         Param #     Connected to                     \n",
      "==================================================================================================\n",
      "input_2 (InputLayer)            [(None, 200, 128)]   0                                            \n",
      "__________________________________________________________________________________________________\n",
      "input_1 (InputLayer)            [(None, 200, 128)]   0                                            \n",
      "__________________________________________________________________________________________________\n",
      "masking_3 (Masking)             (None, 200, 128)     0           input_2[0][0]                    \n",
      "__________________________________________________________________________________________________\n",
      "masking_2 (Masking)             (None, 200, 128)     0           input_1[0][0]                    \n",
      "__________________________________________________________________________________________________\n",
      "bidirectional_3 (Bidirectional) (None, 200, 256)     263168      masking_3[0][0]                  \n",
      "__________________________________________________________________________________________________\n",
      "bidirectional_2 (Bidirectional) (None, 200, 256)     263168      masking_2[0][0]                  \n",
      "__________________________________________________________________________________________________\n",
      "time_distributed_3 (TimeDistrib (None, 200, 128)     32896       bidirectional_3[0][0]            \n",
      "__________________________________________________________________________________________________\n",
      "time_distributed_2 (TimeDistrib (None, 200, 128)     32896       bidirectional_2[0][0]            \n",
      "__________________________________________________________________________________________________\n",
      "global_average_pooling1d_3 (Glo (None, 128)          0           time_distributed_3[0][0]         \n",
      "__________________________________________________________________________________________________\n",
      "global_average_pooling1d_2 (Glo (None, 128)          0           time_distributed_2[0][0]         \n",
      "__________________________________________________________________________________________________\n",
      "concatenate_1 (Concatenate)     (None, 256)          0           global_average_pooling1d_3[0][0] \n",
      "                                                                 global_average_pooling1d_2[0][0] \n",
      "__________________________________________________________________________________________________\n",
      "dense_9 (Dense)                 (None, 256)          65792       concatenate_1[0][0]              \n",
      "__________________________________________________________________________________________________\n",
      "dense_10 (Dense)                (None, 256)          65792       dense_9[0][0]                    \n",
      "__________________________________________________________________________________________________\n",
      "dense_11 (Dense)                (None, 256)          65792       dense_10[0][0]                   \n",
      "__________________________________________________________________________________________________\n",
      "dense_12 (Dense)                (None, 256)          65792       dense_11[0][0]                   \n",
      "__________________________________________________________________________________________________\n",
      "dense_13 (Dense)                (None, 256)          65792       dense_12[0][0]                   \n",
      "__________________________________________________________________________________________________\n",
      "output_binary (Dense)           (None, 1)            257         dense_13[0][0]                   \n",
      "==================================================================================================\n",
      "Total params: 921,345\n",
      "Trainable params: 921,345\n",
      "Non-trainable params: 0\n",
      "__________________________________________________________________________________________________\n"
     ]
    }
   ],
   "source": [
    "#saver = tf.train.Saver(max_to_keep=4, keep_checkpoint_every_n_hours=2)\n",
    "#del model\n",
    "try:\n",
    "    model.load_weights(directory_prefix+\"checkpoints/LSTMWithoutAttention-V1NewDataset.h5\")\n",
    "except:\n",
    "    pass\n",
    "\n",
    "model.summary()\n",
    "opt = tf.optimizers.Adam(1e-5)\n",
    "model.compile(loss=['binary_crossentropy'],\n",
    "              optimizer=opt,\n",
    "              metrics=['accuracy'], experimental_run_tf_function=False)\n",
    "\n",
    "\n",
    "# Create a callback that saves the model's weights\n",
    "cp_callback = tf.keras.callbacks.ModelCheckpoint(filepath=directory_prefix+\"checkpoints/LSTMWithoutAttention-V1NewDataset.h5\",\n",
    "                                                 save_weights_only=False,\n",
    "                                                 verbose=1)\n",
    "\n",
    "class CustomCallback(tf.keras.callbacks.Callback):\n",
    "    def on_epoch_end(self, epoch, logs=None):\n",
    "        generate_prc()\n",
    "prc_callback = CustomCallback()"
   ]
  },
  {
   "cell_type": "code",
   "execution_count": 24,
   "metadata": {},
   "outputs": [
    {
     "name": "stdout",
     "output_type": "stream",
     "text": [
      "{'B01': 120, 'G09': 81, 'G11': 189, 'G03': 126, 'E04': 53, 'C07': 108, 'F28': 27, 'D05': 4, 'G04': 4, 'Y04': 3, 'C23': 49, 'F01': 65, 'B66': 17, 'A23': 39, 'C21': 13, 'Y02': 315, 'B41': 39, 'F25': 33, 'G02': 181, 'C05': 4, 'H03': 101, 'A21': 2, 'F22': 3, 'B27': 9, 'F04': 33, 'B26': 8, 'A01': 83, 'C12': 128, 'C02': 22, 'F23': 18, 'C08': 72, 'B62': 27, 'B64': 39, 'A47': 58, 'B67': 6, 'B33': 7, 'B25': 29, 'G12': 0, 'B29': 73, 'G21': 15, 'G06': 190, 'H05': 87, 'B24': 4, 'H01': 570, 'A24': 1, 'B68': 2, 'F41': 24, 'B30': 6, 'C11': 19, 'E01': 12, 'C14': 1, 'B05': 19, 'F17': 7, 'G08': 19, 'E02': 13, 'B81': 11, 'B42': 9, 'B06': 3, 'F03': 18, 'E06': 9, 'C40': 1, 'B08': 9, 'G01': 295, 'A61': 319, 'C06': 2, 'F02': 59, 'F15': 4, 'B23': 53, 'B63': 11, 'B28': 6, 'B07': 6, 'A62': 7, 'B31': 1, 'H02': 121, 'C25': 8, 'B03': 11, 'F26': 5, 'C10': 20, 'B61': 2, 'C03': 22, 'F27': 3, 'G05': 13, 'Y10': 455, 'F24': 36, 'E05': 15, 'B60': 107, 'A45': 21, 'E03': 9, 'D03': 3, 'B32': 36, 'G16': 11, 'B21': 17, 'F42': 11, 'D06': 17, 'H04': 520, 'A42': 2, 'A44': 4, 'F05': 41, 'C04': 23, 'A41': 11, 'G10': 20, 'C22': 29, 'C01': 53, 'D01': 5, 'D21': 13, 'B09': 3, 'B43': 3, 'D07': 5, 'C30': 8, 'F16': 110, 'E21': 38, 'F21': 27, 'B44': 4, 'D10': 5, 'B65': 99, 'C09': 72, 'A46': 3, 'G07': 21, 'B04': 5, 'B22': 21, 'C13': 1, 'D04': 8, 'B82': 56, 'A43': 8, 'A63': 25, 'D02': 2, 'A22': 0, 'B02': 6}\n",
      "['H01', 'H04', 'Y10', 'A61', 'Y02', 'G01', 'G06', 'G11', 'G02', 'C12', 'G03', 'H02', 'B01', 'F16', 'C07', 'B60', 'H03', 'B65', 'H05', 'A01', 'G09', 'B29', 'C09', 'C08', 'F01', 'F02', 'A47', 'B82', 'C01', 'B23', 'E04', 'C23', 'F05', 'B64', 'B41', 'A23', 'E21', 'B32', 'F24', 'F04', 'F25', 'C22', 'B25', 'F21', 'B62', 'F28', 'A63', 'F41', 'C04', 'C03', 'C02', 'B22', 'G07', 'A45', 'G10', 'C10', 'G08', 'B05', 'C11', 'F03', 'F23', 'D06', 'B21', 'B66', 'E05', 'G21', 'D21', 'G05', 'E02', 'C21', 'E01', 'A41', 'F42', 'G16', 'B03', 'B63', 'B81', 'E03', 'B08', 'E06', 'B42', 'B27', 'A43', 'D04', 'C30', 'C25', 'B26', 'A62', 'F17', 'B33', 'B02', 'B07', 'B28', 'B30', 'B67', 'B04', 'D10', 'D07', 'D01', 'F26', 'B44', 'A44', 'F15', 'B24', 'C05', 'G04', 'D05', 'A46', 'B43', 'B09', 'D03', 'F27', 'B06', 'F22', 'Y04', 'D02', 'A42', 'B61', 'C06', 'B68', 'A21', 'C13', 'B31', 'C40', 'C14', 'A24', 'A22', 'G12']\n"
     ]
    },
    {
     "data": {
      "image/png": "[encoded data removed]",
      "text/plain": [
       "<Figure size 432x288 with 1 Axes>"
      ]
     },
     "metadata": {
      "needs_background": "light"
     },
     "output_type": "display_data"
    },
    {
     "data": {
      "text/plain": [
       "<Figure size 432x288 with 0 Axes>"
      ]
     },
     "metadata": {},
     "output_type": "display_data"
    }
   ],
   "source": [
    "current_dataframe = pd.read_csv(directory_prefix+'/datasets/items1.csv',sep=',', header = None).to_numpy()#, chunksize=100000)\n",
    "#indices = np.random.choice(300000, 10000)\n",
    "occurences={k:0 for k in label_dict_keys}\n",
    "for row in current_dataframe:\n",
    "    label, description=row[0], row[1]\n",
    "    lstm_input_patent = get_sentence_vector(description.lower(), num_words)\n",
    "    label_vectors = [z.strip().strip('\\'\\\"')[:label_depth] for z in label.split(',')]\n",
    "    label_vectors = set([i for i in label_vectors if i in label_dict_keys])\n",
    "    for i in label_vectors:\n",
    "        occurences[i] += 1\n",
    "print(occurences)\n",
    "n = 0\n",
    "d=0\n",
    "recalls = np.arange(0, 1.01, .01)\n",
    "ns = []\n",
    "prediction = sorted(occurences.keys(), key=lambda x: occurences[x])[::-1]\n",
    "print(prediction)\n",
    "for row in pd.read_csv(directory_prefix+'datasets/items1.csv',sep=',', header = None).to_numpy():\n",
    "    label, description=row[0], row[1]\n",
    "    label_vectors = [z.strip().strip('\\'\\\"')[:label_depth] for z in label.split(',')]\n",
    "    label_vectors = set([i for i in label_vectors if i in label_dict_keys])\n",
    "    if label_vectors == set():\n",
    "        continue\n",
    "    #indices = np.flip(np.argsort(prediction, axis=0))\n",
    "    \n",
    "    #print(indices)\n",
    "    e = [1 if i in label_vectors else 0 for i in prediction]\n",
    "    cur = []\n",
    "    total_ones = e.count(1)\n",
    "    n = 0\n",
    "    ones_seen = 0\n",
    "    while ones_seen < total_ones:\n",
    "        if e[n] == 1:\n",
    "            ones_seen = ones_seen+1\n",
    "        n = n+1\n",
    "        cur.append((ones_seen/float(n), ones_seen/float(total_ones)))\n",
    "    new_cur = []\n",
    "    for r in recalls:\n",
    "        max_of_larger = max([i[0] for i in cur if i[1] >= r])\n",
    "        new_cur.append(max_of_larger)\n",
    "    ns.append(new_cur)\n",
    "    #print(max(new_cur))\n",
    "    d = d+1\n",
    "    #print(float(d)/7215)\n",
    "    #print(np.mean(np.vstack(ns), axis=0)[0])\n",
    "p_baseline = np.mean(np.array(ns), axis=0)\n",
    "import matplotlib.pyplot as plt\n",
    "plt.plot(recalls, p_baseline)\n",
    "plt.ylim(0, 1)\n",
    "plt.xlim(0, 1)\n",
    "plt.margins(0.1)\n",
    "#plt.xticks(range(len(distribution_dict.keys()))[::50], new_x[::50], rotation='vertical')\n",
    "plt.ylabel('Precision', fontsize=16)\n",
    "plt.xlabel('Recall', fontsize=16)\n",
    "plt.tight_layout()\n",
    "plt.show()\n",
    "#print(p) \n",
    "plt.savefig('binary_prc1.eps', format='eps')"
   ]
  },
  {
   "cell_type": "code",
   "execution_count": 35,
   "metadata": {},
   "outputs": [
    {
     "name": "stdout",
     "output_type": "stream",
     "text": [
      "3000/3000 [==============================] - 141s 47ms/step\n"
     ]
    },
    {
     "data": {
      "image/png": "[encoded data removed]",
      "text/plain": [
       "<Figure size 432x288 with 1 Axes>"
      ]
     },
     "metadata": {
      "needs_background": "light"
     },
     "output_type": "display_data"
    },
    {
     "data": {
      "text/plain": [
       "<Figure size 432x288 with 0 Axes>"
      ]
     },
     "metadata": {},
     "output_type": "display_data"
    }
   ],
   "source": [
    "def generate_prc():\n",
    "    label_len = len(label_dict_keys)\n",
    "    #print(label_len)\n",
    "    left = [label_dict[i] for i in label_dict_keys]\n",
    "    predictions = []\n",
    "    left_vectors = np.array(list(label_dict_keys))\n",
    "    label_vectors_vector = []\n",
    "    num_tests = 3000\n",
    "    def cur_gen():\n",
    "        for row in pd.read_csv(directory_prefix+'datasets/test_dataset.csv',sep=',', header = None).to_numpy():\n",
    "            label, description=row[0], row[1]\n",
    "            label_vectors = [z.strip().strip('\\'\\\"')[:label_depth] for z in label.split(',')]\n",
    "            label_vectors = set([i for i in label_vectors if i in label_dict_keys])\n",
    "            if label_vectors == set():\n",
    "                continue\n",
    "            label_vectors_vector.append(label_vectors)\n",
    "            lstm_input_patent =  get_sentence_vector(description.lower(), num_words)\n",
    "            for i in left:\n",
    "                yield ({'input_1':lstm_input_patent, 'input_2':i})\n",
    "\n",
    "    dataset = tf.data.Dataset.from_generator(cur_gen, ({'input_1':tf.float64, 'input_2':tf.float64}), ({'input_1':tf.TensorShape([num_words, embedding_dim]), 'input_2':tf.TensorShape([num_words_description, embedding_dim])}))\n",
    "    dataset = dataset.batch(label_len).prefetch(50)\n",
    "    predictions = model.predict(dataset, steps=num_tests, verbose=1).reshape(num_tests, label_len)\n",
    "    n = 0\n",
    "    d=0\n",
    "    recalls = np.arange(0, 1.01, .01)\n",
    "    ns = []\n",
    "    \n",
    "    for prediction, label_vectors in zip(predictions, label_vectors_vector):\n",
    "        indices = np.flip(np.argsort(prediction, axis=0))\n",
    "        #print(indices)\n",
    "        e = [1 if i in label_vectors else 0 for i in left_vectors[indices]]\n",
    "        cur = []\n",
    "        total_ones = e.count(1)\n",
    "        n = 0\n",
    "        ones_seen = 0\n",
    "        while ones_seen < total_ones:\n",
    "            if e[n] == 1:\n",
    "                ones_seen = ones_seen+1\n",
    "            n = n+1\n",
    "            cur.append((ones_seen/float(n), ones_seen/float(total_ones)))\n",
    "        new_cur = []\n",
    "        for r in recalls:\n",
    "            max_of_larger = max([i[0] for i in cur if i[1] >= r])\n",
    "            new_cur.append(max_of_larger)\n",
    "        ns.append(new_cur)\n",
    "        #print(max(new_cur))\n",
    "        d = d+1\n",
    "        #print(float(d)/7215)\n",
    "        #print(np.mean(np.vstack(ns), axis=0)[0])\n",
    "    p = np.mean(np.array(ns), axis=0)\n",
    "    import matplotlib.pyplot as plt\n",
    "    plt.plot(recalls, p)\n",
    "    plt.plot(recalls, p_baseline, 'r')\n",
    "    plt.ylim(0, 1)\n",
    "    plt.xlim(0, 1)\n",
    "    plt.margins(0.1)\n",
    "    #plt.xticks(range(len(distribution_dict.keys()))[::50], new_x[::50], rotation='vertical')\n",
    "    plt.ylabel('Precision', fontsize=16)\n",
    "    plt.xlabel('Recall', fontsize=16)\n",
    "    plt.tight_layout()\n",
    "    plt.show()\n",
    "    #print(p) \n",
    "    plt.savefig('binary_prc1.eps', format='eps')\n",
    "generate_prc()"
   ]
  },
  {
   "cell_type": "code",
   "execution_count": null,
   "metadata": {
    "colab": {
     "base_uri": "https://localhost:8080/",
     "height": 1000
    },
    "colab_type": "code",
    "id": "JdetCO3l-DPU",
    "outputId": "2ade98f6-a042-49e9-89af-9b686259cce3"
   },
   "outputs": [],
   "source": [
    "history = model.fit(lstm_dataset, epochs=50, steps_per_epoch=3000, callbacks=[cp_callback, prc_callback])"
   ]
  },
  {
   "cell_type": "code",
   "execution_count": null,
   "metadata": {},
   "outputs": [],
   "source": []
  },
  {
   "cell_type": "code",
   "execution_count": null,
   "metadata": {
    "colab": {},
    "colab_type": "code",
    "id": "a844kTf5fO0s"
   },
   "outputs": [],
   "source": []
  },
  {
   "cell_type": "code",
   "execution_count": 12,
   "metadata": {
    "colab": {
     "base_uri": "https://localhost:8080/",
     "height": 373
    },
    "colab_type": "code",
    "id": "JB35kwKqrSi8",
    "outputId": "aabdf11b-b546-44ee-f345-a6ed56cafc5d"
   },
   "outputs": [
    {
     "name": "stdout",
     "output_type": "stream",
     "text": [
      "1000/1000 [==============================] - 34s 34ms/step\n"
     ]
    },
    {
     "data": {
      "image/png": "[encoded data removed]",
      "text/plain": [
       "<Figure size 432x288 with 1 Axes>"
      ]
     },
     "metadata": {
      "needs_background": "light"
     },
     "output_type": "display_data"
    },
    {
     "data": {
      "text/plain": [
       "<Figure size 432x288 with 0 Axes>"
      ]
     },
     "metadata": {},
     "output_type": "display_data"
    }
   ],
   "source": [
    "\n",
    "generate_prc()"
   ]
  },
  {
   "cell_type": "code",
   "execution_count": null,
   "metadata": {
    "colab": {},
    "colab_type": "code",
    "id": "OojymS4afPdy"
   },
   "outputs": [],
   "source": []
  }
 ],
 "metadata": {
  "accelerator": "GPU",
  "colab": {
   "collapsed_sections": [],
   "name": "PatentStuffNotebook.ipynb",
   "provenance": []
  },
  "kernelspec": {
   "display_name": "Python 3",
   "language": "python",
   "name": "python3"
  },
  "language_info": {
   "codemirror_mode": {
    "name": "ipython",
    "version": 3
   },
   "file_extension": ".py",
   "mimetype": "text/x-python",
   "name": "python",
   "nbconvert_exporter": "python",
   "pygments_lexer": "ipython3",
   "version": "3.6.9"
  }
 },
 "nbformat": 4,
 "nbformat_minor": 1
}
