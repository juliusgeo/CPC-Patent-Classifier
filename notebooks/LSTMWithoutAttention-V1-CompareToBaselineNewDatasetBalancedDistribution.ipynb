{
 "cells": [
  {
   "cell_type": "code",
   "execution_count": null,
   "metadata": {
    "colab": {
     "base_uri": "https://localhost:8080/",
     "height": 34
    },
    "colab_type": "code",
    "id": "4L8TJHgad_7M",
    "outputId": "ee182713-b61f-46da-bd7d-22f965e8fc43"
   },
   "outputs": [],
   "source": []
  },
  {
   "cell_type": "code",
   "execution_count": null,
   "metadata": {
    "colab": {
     "base_uri": "https://localhost:8080/",
     "height": 34
    },
    "colab_type": "code",
    "id": "MJQHRv1rgdGY",
    "outputId": "d91bc341-6253-42af-ac2f-8da7b4ac7286"
   },
   "outputs": [],
   "source": []
  },
  {
   "cell_type": "code",
   "execution_count": null,
   "metadata": {
    "colab": {},
    "colab_type": "code",
    "id": "wK-l3s1hhQmd"
   },
   "outputs": [],
   "source": []
  },
  {
   "cell_type": "code",
   "execution_count": 1,
   "metadata": {
    "colab": {
     "base_uri": "https://localhost:8080/",
     "height": 159
    },
    "colab_type": "code",
    "id": "9QN5Z2_6eRq0",
    "outputId": "f45d893f-2f8f-4a72-f522-a94895fef779"
   },
   "outputs": [
    {
     "name": "stderr",
     "output_type": "stream",
     "text": [
      "[nltk_data] Downloading package stopwords to /home/jpark/nltk_data...\n",
      "[nltk_data]   Package stopwords is already up-to-date!\n"
     ]
    }
   ],
   "source": [
    "import numpy as np\n",
    "import gensim, logging\n",
    "import csv, string\n",
    "import nltk\n",
    "#nltk.download('punkt')\n",
    "nltk.download('stopwords')\n",
    "from nltk.tokenize import word_tokenize\n",
    "from nltk.stem.porter import PorterStemmer\n",
    "import pandas as pd\n",
    "import tensorflow as tf\n",
    "import os\n",
    "import pickle\n",
    "\n",
    "num_words = 400\n",
    "num_words_description = 400\n",
    "directory_prefix = \"../\"\n",
    "train_dataset_path = directory_prefix+'datasets/dataset2002-2020.csv'\n",
    "test_dataset_path = directory_prefix+'datasets/balanced_test_dataset_label_depth_3.csv'\n",
    "label_depth = 3\n",
    "import random\n",
    "#import gensim.downloader as api\n",
    "from nltk.corpus import stopwords\n",
    "from gensim.parsing.preprocessing import remove_stopwords\n",
    "\n",
    "\n",
    "import tensorflow_hub as hub\n",
    "\n",
    "embed = hub.load(\"https://tfhub.dev/google/tf2-preview/nnlm-en-dim128-with-normalization/1\")\n",
    "#embed = hub.load(\"https://tfhub.dev/google/Wiki-words-500/2\")\n",
    "\n",
    "embeddings = embed([\"cat is on the mat\", \"dog is in the fog\"])\n",
    "embedding_dim = embeddings.shape[1]\n",
    "#print(embeddings)\n",
    "def get_sentence_vector(words, num_words):\n",
    "    words = word_tokenize(remove_stopwords(words))\n",
    "    #words = list(filter(lambda w: len(w)>2, words))\n",
    "    ret = embed(words)\n",
    "    ret = tf.pad(ret, tf.constant([[0, max(0, num_words-ret.shape[0]),], [0, 0]]), \"CONSTANT\")\n",
    "    ret = ret[:num_words]\n",
    "    return ret\n",
    " \n",
    "with open(directory_prefix+\"/class_descriptions/class_descriptions_from_patents.pickle\", 'rb') as f:\n",
    "    label_dict = pickle.load(f)\n",
    "label_dict = {k[:label_depth]: get_sentence_vector(val.lower(), num_words_description) for k, val in label_dict.items()}\n",
    "#label_dict = {k[:label_depth]: get_sentence_vector(val.lower(), num_words_description) for k, val in label_dict.items()}\n",
    "\n",
    "label_dict_keys = set(label_dict.keys())\n"
   ]
  },
  {
   "cell_type": "code",
   "execution_count": 17,
   "metadata": {
    "colab": {
     "base_uri": "https://localhost:8080/",
     "height": 34
    },
    "colab_type": "code",
    "id": "cM9igP7lCXup",
    "outputId": "725c8ce6-adb6-4ad3-8016-a2ed6aa457aa"
   },
   "outputs": [
    {
     "name": "stdout",
     "output_type": "stream",
     "text": [
      "128\n"
     ]
    }
   ],
   "source": [
    "print(embedding_dim)"
   ]
  },
  {
   "cell_type": "code",
   "execution_count": 38,
   "metadata": {
    "colab": {
     "base_uri": "https://localhost:8080/",
     "height": 34
    },
    "colab_type": "code",
    "id": "zMkC0VFdhZNf",
    "outputId": "05fe3ff7-7adf-411a-ebf9-e663c4443b10"
   },
   "outputs": [],
   "source": [
    "number_occurences=1000\n",
    "def lstm_data_generator():\n",
    "    occurences = {k:0 for k in label_dict.keys()}\n",
    "    current_dataframe = pd.read_csv(train_dataset_path,sep=',', header = None).to_numpy()#, chunksize=100000)\n",
    "    indices = np.random.choice(len(current_dataframe), len(current_dataframe)//20)\n",
    "    for row in current_dataframe[indices]:\n",
    "        if not isinstance(row[1], str) or not isinstance(row[2], str):\n",
    "            continue\n",
    "        label, description=row[0], row[1]+row[2]\n",
    "        lstm_input_patent = get_sentence_vector(description.lower(), num_words)\n",
    "        label_vectors = [z.strip().strip('\\'\\\"')[:label_depth] for z in label.split(',')]\n",
    "        label_vectors = set([i for i in label_vectors if i in label_dict_keys])\n",
    "        non_true_vectors = set([i for i in random.sample(label_dict_keys, min(len(label_vectors), len(label_dict.keys()))) if i not in label_vectors])\n",
    "        skip = False\n",
    "        for i in label_vectors:\n",
    "            if occurences[i] >= number_occurences:\n",
    "                skip = True\n",
    "        if skip:\n",
    "            continue\n",
    "        for l, k in zip((label_dict[i] for i in label_vectors), label_vectors):\n",
    "            if occurences[k] >= number_occurences:\n",
    "                continue\n",
    "            occurences[k] +=1\n",
    "            yield ({'input_1':lstm_input_patent, 'input_2':l}, {'output_binary':[1]})\n",
    "        for l, k in zip((label_dict[i] for i in non_true_vectors), non_true_vectors):\n",
    "            if occurences[k] >= number_occurences:\n",
    "                continue\n",
    "            occurences[k] +=1\n",
    "            yield ({'input_1':lstm_input_patent, 'input_2':l}, {'output_binary':[0]})\n",
    "        if sum(occurences.values()) >= len(label_dict)*(number_occurences-1):\n",
    "            print(\"\\n\\ndone with occurences\\n\\n\")\n",
    "            occurences = {k:0 for k in label_dict.keys()}\n",
    "    return\n",
    "\n",
    "lstm_dataset = tf.data.Dataset.from_generator(lstm_data_generator, ({'input_1':tf.float64, 'input_2':tf.float64}, {'output_binary':tf.float64}), ({'input_1':tf.TensorShape([num_words, embedding_dim]), 'input_2':tf.TensorShape([num_words_description, embedding_dim])}, {'output_binary':tf.TensorShape([1])}))\n",
    "lstm_dataset = lstm_dataset.batch(16, drop_remainder=True).prefetch(100).repeat()\n"
   ]
  },
  {
   "cell_type": "code",
   "execution_count": 4,
   "metadata": {
    "colab": {
     "base_uri": "https://localhost:8080/",
     "height": 34
    },
    "colab_type": "code",
    "id": "zMkC0VFdhZNf",
    "outputId": "05fe3ff7-7adf-411a-ebf9-e663c4443b10"
   },
   "outputs": [
    {
     "name": "stdout",
     "output_type": "stream",
     "text": [
      "<tensorflow.python.keras.engine.functional.Functional object at 0x7faf580b0748>\n"
     ]
    }
   ],
   "source": [
    "\n",
    "\n",
    "input_lstm = tf.keras.Input(shape=(num_words, embedding_dim), name='input_1')\n",
    "input_label = tf.keras.Input(shape=(num_words_description, embedding_dim), name='input_2')\n",
    "\n",
    "patent_mask = tf.keras.layers.Masking(mask_value=0., input_shape=(num_words, embedding_dim))(input_lstm)\n",
    "label_mask = tf.keras.layers.Masking(mask_value=0., input_shape=(num_words_description, embedding_dim))(input_label)\n",
    "\n",
    "layer_size = embedding_dim\n",
    "patent = tf.keras.layers.Bidirectional(tf.keras.layers.LSTM(embedding_dim, return_sequences=True))(patent_mask)\n",
    "label = tf.keras.layers.Bidirectional(tf.keras.layers.LSTM(embedding_dim, return_sequences=True))(label_mask)\n",
    "\n",
    "#\n",
    "\n",
    "\n",
    "patent = tf.keras.layers.TimeDistributed(tf.keras.layers.Dense(layer_size))(patent)\n",
    "patent = tf.keras.layers.GlobalAveragePooling1D()(patent)\n",
    "\n",
    "label = tf.keras.layers.TimeDistributed(tf.keras.layers.Dense(layer_size))(label)\n",
    "label = tf.keras.layers.GlobalAveragePooling1D()(label)\n",
    "#patent = tf.keras.layers.Dense(layer_size//2)(patent)\n",
    "#label =  tf.keras.layers.Dense(layer_size//2)(label)\n",
    "\n",
    "#subtract = tf.keras.layers.Subtract()([patent, label])\n",
    "#multiply = tf.keras.layers.Multiply()([patent, label])\n",
    "\n",
    "concat = tf.keras.layers.Concatenate(axis=1)([label, patent])\n",
    "dense = tf.keras.layers.Dense(int(layer_size)*2)(concat)\n",
    "dense = tf.keras.layers.Dense(int(layer_size)*2)(dense)\n",
    "dense = tf.keras.layers.Dense(int(layer_size)*2, activation='relu')(dense)\n",
    "dense = tf.keras.layers.Dense(int(layer_size)*2, activation='relu')(dense)\n",
    "dense = tf.keras.layers.Dense(int(layer_size)*2, activation='relu')(dense)\n",
    "\n",
    "output_binary = tf.keras.layers.Dense(1, name='output_binary')(dense)\n",
    "\n",
    "\n",
    "#lstm_enforce_1 = tf.keras.layers.Dense(200, activation='relu')(patent_lstm)\n",
    "#lstm_enforce_2 = tf.keras.layers.Dense(1000, name='output_2')(lstm_enforce_1)\n",
    "#model = tf.keras.Model(inputs={'input_1':input_lstm, 'input_2':input_label}, outputs={'output_1':output_binary, 'output_2':lstm_enforce_2})\n",
    "model = tf.keras.Model(inputs={'input_1':input_lstm, 'input_2':input_label}, outputs=[output_binary])\n",
    "print(model)"
   ]
  },
  {
   "cell_type": "code",
   "execution_count": 5,
   "metadata": {
    "colab": {
     "base_uri": "https://localhost:8080/",
     "height": 34
    },
    "colab_type": "code",
    "id": "zf3uuOE9OYBh",
    "outputId": "a89816d0-c202-46e5-fab5-03a8489353b7"
   },
   "outputs": [
    {
     "name": "stdout",
     "output_type": "stream",
     "text": [
      "128\n"
     ]
    }
   ],
   "source": [
    "print(len(label_dict))"
   ]
  },
  {
   "cell_type": "code",
   "execution_count": 6,
   "metadata": {
    "colab": {
     "base_uri": "https://localhost:8080/",
     "height": 694
    },
    "colab_type": "code",
    "id": "awvA_Z9-hdAC",
    "outputId": "cc371ca1-4f6e-4755-ded8-f730e32aca36"
   },
   "outputs": [
    {
     "name": "stdout",
     "output_type": "stream",
     "text": [
      "Model: \"functional_1\"\n",
      "__________________________________________________________________________________________________\n",
      "Layer (type)                    Output Shape         Param #     Connected to                     \n",
      "==================================================================================================\n",
      "input_2 (InputLayer)            [(None, 400, 128)]   0                                            \n",
      "__________________________________________________________________________________________________\n",
      "input_1 (InputLayer)            [(None, 400, 128)]   0                                            \n",
      "__________________________________________________________________________________________________\n",
      "masking_1 (Masking)             (None, 400, 128)     0           input_2[0][0]                    \n",
      "__________________________________________________________________________________________________\n",
      "masking (Masking)               (None, 400, 128)     0           input_1[0][0]                    \n",
      "__________________________________________________________________________________________________\n",
      "bidirectional_1 (Bidirectional) (None, 400, 256)     263168      masking_1[0][0]                  \n",
      "__________________________________________________________________________________________________\n",
      "bidirectional (Bidirectional)   (None, 400, 256)     263168      masking[0][0]                    \n",
      "__________________________________________________________________________________________________\n",
      "time_distributed_1 (TimeDistrib (None, 400, 128)     32896       bidirectional_1[0][0]            \n",
      "__________________________________________________________________________________________________\n",
      "time_distributed (TimeDistribut (None, 400, 128)     32896       bidirectional[0][0]              \n",
      "__________________________________________________________________________________________________\n",
      "global_average_pooling1d_1 (Glo (None, 128)          0           time_distributed_1[0][0]         \n",
      "__________________________________________________________________________________________________\n",
      "global_average_pooling1d (Globa (None, 128)          0           time_distributed[0][0]           \n",
      "__________________________________________________________________________________________________\n",
      "concatenate (Concatenate)       (None, 256)          0           global_average_pooling1d_1[0][0] \n",
      "                                                                 global_average_pooling1d[0][0]   \n",
      "__________________________________________________________________________________________________\n",
      "dense_2 (Dense)                 (None, 256)          65792       concatenate[0][0]                \n",
      "__________________________________________________________________________________________________\n",
      "dense_3 (Dense)                 (None, 256)          65792       dense_2[0][0]                    \n",
      "__________________________________________________________________________________________________\n",
      "dense_4 (Dense)                 (None, 256)          65792       dense_3[0][0]                    \n",
      "__________________________________________________________________________________________________\n",
      "dense_5 (Dense)                 (None, 256)          65792       dense_4[0][0]                    \n",
      "__________________________________________________________________________________________________\n",
      "dense_6 (Dense)                 (None, 256)          65792       dense_5[0][0]                    \n",
      "__________________________________________________________________________________________________\n",
      "output_binary (Dense)           (None, 1)            257         dense_6[0][0]                    \n",
      "==================================================================================================\n",
      "Total params: 921,345\n",
      "Trainable params: 921,345\n",
      "Non-trainable params: 0\n",
      "__________________________________________________________________________________________________\n"
     ]
    }
   ],
   "source": [
    "#saver = tf.train.Saver(max_to_keep=4, keep_checkpoint_every_n_hours=2)\n",
    "#del model\n",
    "try:\n",
    "    model.load_weights(directory_prefix+\"checkpoints/LSTMWithoutAttention-V1NewDataset.h5\")\n",
    "except:\n",
    "    pass\n",
    "\n",
    "model.summary()\n",
    "opt = tf.optimizers.Adam(1e-5)\n",
    "model.compile(loss=['binary_crossentropy'],\n",
    "              optimizer=opt,\n",
    "              metrics=['accuracy'], experimental_run_tf_function=False)\n",
    "\n",
    "\n",
    "# Create a callback that saves the model's weights\n",
    "cp_callback = tf.keras.callbacks.ModelCheckpoint(filepath=directory_prefix+\"checkpoints/LSTMWithoutAttention-V1NewDataset.h5\",\n",
    "                                                 save_weights_only=False,\n",
    "                                                 verbose=1)\n",
    "\n",
    "class CustomCallback(tf.keras.callbacks.Callback):\n",
    "    def on_epoch_end(self, epoch, logs=None):\n",
    "        generate_prc()\n",
    "prc_callback = CustomCallback()"
   ]
  },
  {
   "cell_type": "code",
   "execution_count": 25,
   "metadata": {},
   "outputs": [
    {
     "name": "stdout",
     "output_type": "stream",
     "text": [
      "4216\n",
      "{'H01': 50, 'B44': 50, 'D03': 50, 'F42': 50, 'B05': 50, 'F21': 50, 'F17': 50, 'B29': 50, 'A42': 50, 'D01': 50, 'F03': 50, 'G09': 50, 'C05': 50, 'B26': 50, 'B82': 11, 'B04': 50, 'B43': 50, 'G05': 50, 'A61': 50, 'B42': 50, 'F23': 50, 'G21': 50, 'B60': 50, 'C13': 50, 'B32': 50, 'G02': 50, 'A22': 50, 'C10': 50, 'F22': 50, 'A62': 50, 'G01': 50, 'B21': 50, 'E01': 50, 'B09': 50, 'C25': 50, 'E02': 50, 'B68': 50, 'C06': 10, 'G07': 50, 'B63': 50, 'B33': 50, 'H02': 50, 'E05': 50, 'Y10': 50, 'C02': 50, 'F28': 50, 'C22': 50, 'C30': 50, 'G03': 50, 'B61': 50, 'C07': 50, 'B25': 50, 'A41': 50, 'B08': 50, 'D07': 50, 'B24': 50, 'C23': 50, 'G06': 50, 'D04': 50, 'C01': 50, 'B07': 50, 'G04': 50, 'D10': 46, 'B28': 50, 'B03': 50, 'F15': 50, 'B64': 50, 'B23': 50, 'B66': 50, 'B30': 50, 'C03': 50, 'F16': 50, 'C12': 50, 'B22': 50, 'B06': 50, 'F26': 50, 'Y04': 1, 'B27': 50, 'H05': 50, 'A43': 50, 'B65': 50, 'A24': 50, 'C04': 50, 'A44': 50, 'C14': 50, 'F24': 50, 'F05': 50, 'G16': 50, 'C11': 50, 'D06': 50, 'D21': 50, 'B67': 50, 'G10': 50, 'E04': 50, 'B02': 50, 'F04': 50, 'A46': 50, 'H03': 50, 'A47': 50, 'E03': 50, 'F41': 50, 'C40': 0, 'F25': 50, 'Y02': 50, 'C08': 50, 'A23': 50, 'B81': 50, 'E06': 50, 'H04': 50, 'D05': 50, 'B41': 50, 'F27': 50, 'B31': 50, 'C21': 50, 'A45': 50, 'E21': 50, 'B01': 50, 'D02': 50, 'F01': 50, 'F02': 50, 'A63': 50, 'G08': 50, 'A01': 50, 'C09': 50, 'A21': 50, 'G11': 50, 'G12': 0, 'B62': 50}\n"
     ]
    }
   ],
   "source": [
    "current_dataframe = pd.read_csv(test_dataset_path,sep=',', header = None).to_numpy()#, chunksize=100000)\n",
    "#indices = np.random.choice(300000, 10000)\n",
    "occurences={k:0 for k in label_dict_keys}\n",
    "print(len(current_dataframe))\n",
    "for row in current_dataframe:\n",
    "    label, description=row[0], row[1]\n",
    "    label_vectors = [z.strip().strip('\\'\\\"')[:label_depth] for z in label.split(',')]\n",
    "    label_vectors = set([i for i in label_vectors if i in label_dict_keys])\n",
    "    for i in label_vectors:\n",
    "        occurences[i] += 1\n",
    "print(occurences)"
   ]
  },
  {
   "cell_type": "code",
   "execution_count": 26,
   "metadata": {},
   "outputs": [
    {
     "name": "stdout",
     "output_type": "stream",
     "text": [
      "['B62', 'G11', 'A21', 'C09', 'A01', 'G08', 'A63', 'F02', 'F01', 'D02', 'B01', 'E21', 'A45', 'C21', 'B31', 'F27', 'B41', 'D05', 'H04', 'E06', 'B81', 'A23', 'C08', 'Y02', 'F25', 'F41', 'E03', 'A47', 'H03', 'A46', 'F04', 'B02', 'E04', 'G10', 'B67', 'D21', 'D06', 'C11', 'G16', 'F05', 'F24', 'C14', 'A44', 'C04', 'A24', 'B65', 'A43', 'H05', 'B27', 'F26', 'B06', 'B22', 'C12', 'F16', 'C03', 'B30', 'B66', 'B23', 'B64', 'F15', 'B03', 'B28', 'G04', 'B07', 'C01', 'D04', 'G06', 'C23', 'B24', 'D07', 'B08', 'A41', 'B25', 'C07', 'B61', 'G03', 'C30', 'C22', 'F28', 'C02', 'Y10', 'E05', 'H02', 'B33', 'B63', 'G07', 'B68', 'E02', 'C25', 'B09', 'E01', 'B21', 'G01', 'A62', 'F22', 'C10', 'A22', 'G02', 'B32', 'C13', 'B60', 'G21', 'F23', 'B42', 'A61', 'G05', 'B43', 'B04', 'B26', 'C05', 'G09', 'F03', 'D01', 'A42', 'B29', 'F17', 'F21', 'B05', 'F42', 'D03', 'B44', 'H01', 'D10', 'B82', 'C06', 'Y04', 'G12', 'C40']\n"
     ]
    },
    {
     "data": {
      "image/png": "[encoded data removed]",
      "text/plain": [
       "<Figure size 432x288 with 1 Axes>"
      ]
     },
     "metadata": {
      "needs_background": "light"
     },
     "output_type": "display_data"
    }
   ],
   "source": [
    "n = 0\n",
    "d=0\n",
    "recalls = np.arange(0, 1.01, .01)\n",
    "ns = []\n",
    "prediction = sorted(occurences.keys(), key=lambda x: occurences[x])[::-1]\n",
    "print(prediction)\n",
    "occurences = {k: 0 for k in label_dict_keys}\n",
    "for row in pd.read_csv(test_dataset_path,sep=',', header = None).to_numpy():\n",
    "    label, description=row[0], row[1]\n",
    "    label_vectors = [z.strip().strip('\\'\\\"')[:label_depth] for z in label.split(',')]\n",
    "    label_vectors = set([i for i in label_vectors if i in label_dict_keys])\n",
    "    if label_vectors == set():\n",
    "        continue\n",
    "    #if(sum([occurences[i] for i in label_vectors]) >= len(label_vectors)):\n",
    "    #    continue\n",
    "    for i in label_vectors:\n",
    "        occurences[i] += 1\n",
    "    e = [1 if i in label_vectors else 0 for i in prediction]\n",
    "    cur = []\n",
    "    total_ones = e.count(1)\n",
    "    n = 0\n",
    "    ones_seen = 0\n",
    "    while ones_seen < total_ones:\n",
    "        if e[n] == 1:\n",
    "            ones_seen = ones_seen+1\n",
    "        n = n+1\n",
    "        cur.append((ones_seen/float(n), ones_seen/float(total_ones)))\n",
    "    new_cur = []\n",
    "    for r in recalls:\n",
    "        max_of_larger = max([i[0] for i in cur if i[1] >= r])\n",
    "        new_cur.append(max_of_larger)\n",
    "    ns.append(new_cur)\n",
    "\n",
    "p_baseline = np.mean(np.array(ns), axis=0)\n",
    "import matplotlib.pyplot as plt\n",
    "plt.plot(recalls, p_baseline)\n",
    "plt.ylim(0, 1)\n",
    "plt.xlim(0, 1)\n",
    "plt.margins(0.1)\n",
    "#plt.xticks(range(len(distribution_dict.keys()))[::50], new_x[::50], rotation='vertical')\n",
    "plt.ylabel('Precision', fontsize=16)\n",
    "plt.xlabel('Recall', fontsize=16)\n",
    "plt.tight_layout()\n",
    "plt.show()"
   ]
  },
  {
   "cell_type": "code",
   "execution_count": 34,
   "metadata": {},
   "outputs": [
    {
     "name": "stdout",
     "output_type": "stream",
     "text": [
      "546/546 [==============================] - 49s 90ms/step\n"
     ]
    },
    {
     "data": {
      "image/png": "[encoded data removed]",
      "text/plain": [
       "<Figure size 432x288 with 1 Axes>"
      ]
     },
     "metadata": {
      "needs_background": "light"
     },
     "output_type": "display_data"
    },
    {
     "data": {
      "text/plain": [
       "<Figure size 432x288 with 0 Axes>"
      ]
     },
     "metadata": {},
     "output_type": "display_data"
    }
   ],
   "source": [
    "def generate_prc():\n",
    "    label_len = len(label_dict_keys)\n",
    "    #print(label_len)\n",
    "    left = [label_dict[i] for i in label_dict_keys]\n",
    "    predictions = []\n",
    "    left_vectors = np.array(list(label_dict_keys))\n",
    "    label_vectors_vector = []\n",
    "    num_tests = 546\n",
    "    def cur_gen():\n",
    "        current_dataframe = pd.read_csv(test_dataset_path,sep=',', header = None).to_numpy()#, chunksize=100000)\n",
    "        indices = np.random.choice(len(current_dataframe), len(current_dataframe)-1)\n",
    "        for row in current_dataframe[indices]:\n",
    "            label, description=row[0], row[1]\n",
    "            label_vectors = [z.strip().strip('\\'\\\"')[:label_depth] for z in label.split(',')]\n",
    "            label_vectors = set([i for i in label_vectors if i in label_dict_keys])\n",
    "            if label_vectors == set():\n",
    "                continue\n",
    "            label_vectors_vector.append(label_vectors)\n",
    "            lstm_input_patent =  get_sentence_vector(description.lower(), num_words)\n",
    "            for i in left:\n",
    "                yield ({'input_1':lstm_input_patent, 'input_2':i})\n",
    "\n",
    "    dataset = tf.data.Dataset.from_generator(cur_gen, ({'input_1':tf.float64, 'input_2':tf.float64}), ({'input_1':tf.TensorShape([num_words, embedding_dim]), 'input_2':tf.TensorShape([num_words_description, embedding_dim])}))\n",
    "    dataset = dataset.batch(label_len).prefetch(50)\n",
    "    predictions = model.predict(dataset, steps=num_tests, verbose=1).reshape(num_tests, label_len)\n",
    "    n = 0\n",
    "    d=0\n",
    "    recalls = np.arange(0, 1.01, .01)\n",
    "    ns = []\n",
    "    \n",
    "    for prediction, label_vectors in zip(predictions, label_vectors_vector):\n",
    "        indices = np.flip(np.argsort(prediction, axis=0))\n",
    "        #print(indices)\n",
    "        e = [1 if i in label_vectors else 0 for i in left_vectors[indices]]\n",
    "        cur = []\n",
    "        total_ones = e.count(1)\n",
    "        n = 0\n",
    "        ones_seen = 0\n",
    "        while ones_seen < total_ones:\n",
    "            if e[n] == 1:\n",
    "                ones_seen = ones_seen+1\n",
    "            n = n+1\n",
    "            cur.append((ones_seen/float(n), ones_seen/float(total_ones)))\n",
    "        new_cur = []\n",
    "        for r in recalls:\n",
    "            max_of_larger = max([i[0] for i in cur if i[1] >= r])\n",
    "            new_cur.append(max_of_larger)\n",
    "        ns.append(new_cur)\n",
    "        #print(max(new_cur))\n",
    "        d = d+1\n",
    "        #print(float(d)/7215)\n",
    "        #print(np.mean(np.vstack(ns), axis=0)[0])\n",
    "    p = np.mean(np.array(ns), axis=0)\n",
    "    import matplotlib.pyplot as plt\n",
    "    plt.plot(recalls, p)\n",
    "    plt.plot(recalls, p_baseline, 'r')\n",
    "    plt.ylim(0, 1)\n",
    "    plt.xlim(0, 1)\n",
    "    plt.margins(0.1)\n",
    "    #plt.xticks(range(len(distribution_dict.keys()))[::50], new_x[::50], rotation='vertical')\n",
    "    plt.ylabel('Precision', fontsize=16)\n",
    "    plt.xlabel('Recall', fontsize=16)\n",
    "    plt.tight_layout()\n",
    "    plt.show()\n",
    "    #print(p) \n",
    "    plt.savefig('binary_prc1.eps', format='eps')\n",
    "generate_prc()"
   ]
  },
  {
   "cell_type": "code",
   "execution_count": null,
   "metadata": {
    "colab": {
     "base_uri": "https://localhost:8080/",
     "height": 1000
    },
    "colab_type": "code",
    "id": "JdetCO3l-DPU",
    "outputId": "2ade98f6-a042-49e9-89af-9b686259cce3"
   },
   "outputs": [
    {
     "name": "stdout",
     "output_type": "stream",
     "text": [
      "Epoch 1/50\n",
      "3000/3000 [==============================] - ETA: 0s - loss: 0.3103 - accuracy: 0.8837\n",
      "Epoch 00001: saving model to ../checkpoints/LSTMWithoutAttention-V1NewDataset.h5\n",
      "546/546 [==============================] - 64s 117ms/step\n"
     ]
    },
    {
     "data": {
      "image/png": "[encoded data removed]",
      "text/plain": [
       "<Figure size 432x288 with 1 Axes>"
      ]
     },
     "metadata": {
      "needs_background": "light"
     },
     "output_type": "display_data"
    },
    {
     "name": "stdout",
     "output_type": "stream",
     "text": [
      "3000/3000 [==============================] - 459s 153ms/step - loss: 0.3103 - accuracy: 0.8837\n",
      "Epoch 2/50\n",
      "3000/3000 [==============================] - ETA: 0s - loss: 0.3692 - accuracy: 0.8553\n",
      "Epoch 00002: saving model to ../checkpoints/LSTMWithoutAttention-V1NewDataset.h5\n",
      "546/546 [==============================] - 47s 87ms/step\n"
     ]
    },
    {
     "data": {
      "image/png": "[encoded data removed]",
      "text/plain": [
       "<Figure size 432x288 with 1 Axes>"
      ]
     },
     "metadata": {
      "needs_background": "light"
     },
     "output_type": "display_data"
    },
    {
     "name": "stdout",
     "output_type": "stream",
     "text": [
      "3000/3000 [==============================] - 2110s 703ms/step - loss: 0.3692 - accuracy: 0.8553\n",
      "Epoch 3/50\n",
      "3000/3000 [==============================] - ETA: 0s - loss: 0.3071 - accuracy: 0.8835\n",
      "Epoch 00003: saving model to ../checkpoints/LSTMWithoutAttention-V1NewDataset.h5\n",
      "546/546 [==============================] - 55s 100ms/step\n"
     ]
    },
    {
     "data": {
      "image/png": "[encoded data removed]",
      "text/plain": [
       "<Figure size 432x288 with 1 Axes>"
      ]
     },
     "metadata": {
      "needs_background": "light"
     },
     "output_type": "display_data"
    },
    {
     "name": "stdout",
     "output_type": "stream",
     "text": [
      "3000/3000 [==============================] - 486s 162ms/step - loss: 0.3071 - accuracy: 0.8835\n",
      "Epoch 4/50\n",
      "2275/3000 [=====================>........] - ETA: 9:03 - loss: 0.3607 - accuracy: 0.8585"
     ]
    }
   ],
   "source": [
    "history = model.fit(lstm_dataset, epochs=50, steps_per_epoch=3000, callbacks=[cp_callback, prc_callback])"
   ]
  },
  {
   "cell_type": "code",
   "execution_count": null,
   "metadata": {},
   "outputs": [],
   "source": []
  },
  {
   "cell_type": "code",
   "execution_count": null,
   "metadata": {
    "colab": {},
    "colab_type": "code",
    "id": "a844kTf5fO0s"
   },
   "outputs": [],
   "source": []
  },
  {
   "cell_type": "code",
   "execution_count": null,
   "metadata": {
    "colab": {
     "base_uri": "https://localhost:8080/",
     "height": 373
    },
    "colab_type": "code",
    "id": "JB35kwKqrSi8",
    "outputId": "aabdf11b-b546-44ee-f345-a6ed56cafc5d"
   },
   "outputs": [],
   "source": [
    "\n",
    "generate_prc(100)"
   ]
  },
  {
   "cell_type": "code",
   "execution_count": null,
   "metadata": {
    "colab": {},
    "colab_type": "code",
    "id": "OojymS4afPdy"
   },
   "outputs": [],
   "source": []
  }
 ],
 "metadata": {
  "accelerator": "GPU",
  "colab": {
   "collapsed_sections": [],
   "name": "PatentStuffNotebook.ipynb",
   "provenance": []
  },
  "kernelspec": {
   "display_name": "Python 3",
   "language": "python",
   "name": "python3"
  },
  "language_info": {
   "codemirror_mode": {
    "name": "ipython",
    "version": 3
   },
   "file_extension": ".py",
   "mimetype": "text/x-python",
   "name": "python",
   "nbconvert_exporter": "python",
   "pygments_lexer": "ipython3",
   "version": "3.6.9"
  }
 },
 "nbformat": 4,
 "nbformat_minor": 1
}
