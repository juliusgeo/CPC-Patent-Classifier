{
 "cells": [
  {
   "cell_type": "code",
   "execution_count": null,
   "metadata": {
    "colab": {
     "base_uri": "https://localhost:8080/",
     "height": 34
    },
    "colab_type": "code",
    "id": "4L8TJHgad_7M",
    "outputId": "ee182713-b61f-46da-bd7d-22f965e8fc43"
   },
   "outputs": [],
   "source": []
  },
  {
   "cell_type": "code",
   "execution_count": null,
   "metadata": {
    "colab": {
     "base_uri": "https://localhost:8080/",
     "height": 34
    },
    "colab_type": "code",
    "id": "MJQHRv1rgdGY",
    "outputId": "d91bc341-6253-42af-ac2f-8da7b4ac7286"
   },
   "outputs": [],
   "source": []
  },
  {
   "cell_type": "code",
   "execution_count": null,
   "metadata": {
    "colab": {},
    "colab_type": "code",
    "id": "wK-l3s1hhQmd"
   },
   "outputs": [],
   "source": []
  },
  {
   "cell_type": "code",
   "execution_count": null,
   "metadata": {
    "colab": {
     "base_uri": "https://localhost:8080/",
     "height": 159
    },
    "colab_type": "code",
    "id": "9QN5Z2_6eRq0",
    "outputId": "f45d893f-2f8f-4a72-f522-a94895fef779"
   },
   "outputs": [],
   "source": [
    "import numpy as np\n",
    "import gensim, logging\n",
    "import csv, string\n",
    "import nltk\n",
    "#nltk.download('punkt')\n",
    "nltk.download('stopwords')\n",
    "from nltk.tokenize import word_tokenize\n",
    "from nltk.stem.porter import PorterStemmer\n",
    "import pandas as pd\n",
    "import tensorflow as tf\n",
    "import os\n",
    "import pickle\n",
    "\n",
    "num_words = 1000\n",
    "num_words_description = 1000\n",
    "directory_prefix = \"../\"\n",
    "train_dataset_path = directory_prefix+'datasets/dataset2002-2020.csv'\n",
    "test_dataset_path = directory_prefix+'datasets/balanced_test_dataset_label_depth_3.csv'\n",
    "label_depth = 3\n",
    "import random\n",
    "#import gensim.downloader as api\n",
    "from nltk.corpus import stopwords\n",
    "from gensim.parsing.preprocessing import remove_stopwords\n",
    "\n",
    "\n",
    "import tensorflow_hub as hub\n",
    "\n",
    "embed = hub.load(\"https://tfhub.dev/google/tf2-preview/nnlm-en-dim128-with-normalization/1\")\n",
    "#embed = hub.load(\"https://tfhub.dev/google/Wiki-words-500/2\")\n",
    "\n",
    "embeddings = embed([\"cat is on the mat\", \"dog is in the fog\"])\n",
    "embedding_dim = embeddings.shape[1]\n",
    "#print(embeddings)\n",
    "def get_sentence_vector(words, num_words):\n",
    "    words = word_tokenize(remove_stopwords(words))\n",
    "    #words = list(filter(lambda w: len(w)>2, words))\n",
    "    ret = embed(words)\n",
    "    ret = tf.pad(ret, tf.constant([[0, max(0, num_words-ret.shape[0]),], [0, 0]]), \"CONSTANT\")\n",
    "    ret = ret[:num_words]\n",
    "    return ret\n",
    " \n",
    "with open(directory_prefix+\"/class_descriptions/class_descriptions_from_patents.pickle\", 'rb') as f:\n",
    "    label_dict = pickle.load(f)\n",
    "label_dict = {k[:label_depth]: get_sentence_vector(val.lower(), num_words_description) for k, val in label_dict.items()}\n",
    "#label_dict = {k[:label_depth]: get_sentence_vector(val.lower(), num_words_description) for k, val in label_dict.items()}\n",
    "\n",
    "label_dict_keys = set(label_dict.keys())\n"
   ]
  },
  {
   "cell_type": "code",
   "execution_count": 2,
   "metadata": {
    "colab": {
     "base_uri": "https://localhost:8080/",
     "height": 34
    },
    "colab_type": "code",
    "id": "cM9igP7lCXup",
    "outputId": "725c8ce6-adb6-4ad3-8016-a2ed6aa457aa"
   },
   "outputs": [
    {
     "name": "stdout",
     "output_type": "stream",
     "text": [
      "128\n"
     ]
    }
   ],
   "source": [
    "print(embedding_dim)"
   ]
  },
  {
   "cell_type": "code",
   "execution_count": 36,
   "metadata": {
    "colab": {
     "base_uri": "https://localhost:8080/",
     "height": 34
    },
    "colab_type": "code",
    "id": "zMkC0VFdhZNf",
    "outputId": "05fe3ff7-7adf-411a-ebf9-e663c4443b10"
   },
   "outputs": [],
   "source": [
    "number_occurences=1000\n",
    "def lstm_data_generator():\n",
    "    occurences = {k:0 for k in label_dict.keys()}\n",
    "    current_dataframe = pd.read_csv(train_dataset_path,sep=',', header = None).to_numpy()#, chunksize=100000)\n",
    "    indices = np.random.choice(len(current_dataframe), len(current_dataframe)//20)\n",
    "    for row in current_dataframe[indices]:\n",
    "        if not isinstance(row[1], str) or not isinstance(row[2], str):\n",
    "            continue\n",
    "        label, description=row[0], row[1]+row[2]\n",
    "        lstm_input_patent = get_sentence_vector(description.lower(), num_words)\n",
    "        label_vectors = [z.strip().strip('\\'\\\"')[:label_depth] for z in label.split(',')]\n",
    "        label_vectors = set([i for i in label_vectors if i in label_dict_keys])\n",
    "        non_true_vectors = set([i for i in random.sample(label_dict_keys, min(len(label_vectors), len(label_dict.keys()))) if i not in label_vectors])\n",
    "        skip = False\n",
    "        for i in label_vectors:\n",
    "            if occurences[i] >= number_occurences:\n",
    "                skip = True\n",
    "        if skip:\n",
    "            continue\n",
    "        for l, k in zip((label_dict[i] for i in label_vectors), label_vectors):\n",
    "            occurences[k] +=1\n",
    "            yield ({'input_1':lstm_input_patent, 'input_2':l}, {'output_binary':[1]})\n",
    "        for l, k in zip((label_dict[i] for i in non_true_vectors), non_true_vectors):\n",
    "            occurences[k] +=1\n",
    "            yield ({'input_1':lstm_input_patent, 'input_2':l}, {'output_binary':[0]})\n",
    "        if sum(occurences.values()) >= len(label_dict)*(number_occurences-10):\n",
    "            print(\"\\n\\ndone with occurences\\n\\n\")\n",
    "            occurences = {k:0 for k in label_dict.keys()}\n",
    "    return\n",
    "\n",
    "lstm_dataset = tf.data.Dataset.from_generator(lstm_data_generator, ({'input_1':tf.float64, 'input_2':tf.float64}, {'output_binary':tf.float64}), ({'input_1':tf.TensorShape([num_words, embedding_dim]), 'input_2':tf.TensorShape([num_words_description, embedding_dim])}, {'output_binary':tf.TensorShape([1])}))\n",
    "\n",
    "#filename = train_dataset_path[:-4]+'.tfrecord'\n",
    "#writer = tf.data.experimental.TFRecordWriter(filename)\n",
    "#writer.write(lstm_dataset)\n",
    "\n",
    "lstm_dataset = lstm_dataset.batch(16, drop_remainder=True).prefetch(100).repeat()\n"
   ]
  },
  {
   "cell_type": "code",
   "execution_count": 29,
   "metadata": {
    "colab": {
     "base_uri": "https://localhost:8080/",
     "height": 34
    },
    "colab_type": "code",
    "id": "zMkC0VFdhZNf",
    "outputId": "05fe3ff7-7adf-411a-ebf9-e663c4443b10"
   },
   "outputs": [
    {
     "name": "stdout",
     "output_type": "stream",
     "text": [
      "<tensorflow.python.keras.engine.functional.Functional object at 0x7fd3e85074e0>\n"
     ]
    }
   ],
   "source": [
    "\n",
    "\n",
    "input_lstm = tf.keras.Input(shape=(num_words, embedding_dim), name='input_1')\n",
    "input_label = tf.keras.Input(shape=(num_words_description, embedding_dim), name='input_2')\n",
    "\n",
    "patent_mask = tf.keras.layers.Masking(mask_value=0., input_shape=(num_words, embedding_dim))(input_lstm)\n",
    "label_mask = tf.keras.layers.Masking(mask_value=0., input_shape=(num_words_description, embedding_dim))(input_label)\n",
    "\n",
    "layer_size = embedding_dim*4\n",
    "patent = tf.keras.layers.Bidirectional(tf.keras.layers.LSTM(embedding_dim, return_sequences=True))(patent_mask)\n",
    "label = tf.keras.layers.Bidirectional(tf.keras.layers.LSTM(embedding_dim, return_sequences=True))(label_mask)\n",
    "\n",
    "#\n",
    "\n",
    "\n",
    "patent = tf.keras.layers.TimeDistributed(tf.keras.layers.Dense(layer_size))(patent)\n",
    "patent = tf.keras.layers.GlobalAveragePooling1D()(patent)\n",
    "\n",
    "label = tf.keras.layers.TimeDistributed(tf.keras.layers.Dense(layer_size))(label)\n",
    "label = tf.keras.layers.GlobalAveragePooling1D()(label)\n",
    "#patent = tf.keras.layers.Dense(layer_size//2)(patent)\n",
    "#label =  tf.keras.layers.Dense(layer_size//2)(label)\n",
    "\n",
    "#subtract = tf.keras.layers.Subtract()([patent, label])\n",
    "#multiply = tf.keras.layers.Multiply()([patent, label])\n",
    "\n",
    "concat = tf.keras.layers.Concatenate(axis=1)([label, patent])\n",
    "dense = tf.keras.layers.Dense(int(layer_size)*2)(concat)\n",
    "dense = tf.keras.layers.Dense(int(layer_size)*2)(dense)\n",
    "dense = tf.keras.layers.Dense(int(layer_size)*2, activation='relu')(dense)\n",
    "dense = tf.keras.layers.Dense(int(layer_size)*2, activation='relu')(dense)\n",
    "dense = tf.keras.layers.Dense(int(layer_size)*2, activation='relu')(dense)\n",
    "\n",
    "output_binary = tf.keras.layers.Dense(1, name='output_binary')(dense)\n",
    "\n",
    "\n",
    "#lstm_enforce_1 = tf.keras.layers.Dense(200, activation='relu')(patent_lstm)\n",
    "#lstm_enforce_2 = tf.keras.layers.Dense(1000, name='output_2')(lstm_enforce_1)\n",
    "#model = tf.keras.Model(inputs={'input_1':input_lstm, 'input_2':input_label}, outputs={'output_1':output_binary, 'output_2':lstm_enforce_2})\n",
    "model = tf.keras.Model(inputs={'input_1':input_lstm, 'input_2':input_label}, outputs=[output_binary])\n",
    "print(model)"
   ]
  },
  {
   "cell_type": "code",
   "execution_count": 5,
   "metadata": {
    "colab": {
     "base_uri": "https://localhost:8080/",
     "height": 34
    },
    "colab_type": "code",
    "id": "zf3uuOE9OYBh",
    "outputId": "a89816d0-c202-46e5-fab5-03a8489353b7"
   },
   "outputs": [
    {
     "name": "stdout",
     "output_type": "stream",
     "text": [
      "128\n"
     ]
    }
   ],
   "source": [
    "print(len(label_dict))"
   ]
  },
  {
   "cell_type": "code",
   "execution_count": 31,
   "metadata": {
    "colab": {
     "base_uri": "https://localhost:8080/",
     "height": 694
    },
    "colab_type": "code",
    "id": "awvA_Z9-hdAC",
    "outputId": "cc371ca1-4f6e-4755-ded8-f730e32aca36"
   },
   "outputs": [
    {
     "name": "stdout",
     "output_type": "stream",
     "text": [
      "Model: \"functional_3\"\n",
      "__________________________________________________________________________________________________\n",
      "Layer (type)                    Output Shape         Param #     Connected to                     \n",
      "==================================================================================================\n",
      "input_2 (InputLayer)            [(None, 1000, 128)]  0                                            \n",
      "__________________________________________________________________________________________________\n",
      "input_1 (InputLayer)            [(None, 1000, 128)]  0                                            \n",
      "__________________________________________________________________________________________________\n",
      "masking_3 (Masking)             (None, 1000, 128)    0           input_2[0][0]                    \n",
      "__________________________________________________________________________________________________\n",
      "masking_2 (Masking)             (None, 1000, 128)    0           input_1[0][0]                    \n",
      "__________________________________________________________________________________________________\n",
      "bidirectional_3 (Bidirectional) (None, 1000, 256)    263168      masking_3[0][0]                  \n",
      "__________________________________________________________________________________________________\n",
      "bidirectional_2 (Bidirectional) (None, 1000, 256)    263168      masking_2[0][0]                  \n",
      "__________________________________________________________________________________________________\n",
      "time_distributed_3 (TimeDistrib (None, 1000, 512)    131584      bidirectional_3[0][0]            \n",
      "__________________________________________________________________________________________________\n",
      "time_distributed_2 (TimeDistrib (None, 1000, 512)    131584      bidirectional_2[0][0]            \n",
      "__________________________________________________________________________________________________\n",
      "global_average_pooling1d_3 (Glo (None, 512)          0           time_distributed_3[0][0]         \n",
      "__________________________________________________________________________________________________\n",
      "global_average_pooling1d_2 (Glo (None, 512)          0           time_distributed_2[0][0]         \n",
      "__________________________________________________________________________________________________\n",
      "concatenate_1 (Concatenate)     (None, 1024)         0           global_average_pooling1d_3[0][0] \n",
      "                                                                 global_average_pooling1d_2[0][0] \n",
      "__________________________________________________________________________________________________\n",
      "dense_9 (Dense)                 (None, 1024)         1049600     concatenate_1[0][0]              \n",
      "__________________________________________________________________________________________________\n",
      "dense_10 (Dense)                (None, 1024)         1049600     dense_9[0][0]                    \n",
      "__________________________________________________________________________________________________\n",
      "dense_11 (Dense)                (None, 1024)         1049600     dense_10[0][0]                   \n",
      "__________________________________________________________________________________________________\n",
      "dense_12 (Dense)                (None, 1024)         1049600     dense_11[0][0]                   \n",
      "__________________________________________________________________________________________________\n",
      "dense_13 (Dense)                (None, 1024)         1049600     dense_12[0][0]                   \n",
      "__________________________________________________________________________________________________\n",
      "output_binary (Dense)           (None, 1)            1025        dense_13[0][0]                   \n",
      "==================================================================================================\n",
      "Total params: 6,038,529\n",
      "Trainable params: 6,038,529\n",
      "Non-trainable params: 0\n",
      "__________________________________________________________________________________________________\n"
     ]
    }
   ],
   "source": [
    "#saver = tf.train.Saver(max_to_keep=4, keep_checkpoint_every_n_hours=2)\n",
    "#del model\n",
    "try:\n",
    "    model.load_weights(directory_prefix+\"checkpoints/LSTMWithoutAttention-V1NewDataset.h5\")\n",
    "except:\n",
    "    pass\n",
    "\n",
    "model.summary()\n",
    "opt = tf.optimizers.Adam(1e-5)\n",
    "model.compile(loss=['binary_crossentropy'],\n",
    "              optimizer=opt,\n",
    "              metrics=['accuracy'], experimental_run_tf_function=False)\n",
    "\n",
    "\n",
    "# Create a callback that saves the model's weights\n",
    "cp_callback = tf.keras.callbacks.ModelCheckpoint(filepath=directory_prefix+\"checkpoints/LSTMWithoutAttention-V1NewDataset.h5\",\n",
    "                                                 save_weights_only=False,\n",
    "                                                 verbose=1)\n",
    "\n",
    "class CustomCallback(tf.keras.callbacks.Callback):\n",
    "    def on_epoch_end(self, epoch, logs=None):\n",
    "        generate_prc()\n",
    "prc_callback = CustomCallback()"
   ]
  },
  {
   "cell_type": "code",
   "execution_count": 7,
   "metadata": {},
   "outputs": [
    {
     "name": "stdout",
     "output_type": "stream",
     "text": [
      "5668\n",
      "{'H05': 149, 'C23': 110, 'C21': 102, 'G06': 542, 'A41': 100, 'B60': 359, 'Y04': 100, 'D04': 101, 'A45': 102, 'B04': 100, 'E06': 100, 'A63': 108, 'C08': 210, 'B06': 102, 'F25': 100, 'H04': 224, 'B68': 100, 'C01': 136, 'F02': 118, 'A62': 100, 'Y10': 254, 'E01': 100, 'G08': 100, 'G21': 100, 'B67': 101, 'F01': 126, 'B62': 100, 'G01': 549, 'B63': 101, 'B31': 100, 'H02': 272, 'B30': 100, 'D07': 100, 'Y02': 395, 'F05': 105, 'C12': 288, 'C10': 101, 'G07': 102, 'B05': 160, 'B25': 110, 'C14': 100, 'G10': 101, 'F22': 100, 'A24': 100, 'B02': 100, 'G02': 172, 'F42': 100, 'G11': 100, 'E05': 100, 'B24': 100, 'A42': 100, 'C30': 100, 'B28': 100, 'B21': 100, 'B81': 100, 'F24': 101, 'F41': 100, 'D05': 100, 'A01': 168, 'G05': 216, 'B82': 100, 'C07': 187, 'B27': 100, 'F21': 101, 'F28': 100, 'A22': 100, 'G12': 100, 'B44': 100, 'C13': 100, 'B42': 100, 'B41': 101, 'A23': 109, 'B22': 100, 'B08': 102, 'B29': 280, 'F23': 100, 'D10': 115, 'E02': 102, 'C11': 100, 'A43': 100, 'H03': 101, 'D01': 104, 'A61': 552, 'F15': 101, 'A47': 229, 'G03': 101, 'B66': 100, 'A21': 100, 'B07': 100, 'D03': 101, 'E04': 106, 'H01': 493, 'C09': 165, 'C05': 100, 'C40': 100, 'F03': 100, 'B03': 101, 'F27': 102, 'G04': 100, 'B01': 455, 'C22': 102, 'B61': 100, 'B43': 100, 'B26': 100, 'E21': 110, 'C02': 100, 'B23': 197, 'B64': 107, 'B33': 101, 'D21': 100, 'G16': 100, 'F17': 100, 'C03': 100, 'A46': 100, 'F26': 100, 'B32': 220, 'A44': 100, 'D06': 106, 'C06': 100, 'C04': 100, 'D02': 101, 'E03': 101, 'B09': 100, 'F16': 369, 'C25': 100, 'F04': 100, 'B65': 319, 'G09': 100}\n"
     ]
    }
   ],
   "source": [
    "current_dataframe = pd.read_csv(test_dataset_path,sep=',', header = None).to_numpy()#, chunksize=100000)\n",
    "#indices = np.random.choice(300000, 10000)\n",
    "occurences={k:0 for k in label_dict_keys}\n",
    "print(len(current_dataframe))\n",
    "for row in current_dataframe:\n",
    "    label, description=row[0], row[1]\n",
    "    label_vectors = [z.strip().strip('\\'\\\"')[:label_depth] for z in label.split(',')]\n",
    "    label_vectors = set([i for i in label_vectors if i in label_dict_keys])\n",
    "    for i in label_vectors:\n",
    "        occurences[i] += 1\n",
    "print(occurences)"
   ]
  },
  {
   "cell_type": "code",
   "execution_count": 35,
   "metadata": {},
   "outputs": [
    {
     "name": "stdout",
     "output_type": "stream",
     "text": [
      "['A61', 'G01', 'G06', 'H01', 'B01', 'Y02', 'F16', 'B60', 'B65', 'C12', 'B29', 'H02', 'Y10', 'A47', 'H04', 'B32', 'G05', 'C08', 'B23', 'C07', 'G02', 'A01', 'C09', 'B05', 'H05', 'C01', 'F01', 'F02', 'D10', 'E21', 'B25', 'C23', 'A23', 'A63', 'B64', 'D06', 'E04', 'F05', 'D01', 'C22', 'F27', 'E02', 'B08', 'G07', 'B06', 'A45', 'C21', 'E03', 'D02', 'B33', 'B03', 'D03', 'G03', 'F15', 'H03', 'B41', 'F21', 'F24', 'G10', 'C10', 'B63', 'B67', 'D04', 'G09', 'F04', 'C25', 'B09', 'C04', 'C06', 'A44', 'F26', 'A46', 'C03', 'F17', 'G16', 'D21', 'C02', 'B26', 'B43', 'B61', 'G04', 'F03', 'C40', 'C05', 'B07', 'A21', 'B66', 'A43', 'C11', 'F23', 'B22', 'B42', 'C13', 'B44', 'G12', 'A22', 'F28', 'B27', 'B82', 'D05', 'F41', 'B81', 'B21', 'B28', 'C30', 'A42', 'B24', 'E05', 'G11', 'F42', 'B02', 'A24', 'F22', 'C14', 'D07', 'B30', 'B31', 'B62', 'G21', 'G08', 'E01', 'A62', 'B68', 'F25', 'E06', 'B04', 'Y04', 'A41']\n"
     ]
    },
    {
     "data": {
      "image/png": "[encoded data removed]",
      "text/plain": [
       "<Figure size 432x288 with 1 Axes>"
      ]
     },
     "metadata": {
      "needs_background": "light"
     },
     "output_type": "display_data"
    }
   ],
   "source": [
    "n = 0\n",
    "d=0\n",
    "recalls = np.arange(0, 1.01, .01)\n",
    "ns = []\n",
    "prediction = sorted(occurences.keys(), key=lambda x: occurences[x])[::-1]\n",
    "print(prediction)\n",
    "occurences = {k: 0 for k in label_dict_keys}\n",
    "for row in pd.read_csv(test_dataset_path,sep=',', header = None).to_numpy():\n",
    "    label, description=row[0], row[1]\n",
    "    label_vectors = [z.strip().strip('\\'\\\"')[:label_depth] for z in label.split(',')]\n",
    "    label_vectors = set([i for i in label_vectors if i in label_dict_keys])\n",
    "    if label_vectors == set():\n",
    "        continue\n",
    "    #if(sum([occurences[i] for i in label_vectors]) >= len(label_vectors)):\n",
    "    #    continue\n",
    "    for i in label_vectors:\n",
    "        occurences[i] += 1\n",
    "    e = [1 if i in label_vectors else 0 for i in prediction]\n",
    "    cur = []\n",
    "    total_ones = e.count(1)\n",
    "    n = 0\n",
    "    ones_seen = 0\n",
    "    while ones_seen < total_ones:\n",
    "        if e[n] == 1:\n",
    "            ones_seen = ones_seen+1\n",
    "        n = n+1\n",
    "        cur.append((ones_seen/float(n), ones_seen/float(total_ones)))\n",
    "    new_cur = []\n",
    "    for r in recalls:\n",
    "        max_of_larger = max([i[0] for i in cur if i[1] >= r])\n",
    "        new_cur.append(max_of_larger)\n",
    "    ns.append(new_cur)\n",
    "\n",
    "p_baseline = np.mean(np.array(ns), axis=0)\n",
    "import matplotlib.pyplot as plt\n",
    "plt.plot(recalls, p_baseline)\n",
    "plt.ylim(0, 1)\n",
    "plt.xlim(0, 1)\n",
    "plt.margins(0.1)\n",
    "#plt.xticks(range(len(distribution_dict.keys()))[::50], new_x[::50], rotation='vertical')\n",
    "plt.ylabel('Precision', fontsize=16)\n",
    "plt.xlabel('Recall', fontsize=16)\n",
    "plt.tight_layout()\n",
    "plt.show()"
   ]
  },
  {
   "cell_type": "code",
   "execution_count": 38,
   "metadata": {},
   "outputs": [
    {
     "name": "stdout",
     "output_type": "stream",
     "text": [
      "546/546 [==============================] - 158s 290ms/step\n"
     ]
    },
    {
     "data": {
      "image/png": "[encoded data removed]",
      "text/plain": [
       "<Figure size 432x288 with 1 Axes>"
      ]
     },
     "metadata": {
      "needs_background": "light"
     },
     "output_type": "display_data"
    },
    {
     "data": {
      "text/plain": [
       "<Figure size 432x288 with 0 Axes>"
      ]
     },
     "metadata": {},
     "output_type": "display_data"
    }
   ],
   "source": [
    "def generate_prc():\n",
    "    label_len = len(label_dict_keys)\n",
    "    #print(label_len)\n",
    "    left = [label_dict[i] for i in label_dict_keys]\n",
    "    predictions = []\n",
    "    left_vectors = np.array(list(label_dict_keys))\n",
    "    label_vectors_vector = []\n",
    "    num_tests = 546\n",
    "    def cur_gen():\n",
    "        current_dataframe = pd.read_csv(test_dataset_path,sep=',', header = None).to_numpy()#, chunksize=100000)\n",
    "        indices = np.random.choice(len(current_dataframe), len(current_dataframe)-1)\n",
    "        for row in current_dataframe[indices]:\n",
    "            label, description=row[0], row[1]\n",
    "            label_vectors = [z.strip().strip('\\'\\\"')[:label_depth] for z in label.split(',')]\n",
    "            label_vectors = set([i for i in label_vectors if i in label_dict_keys])\n",
    "            if label_vectors == set():\n",
    "                continue\n",
    "            label_vectors_vector.append(label_vectors)\n",
    "            lstm_input_patent =  get_sentence_vector(description.lower(), num_words)\n",
    "            for i in left:\n",
    "                yield ({'input_1':lstm_input_patent, 'input_2':i})\n",
    "\n",
    "    dataset = tf.data.Dataset.from_generator(cur_gen, ({'input_1':tf.float64, 'input_2':tf.float64}), ({'input_1':tf.TensorShape([num_words, embedding_dim]), 'input_2':tf.TensorShape([num_words_description, embedding_dim])}))\n",
    "    dataset = dataset.batch(label_len).prefetch(50)\n",
    "    predictions = model.predict(dataset, steps=num_tests, verbose=1).reshape(num_tests, label_len)\n",
    "    n = 0\n",
    "    d=0\n",
    "    recalls = np.arange(0, 1.01, .01)\n",
    "    ns = []\n",
    "    \n",
    "    for prediction, label_vectors in zip(predictions, label_vectors_vector):\n",
    "        indices = np.flip(np.argsort(prediction, axis=0))\n",
    "        #print(indices)\n",
    "        e = [1 if i in label_vectors else 0 for i in left_vectors[indices]]\n",
    "        cur = []\n",
    "        total_ones = e.count(1)\n",
    "        n = 0\n",
    "        ones_seen = 0\n",
    "        while ones_seen < total_ones:\n",
    "            if e[n] == 1:\n",
    "                ones_seen = ones_seen+1\n",
    "            n = n+1\n",
    "            cur.append((ones_seen/float(n), ones_seen/float(total_ones)))\n",
    "        new_cur = []\n",
    "        for r in recalls:\n",
    "            max_of_larger = max([i[0] for i in cur if i[1] >= r])\n",
    "            new_cur.append(max_of_larger)\n",
    "        ns.append(new_cur)\n",
    "        #print(max(new_cur))\n",
    "        d = d+1\n",
    "        #print(float(d)/7215)\n",
    "        #print(np.mean(np.vstack(ns), axis=0)[0])\n",
    "    p = np.mean(np.array(ns), axis=0)\n",
    "    import matplotlib.pyplot as plt\n",
    "    plt.plot(recalls, p)\n",
    "    plt.plot(recalls, p_baseline, 'r')\n",
    "    plt.ylim(0, 1)\n",
    "    plt.xlim(0, 1)\n",
    "    plt.margins(0.1)\n",
    "    #plt.xticks(range(len(distribution_dict.keys()))[::50], new_x[::50], rotation='vertical')\n",
    "    plt.ylabel('Precision', fontsize=16)\n",
    "    plt.xlabel('Recall', fontsize=16)\n",
    "    plt.tight_layout()\n",
    "    plt.show()\n",
    "    #print(p) \n",
    "    plt.savefig('binary_prc1.eps', format='eps')\n",
    "generate_prc()"
   ]
  },
  {
   "cell_type": "code",
   "execution_count": 37,
   "metadata": {
    "colab": {
     "base_uri": "https://localhost:8080/",
     "height": 1000
    },
    "colab_type": "code",
    "id": "JdetCO3l-DPU",
    "outputId": "2ade98f6-a042-49e9-89af-9b686259cce3"
   },
   "outputs": [
    {
     "name": "stdout",
     "output_type": "stream",
     "text": [
      "Epoch 1/50\n",
      "3000/3000 [==============================] - ETA: 0s - loss: 0.3996 - accuracy: 0.8455\n",
      "Epoch 00001: saving model to ../checkpoints/LSTMWithoutAttention-V1NewDataset.h5\n",
      "546/546 [==============================] - 115s 211ms/step\n"
     ]
    },
    {
     "data": {
      "image/png": "[encoded data removed]",
      "text/plain": [
       "<Figure size 432x288 with 1 Axes>"
      ]
     },
     "metadata": {
      "needs_background": "light"
     },
     "output_type": "display_data"
    },
    {
     "name": "stdout",
     "output_type": "stream",
     "text": [
      "3000/3000 [==============================] - 566s 189ms/step - loss: 0.3996 - accuracy: 0.8455\n",
      "Epoch 2/50\n",
      "2033/3000 [===================>..........] - ETA: 10:47 - loss: 0.3968 - accuracy: 0.8426"
     ]
    },
    {
     "ename": "KeyboardInterrupt",
     "evalue": "",
     "output_type": "error",
     "traceback": [
      "\u001b[0;31m-----------------------------------------------\u001b[0m",
      "\u001b[0;31mKeyboardInterrupt\u001b[0mTraceback (most recent call last)",
      "\u001b[0;32m<ipython-input-37-ef73e4f49887>\u001b[0m in \u001b[0;36m<module>\u001b[0;34m\u001b[0m\n\u001b[0;32m----> 1\u001b[0;31m \u001b[0mhistory\u001b[0m \u001b[0;34m=\u001b[0m \u001b[0mmodel\u001b[0m\u001b[0;34m.\u001b[0m\u001b[0mfit\u001b[0m\u001b[0;34m(\u001b[0m\u001b[0mlstm_dataset\u001b[0m\u001b[0;34m,\u001b[0m \u001b[0mepochs\u001b[0m\u001b[0;34m=\u001b[0m\u001b[0;36m50\u001b[0m\u001b[0;34m,\u001b[0m \u001b[0msteps_per_epoch\u001b[0m\u001b[0;34m=\u001b[0m\u001b[0;36m3000\u001b[0m\u001b[0;34m,\u001b[0m \u001b[0mcallbacks\u001b[0m\u001b[0;34m=\u001b[0m\u001b[0;34m[\u001b[0m\u001b[0mcp_callback\u001b[0m\u001b[0;34m,\u001b[0m \u001b[0mprc_callback\u001b[0m\u001b[0;34m]\u001b[0m\u001b[0;34m)\u001b[0m\u001b[0;34m\u001b[0m\u001b[0;34m\u001b[0m\u001b[0m\n\u001b[0m",
      "\u001b[0;32m~/ml/lib/python3.6/site-packages/tensorflow/python/keras/engine/training.py\u001b[0m in \u001b[0;36m_method_wrapper\u001b[0;34m(self, *args, **kwargs)\u001b[0m\n\u001b[1;32m    106\u001b[0m   \u001b[0;32mdef\u001b[0m \u001b[0m_method_wrapper\u001b[0m\u001b[0;34m(\u001b[0m\u001b[0mself\u001b[0m\u001b[0;34m,\u001b[0m \u001b[0;34m*\u001b[0m\u001b[0margs\u001b[0m\u001b[0;34m,\u001b[0m \u001b[0;34m**\u001b[0m\u001b[0mkwargs\u001b[0m\u001b[0;34m)\u001b[0m\u001b[0;34m:\u001b[0m\u001b[0;34m\u001b[0m\u001b[0;34m\u001b[0m\u001b[0m\n\u001b[1;32m    107\u001b[0m     \u001b[0;32mif\u001b[0m \u001b[0;32mnot\u001b[0m \u001b[0mself\u001b[0m\u001b[0;34m.\u001b[0m\u001b[0m_in_multi_worker_mode\u001b[0m\u001b[0;34m(\u001b[0m\u001b[0;34m)\u001b[0m\u001b[0;34m:\u001b[0m  \u001b[0;31m# pylint: disable=protected-access\u001b[0m\u001b[0;34m\u001b[0m\u001b[0;34m\u001b[0m\u001b[0m\n\u001b[0;32m--> 108\u001b[0;31m       \u001b[0;32mreturn\u001b[0m \u001b[0mmethod\u001b[0m\u001b[0;34m(\u001b[0m\u001b[0mself\u001b[0m\u001b[0;34m,\u001b[0m \u001b[0;34m*\u001b[0m\u001b[0margs\u001b[0m\u001b[0;34m,\u001b[0m \u001b[0;34m**\u001b[0m\u001b[0mkwargs\u001b[0m\u001b[0;34m)\u001b[0m\u001b[0;34m\u001b[0m\u001b[0;34m\u001b[0m\u001b[0m\n\u001b[0m\u001b[1;32m    109\u001b[0m \u001b[0;34m\u001b[0m\u001b[0m\n\u001b[1;32m    110\u001b[0m     \u001b[0;31m# Running inside `run_distribute_coordinator` already.\u001b[0m\u001b[0;34m\u001b[0m\u001b[0;34m\u001b[0m\u001b[0;34m\u001b[0m\u001b[0m\n",
      "\u001b[0;32m~/ml/lib/python3.6/site-packages/tensorflow/python/keras/engine/training.py\u001b[0m in \u001b[0;36mfit\u001b[0;34m(self, x, y, batch_size, epochs, verbose, callbacks, validation_split, validation_data, shuffle, class_weight, sample_weight, initial_epoch, steps_per_epoch, validation_steps, validation_batch_size, validation_freq, max_queue_size, workers, use_multiprocessing)\u001b[0m\n\u001b[1;32m   1096\u001b[0m                 batch_size=batch_size):\n\u001b[1;32m   1097\u001b[0m               \u001b[0mcallbacks\u001b[0m\u001b[0;34m.\u001b[0m\u001b[0mon_train_batch_begin\u001b[0m\u001b[0;34m(\u001b[0m\u001b[0mstep\u001b[0m\u001b[0;34m)\u001b[0m\u001b[0;34m\u001b[0m\u001b[0;34m\u001b[0m\u001b[0m\n\u001b[0;32m-> 1098\u001b[0;31m               \u001b[0mtmp_logs\u001b[0m \u001b[0;34m=\u001b[0m \u001b[0mtrain_function\u001b[0m\u001b[0;34m(\u001b[0m\u001b[0miterator\u001b[0m\u001b[0;34m)\u001b[0m\u001b[0;34m\u001b[0m\u001b[0;34m\u001b[0m\u001b[0m\n\u001b[0m\u001b[1;32m   1099\u001b[0m               \u001b[0;32mif\u001b[0m \u001b[0mdata_handler\u001b[0m\u001b[0;34m.\u001b[0m\u001b[0mshould_sync\u001b[0m\u001b[0;34m:\u001b[0m\u001b[0;34m\u001b[0m\u001b[0;34m\u001b[0m\u001b[0m\n\u001b[1;32m   1100\u001b[0m                 \u001b[0mcontext\u001b[0m\u001b[0;34m.\u001b[0m\u001b[0masync_wait\u001b[0m\u001b[0;34m(\u001b[0m\u001b[0;34m)\u001b[0m\u001b[0;34m\u001b[0m\u001b[0;34m\u001b[0m\u001b[0m\n",
      "\u001b[0;32m~/ml/lib/python3.6/site-packages/tensorflow/python/eager/def_function.py\u001b[0m in \u001b[0;36m__call__\u001b[0;34m(self, *args, **kwds)\u001b[0m\n\u001b[1;32m    778\u001b[0m       \u001b[0;32melse\u001b[0m\u001b[0;34m:\u001b[0m\u001b[0;34m\u001b[0m\u001b[0;34m\u001b[0m\u001b[0m\n\u001b[1;32m    779\u001b[0m         \u001b[0mcompiler\u001b[0m \u001b[0;34m=\u001b[0m \u001b[0;34m\"nonXla\"\u001b[0m\u001b[0;34m\u001b[0m\u001b[0;34m\u001b[0m\u001b[0m\n\u001b[0;32m--> 780\u001b[0;31m         \u001b[0mresult\u001b[0m \u001b[0;34m=\u001b[0m \u001b[0mself\u001b[0m\u001b[0;34m.\u001b[0m\u001b[0m_call\u001b[0m\u001b[0;34m(\u001b[0m\u001b[0;34m*\u001b[0m\u001b[0margs\u001b[0m\u001b[0;34m,\u001b[0m \u001b[0;34m**\u001b[0m\u001b[0mkwds\u001b[0m\u001b[0;34m)\u001b[0m\u001b[0;34m\u001b[0m\u001b[0;34m\u001b[0m\u001b[0m\n\u001b[0m\u001b[1;32m    781\u001b[0m \u001b[0;34m\u001b[0m\u001b[0m\n\u001b[1;32m    782\u001b[0m       \u001b[0mnew_tracing_count\u001b[0m \u001b[0;34m=\u001b[0m \u001b[0mself\u001b[0m\u001b[0;34m.\u001b[0m\u001b[0m_get_tracing_count\u001b[0m\u001b[0;34m(\u001b[0m\u001b[0;34m)\u001b[0m\u001b[0;34m\u001b[0m\u001b[0;34m\u001b[0m\u001b[0m\n",
      "\u001b[0;32m~/ml/lib/python3.6/site-packages/tensorflow/python/eager/def_function.py\u001b[0m in \u001b[0;36m_call\u001b[0;34m(self, *args, **kwds)\u001b[0m\n\u001b[1;32m    805\u001b[0m       \u001b[0;31m# In this case we have created variables on the first call, so we run the\u001b[0m\u001b[0;34m\u001b[0m\u001b[0;34m\u001b[0m\u001b[0;34m\u001b[0m\u001b[0m\n\u001b[1;32m    806\u001b[0m       \u001b[0;31m# defunned version which is guaranteed to never create variables.\u001b[0m\u001b[0;34m\u001b[0m\u001b[0;34m\u001b[0m\u001b[0;34m\u001b[0m\u001b[0m\n\u001b[0;32m--> 807\u001b[0;31m       \u001b[0;32mreturn\u001b[0m \u001b[0mself\u001b[0m\u001b[0;34m.\u001b[0m\u001b[0m_stateless_fn\u001b[0m\u001b[0;34m(\u001b[0m\u001b[0;34m*\u001b[0m\u001b[0margs\u001b[0m\u001b[0;34m,\u001b[0m \u001b[0;34m**\u001b[0m\u001b[0mkwds\u001b[0m\u001b[0;34m)\u001b[0m  \u001b[0;31m# pylint: disable=not-callable\u001b[0m\u001b[0;34m\u001b[0m\u001b[0;34m\u001b[0m\u001b[0m\n\u001b[0m\u001b[1;32m    808\u001b[0m     \u001b[0;32melif\u001b[0m \u001b[0mself\u001b[0m\u001b[0;34m.\u001b[0m\u001b[0m_stateful_fn\u001b[0m \u001b[0;32mis\u001b[0m \u001b[0;32mnot\u001b[0m \u001b[0;32mNone\u001b[0m\u001b[0;34m:\u001b[0m\u001b[0;34m\u001b[0m\u001b[0;34m\u001b[0m\u001b[0m\n\u001b[1;32m    809\u001b[0m       \u001b[0;31m# Release the lock early so that multiple threads can perform the call\u001b[0m\u001b[0;34m\u001b[0m\u001b[0;34m\u001b[0m\u001b[0;34m\u001b[0m\u001b[0m\n",
      "\u001b[0;32m~/ml/lib/python3.6/site-packages/tensorflow/python/eager/function.py\u001b[0m in \u001b[0;36m__call__\u001b[0;34m(self, *args, **kwargs)\u001b[0m\n\u001b[1;32m   2827\u001b[0m     \u001b[0;32mwith\u001b[0m \u001b[0mself\u001b[0m\u001b[0;34m.\u001b[0m\u001b[0m_lock\u001b[0m\u001b[0;34m:\u001b[0m\u001b[0;34m\u001b[0m\u001b[0;34m\u001b[0m\u001b[0m\n\u001b[1;32m   2828\u001b[0m       \u001b[0mgraph_function\u001b[0m\u001b[0;34m,\u001b[0m \u001b[0margs\u001b[0m\u001b[0;34m,\u001b[0m \u001b[0mkwargs\u001b[0m \u001b[0;34m=\u001b[0m \u001b[0mself\u001b[0m\u001b[0;34m.\u001b[0m\u001b[0m_maybe_define_function\u001b[0m\u001b[0;34m(\u001b[0m\u001b[0margs\u001b[0m\u001b[0;34m,\u001b[0m \u001b[0mkwargs\u001b[0m\u001b[0;34m)\u001b[0m\u001b[0;34m\u001b[0m\u001b[0;34m\u001b[0m\u001b[0m\n\u001b[0;32m-> 2829\u001b[0;31m     \u001b[0;32mreturn\u001b[0m \u001b[0mgraph_function\u001b[0m\u001b[0;34m.\u001b[0m\u001b[0m_filtered_call\u001b[0m\u001b[0;34m(\u001b[0m\u001b[0margs\u001b[0m\u001b[0;34m,\u001b[0m \u001b[0mkwargs\u001b[0m\u001b[0;34m)\u001b[0m  \u001b[0;31m# pylint: disable=protected-access\u001b[0m\u001b[0;34m\u001b[0m\u001b[0;34m\u001b[0m\u001b[0m\n\u001b[0m\u001b[1;32m   2830\u001b[0m \u001b[0;34m\u001b[0m\u001b[0m\n\u001b[1;32m   2831\u001b[0m   \u001b[0;34m@\u001b[0m\u001b[0mproperty\u001b[0m\u001b[0;34m\u001b[0m\u001b[0;34m\u001b[0m\u001b[0m\n",
      "\u001b[0;32m~/ml/lib/python3.6/site-packages/tensorflow/python/eager/function.py\u001b[0m in \u001b[0;36m_filtered_call\u001b[0;34m(self, args, kwargs, cancellation_manager)\u001b[0m\n\u001b[1;32m   1846\u001b[0m                            resource_variable_ops.BaseResourceVariable))],\n\u001b[1;32m   1847\u001b[0m         \u001b[0mcaptured_inputs\u001b[0m\u001b[0;34m=\u001b[0m\u001b[0mself\u001b[0m\u001b[0;34m.\u001b[0m\u001b[0mcaptured_inputs\u001b[0m\u001b[0;34m,\u001b[0m\u001b[0;34m\u001b[0m\u001b[0;34m\u001b[0m\u001b[0m\n\u001b[0;32m-> 1848\u001b[0;31m         cancellation_manager=cancellation_manager)\n\u001b[0m\u001b[1;32m   1849\u001b[0m \u001b[0;34m\u001b[0m\u001b[0m\n\u001b[1;32m   1850\u001b[0m   \u001b[0;32mdef\u001b[0m \u001b[0m_call_flat\u001b[0m\u001b[0;34m(\u001b[0m\u001b[0mself\u001b[0m\u001b[0;34m,\u001b[0m \u001b[0margs\u001b[0m\u001b[0;34m,\u001b[0m \u001b[0mcaptured_inputs\u001b[0m\u001b[0;34m,\u001b[0m \u001b[0mcancellation_manager\u001b[0m\u001b[0;34m=\u001b[0m\u001b[0;32mNone\u001b[0m\u001b[0;34m)\u001b[0m\u001b[0;34m:\u001b[0m\u001b[0;34m\u001b[0m\u001b[0;34m\u001b[0m\u001b[0m\n",
      "\u001b[0;32m~/ml/lib/python3.6/site-packages/tensorflow/python/eager/function.py\u001b[0m in \u001b[0;36m_call_flat\u001b[0;34m(self, args, captured_inputs, cancellation_manager)\u001b[0m\n\u001b[1;32m   1922\u001b[0m       \u001b[0;31m# No tape is watching; skip to running the function.\u001b[0m\u001b[0;34m\u001b[0m\u001b[0;34m\u001b[0m\u001b[0;34m\u001b[0m\u001b[0m\n\u001b[1;32m   1923\u001b[0m       return self._build_call_outputs(self._inference_function.call(\n\u001b[0;32m-> 1924\u001b[0;31m           ctx, args, cancellation_manager=cancellation_manager))\n\u001b[0m\u001b[1;32m   1925\u001b[0m     forward_backward = self._select_forward_and_backward_functions(\n\u001b[1;32m   1926\u001b[0m         \u001b[0margs\u001b[0m\u001b[0;34m,\u001b[0m\u001b[0;34m\u001b[0m\u001b[0;34m\u001b[0m\u001b[0m\n",
      "\u001b[0;32m~/ml/lib/python3.6/site-packages/tensorflow/python/eager/function.py\u001b[0m in \u001b[0;36mcall\u001b[0;34m(self, ctx, args, cancellation_manager)\u001b[0m\n\u001b[1;32m    548\u001b[0m               \u001b[0minputs\u001b[0m\u001b[0;34m=\u001b[0m\u001b[0margs\u001b[0m\u001b[0;34m,\u001b[0m\u001b[0;34m\u001b[0m\u001b[0;34m\u001b[0m\u001b[0m\n\u001b[1;32m    549\u001b[0m               \u001b[0mattrs\u001b[0m\u001b[0;34m=\u001b[0m\u001b[0mattrs\u001b[0m\u001b[0;34m,\u001b[0m\u001b[0;34m\u001b[0m\u001b[0;34m\u001b[0m\u001b[0m\n\u001b[0;32m--> 550\u001b[0;31m               ctx=ctx)\n\u001b[0m\u001b[1;32m    551\u001b[0m         \u001b[0;32melse\u001b[0m\u001b[0;34m:\u001b[0m\u001b[0;34m\u001b[0m\u001b[0;34m\u001b[0m\u001b[0m\n\u001b[1;32m    552\u001b[0m           outputs = execute.execute_with_cancellation(\n",
      "\u001b[0;32m~/ml/lib/python3.6/site-packages/tensorflow/python/eager/execute.py\u001b[0m in \u001b[0;36mquick_execute\u001b[0;34m(op_name, num_outputs, inputs, attrs, ctx, name)\u001b[0m\n\u001b[1;32m     58\u001b[0m     \u001b[0mctx\u001b[0m\u001b[0;34m.\u001b[0m\u001b[0mensure_initialized\u001b[0m\u001b[0;34m(\u001b[0m\u001b[0;34m)\u001b[0m\u001b[0;34m\u001b[0m\u001b[0;34m\u001b[0m\u001b[0m\n\u001b[1;32m     59\u001b[0m     tensors = pywrap_tfe.TFE_Py_Execute(ctx._handle, device_name, op_name,\n\u001b[0;32m---> 60\u001b[0;31m                                         inputs, attrs, num_outputs)\n\u001b[0m\u001b[1;32m     61\u001b[0m   \u001b[0;32mexcept\u001b[0m \u001b[0mcore\u001b[0m\u001b[0;34m.\u001b[0m\u001b[0m_NotOkStatusException\u001b[0m \u001b[0;32mas\u001b[0m \u001b[0me\u001b[0m\u001b[0;34m:\u001b[0m\u001b[0;34m\u001b[0m\u001b[0;34m\u001b[0m\u001b[0m\n\u001b[1;32m     62\u001b[0m     \u001b[0;32mif\u001b[0m \u001b[0mname\u001b[0m \u001b[0;32mis\u001b[0m \u001b[0;32mnot\u001b[0m \u001b[0;32mNone\u001b[0m\u001b[0;34m:\u001b[0m\u001b[0;34m\u001b[0m\u001b[0;34m\u001b[0m\u001b[0m\n",
      "\u001b[0;31mKeyboardInterrupt\u001b[0m: "
     ]
    },
    {
     "data": {
      "text/plain": [
       "<Figure size 432x288 with 0 Axes>"
      ]
     },
     "metadata": {},
     "output_type": "display_data"
    }
   ],
   "source": [
    "history = model.fit(lstm_dataset, epochs=50, steps_per_epoch=3000, callbacks=[cp_callback, prc_callback])"
   ]
  },
  {
   "cell_type": "code",
   "execution_count": 28,
   "metadata": {},
   "outputs": [
    {
     "name": "stdout",
     "output_type": "stream",
     "text": [
      "{'H05': 149, 'C23': 110, 'C21': 102, 'G06': 542, 'A41': 100, 'B60': 359, 'Y04': 100, 'D04': 101, 'A45': 102, 'B04': 100, 'E06': 100, 'A63': 108, 'C08': 210, 'B06': 102, 'F25': 100, 'H04': 224, 'B68': 100, 'C01': 136, 'F02': 118, 'A62': 100, 'Y10': 254, 'E01': 100, 'G08': 100, 'G21': 100, 'B67': 101, 'F01': 126, 'B62': 100, 'G01': 549, 'B63': 101, 'B31': 100, 'H02': 272, 'B30': 100, 'D07': 100, 'Y02': 395, 'F05': 105, 'C12': 288, 'C10': 101, 'G07': 102, 'B05': 160, 'B25': 110, 'C14': 100, 'G10': 101, 'F22': 100, 'A24': 100, 'B02': 100, 'G02': 172, 'F42': 100, 'G11': 100, 'E05': 100, 'B24': 100, 'A42': 100, 'C30': 100, 'B28': 100, 'B21': 100, 'B81': 100, 'F24': 101, 'F41': 100, 'D05': 100, 'A01': 168, 'G05': 216, 'B82': 100, 'C07': 187, 'B27': 100, 'F21': 101, 'F28': 100, 'A22': 100, 'G12': 100, 'B44': 100, 'C13': 100, 'B42': 100, 'B41': 101, 'A23': 109, 'B22': 100, 'B08': 102, 'B29': 280, 'F23': 100, 'D10': 115, 'E02': 102, 'C11': 100, 'A43': 100, 'H03': 101, 'D01': 104, 'A61': 552, 'F15': 101, 'A47': 229, 'G03': 101, 'B66': 100, 'A21': 100, 'B07': 100, 'D03': 101, 'E04': 106, 'H01': 493, 'C09': 165, 'C05': 100, 'C40': 100, 'F03': 100, 'B03': 101, 'F27': 102, 'G04': 100, 'B01': 455, 'C22': 102, 'B61': 100, 'B43': 100, 'B26': 100, 'E21': 110, 'C02': 100, 'B23': 197, 'B64': 107, 'B33': 101, 'D21': 100, 'G16': 100, 'F17': 100, 'C03': 100, 'A46': 100, 'F26': 100, 'B32': 220, 'A44': 100, 'D06': 106, 'C06': 100, 'C04': 100, 'D02': 101, 'E03': 101, 'B09': 100, 'F16': 369, 'C25': 100, 'F04': 100, 'B65': 319, 'G09': 100}\n"
     ]
    }
   ],
   "source": [
    "print(occurences)"
   ]
  },
  {
   "cell_type": "code",
   "execution_count": null,
   "metadata": {
    "colab": {},
    "colab_type": "code",
    "id": "a844kTf5fO0s"
   },
   "outputs": [],
   "source": []
  },
  {
   "cell_type": "code",
   "execution_count": null,
   "metadata": {
    "colab": {
     "base_uri": "https://localhost:8080/",
     "height": 373
    },
    "colab_type": "code",
    "id": "JB35kwKqrSi8",
    "outputId": "aabdf11b-b546-44ee-f345-a6ed56cafc5d"
   },
   "outputs": [],
   "source": [
    "\n",
    "generate_prc(100)"
   ]
  },
  {
   "cell_type": "code",
   "execution_count": null,
   "metadata": {
    "colab": {},
    "colab_type": "code",
    "id": "OojymS4afPdy"
   },
   "outputs": [],
   "source": []
  }
 ],
 "metadata": {
  "accelerator": "GPU",
  "colab": {
   "collapsed_sections": [],
   "name": "PatentStuffNotebook.ipynb",
   "provenance": []
  },
  "kernelspec": {
   "display_name": "Python 3",
   "language": "python",
   "name": "python3"
  },
  "language_info": {
   "codemirror_mode": {
    "name": "ipython",
    "version": 3
   },
   "file_extension": ".py",
   "mimetype": "text/x-python",
   "name": "python",
   "nbconvert_exporter": "python",
   "pygments_lexer": "ipython3",
   "version": "3.6.9"
  }
 },
 "nbformat": 4,
 "nbformat_minor": 1
}
