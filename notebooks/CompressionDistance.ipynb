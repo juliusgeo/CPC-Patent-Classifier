{
 "cells": [
  {
   "cell_type": "code",
   "execution_count": null,
   "metadata": {
    "scrolled": true
   },
   "outputs": [],
   "source": [
    "import numpy as np\n",
    "import gensim, logging\n",
    "import csv, string\n",
    "import pandas as pd"
   ]
  },
  {
   "cell_type": "code",
   "execution_count": null,
   "metadata": {},
   "outputs": [],
   "source": [
    "test_text = []\n",
    "test_labels = []\n",
    "with open('../test_dataset.csv') as csvfile:\n",
    "    porter = PorterStemmer()\n",
    "    for row in csv.reader(csvfile):\n",
    "        test_text.append(row[1])\n",
    "        test_labels.append(row[0])"
   ]
  },
  {
   "cell_type": "code",
   "execution_count": null,
   "metadata": {},
   "outputs": [],
   "source": [
    "all_labels = {\"A01B\",\"A01C\",\"A01D\",\"A01F\",\"A01G\",\"A01H\",\"A01J\",\"A01K\",\"A01L\",\"A01M\",\"A01N\",\"A21B\",\"A21C\",\"A21D\",\"A22B\",\"A22C\",\"A23B\",\"A23C\",\"A23D\",\"A23F\",\"A23G\",\"A23J\",\"A23K\",\"A23L\",\"A23N\",\"A23P\",\"A23V\",\"A23Y\",\"A24B\",\"A24C\",\"A24D\",\"A24F\",\"A41B\",\"A41C\",\"A41D\",\"A41F\",\"A41G\",\"A41H\",\"A42B\",\"A42C\",\"A43B\",\"A43C\",\"A43D\",\"A44B\",\"A44C\",\"A44D\",\"A45B\",\"A45C\",\"A45D\",\"A45F\",\"A46B\",\"A46D\",\"A47B\",\"A47C\",\"A47D\",\"A47F\",\"A47G\",\"A47H\",\"A47J\",\"A47K\",\"A47L\",\"A61B\",\"A61C\",\"A61D\",\"A61F\",\"A61G\",\"A61H\",\"A61J\",\"A61K\",\"A61L\",\"A61M\",\"A61N\",\"A61P\",\"A61Q\",\"A62B\",\"A62C\",\"A62D\",\"A63B\",\"A63C\",\"A63D\",\"A63F\",\"A63G\",\"A63H\",\"A63J\",\"A63K\",\"A99Z\",\"B01B\",\"B01D\",\"B01F\",\"B01J\",\"B01L\",\"B02B\",\"B02C\",\"B03B\",\"B03C\",\"B03D\",\"B04B\",\"B04C\",\"B05B\",\"B05C\",\"B05D\",\"B06B\",\"B07B\",\"B07C\",\"B08B\",\"B09B\",\"B09C\",\"B21B\",\"B21C\",\"B21D\",\"B21F\",\"B21G\",\"B21H\",\"B21J\",\"B21K\",\"B21L\",\"B22C\",\"B22D\",\"B22F\",\"B23B\",\"B23C\",\"B23D\",\"B23F\",\"B23G\",\"B23H\",\"B23K\",\"B23P\",\"B23Q\",\"B24B\",\"B24C\",\"B24D\",\"B25B\",\"B25C\",\"B25D\",\"B25F\",\"B25G\",\"B25H\",\"B25J\",\"B26B\",\"B26D\",\"B26F\",\"B27B\",\"B27C\",\"B27D\",\"B27F\",\"B27G\",\"B27H\",\"B27J\",\"B27K\",\"B27L\",\"B27M\",\"B27N\",\"B28B\",\"B28C\",\"B28D\",\"B29B\",\"B29C\",\"B29D\",\"B29K\",\"B29L\",\"B30B\",\"B31B\",\"B31C\",\"B31D\",\"B31F\",\"B32B\",\"B33Y\",\"B41B\",\"B41C\",\"B41D\",\"B41F\",\"B41G\",\"B41J\",\"B41K\",\"B41L\",\"B41M\",\"B41N\",\"B41P\",\"B42B\",\"B42C\",\"B42D\",\"B42F\",\"B42P\",\"B43K\",\"B43L\",\"B43M\",\"B44B\",\"B44C\",\"B44D\",\"B44F\",\"B60B\",\"B60C\",\"B60D\",\"B60F\",\"B60G\",\"B60H\",\"B60J\",\"B60K\",\"B60L\",\"B60M\",\"B60N\",\"B60P\",\"B60Q\",\"B60R\",\"B60S\",\"B60T\",\"B60V\",\"B60W\",\"B60Y\",\"B61B\",\"B61C\",\"B61D\",\"B61F\",\"B61G\",\"B61H\",\"B61J\",\"B61K\",\"B61L\",\"B62B\",\"B62C\",\"B62D\",\"B62H\",\"B62J\",\"B62K\",\"B62L\",\"B62M\",\"B63B\",\"B63C\",\"B63G\",\"B63H\",\"B63J\",\"B64B\",\"B64C\",\"B64D\",\"B64F\",\"B64G\",\"B65B\",\"B65C\",\"B65D\",\"B65F\",\"B65G\",\"B65H\",\"B66B\",\"B66C\",\"B66D\",\"B66F\",\"B67B\",\"B67C\",\"B67D\",\"B68B\",\"B68C\",\"B68F\",\"B68G\",\"B81B\",\"B81C\",\"B82B\",\"B82Y\",\"B99Z\",\"C01B\",\"C01C\",\"C01D\",\"C01F\",\"C01G\",\"C01P\",\"C02F\",\"C03B\",\"C03C\",\"C04B\",\"C05B\",\"C05C\",\"C05D\",\"C05F\",\"C05G\",\"C06B\",\"C06C\",\"C06D\",\"C06F\",\"C07B\",\"C07C\",\"C07D\",\"C07F\",\"C07G\",\"C07H\",\"C07J\",\"C07K\",\"C08B\",\"C08C\",\"C08F\",\"C08G\",\"C08H\",\"C08J\",\"C08K\",\"C08L\",\"C09B\",\"C09C\",\"C09D\",\"C09F\",\"C09G\",\"C09H\",\"C09J\",\"C09K\",\"C10B\",\"C10C\",\"C10F\",\"C10G\",\"C10H\",\"C10J\",\"C10K\",\"C10L\",\"C10M\",\"C10N\",\"C11B\",\"C11C\",\"C11D\",\"C12C\",\"C12F\",\"C12G\",\"C12H\",\"C12J\",\"C12L\",\"C12M\",\"C12N\",\"C12P\",\"C12Q\",\"C12R\",\"C12Y\",\"C13B\",\"C13K\",\"C14B\",\"C14C\",\"C21B\",\"C21C\",\"C21D\",\"C22B\",\"C22C\",\"C22F\",\"C23C\",\"C23D\",\"C23F\",\"C23G\",\"C25B\",\"C25C\",\"C25D\",\"C25F\",\"C30B\",\"C40B\",\"C99Z\",\"D01B\",\"D01C\",\"D01D\",\"D01F\",\"D01G\",\"D01H\",\"D02G\",\"D02H\",\"D02J\",\"D03C\",\"D03D\",\"D03J\",\"D04B\",\"D04C\",\"D04D\",\"D04G\",\"D04H\",\"D05B\",\"D05C\",\"D05D\",\"D06B\",\"D06C\",\"D06F\",\"D06G\",\"D06H\",\"D06J\",\"D06L\",\"D06M\",\"D06N\",\"D06P\",\"D06Q\",\"D07B\",\"D10B\",\"D21B\",\"D21C\",\"D21D\",\"D21F\",\"D21G\",\"D21H\",\"D21J\",\"D99Z\",\"E01B\",\"E01C\",\"E01D\",\"E01F\",\"E01H\",\"E02B\",\"E02C\",\"E02D\",\"E02F\",\"E03B\",\"E03C\",\"E03D\",\"E03F\",\"E04B\",\"E04C\",\"E04D\",\"E04F\",\"E04G\",\"E04H\",\"E05B\",\"E05C\",\"E05D\",\"E05F\",\"E05G\",\"E05Y\",\"E06B\",\"E06C\",\"E21B\",\"E21C\",\"E21D\",\"E21F\",\"E99Z\",\"F01B\",\"F01C\",\"F01D\",\"F01K\",\"F01L\",\"F01M\",\"F01N\",\"F01P\",\"F02B\",\"F02C\",\"F02D\",\"F02F\",\"F02G\",\"F02K\",\"F02M\",\"F02N\",\"F02P\",\"F03B\",\"F03C\",\"F03D\",\"F03G\",\"F03H\",\"F04B\",\"F04C\",\"F04D\",\"F04F\",\"F05B\",\"F05C\",\"F05D\",\"F15B\",\"F15C\",\"F15D\",\"F16B\",\"F16C\",\"F16D\",\"F16F\",\"F16G\",\"F16H\",\"F16J\",\"F16K\",\"F16L\",\"F16M\",\"F16N\",\"F16P\",\"F16S\",\"F16T\",\"F17B\",\"F17C\",\"F17D\",\"F21H\",\"F21K\",\"F21L\",\"F21S\",\"F21V\",\"F21W\",\"F21Y\",\"F22B\",\"F22D\",\"F22G\",\"F23B\",\"F23C\",\"F23D\",\"F23G\",\"F23H\",\"F23J\",\"F23K\",\"F23L\",\"F23M\",\"F23N\",\"F23Q\",\"F23R\",\"F24B\",\"F24C\",\"F24D\",\"F24F\",\"F24H\",\"F24S\",\"F24T\",\"F24V\",\"F25B\",\"F25C\",\"F25D\",\"F25J\",\"F26B\",\"F27B\",\"F27D\",\"F27M\",\"F28B\",\"F28C\",\"F28D\",\"F28F\",\"F28G\",\"F41A\",\"F41B\",\"F41C\",\"F41F\",\"F41G\",\"F41H\",\"F41J\",\"F42B\",\"F42C\",\"F42D\",\"F99Z\",\"G01B\",\"G01C\",\"G01D\",\"G01F\",\"G01G\",\"G01H\",\"G01J\",\"G01K\",\"G01L\",\"G01M\",\"G01N\",\"G01P\",\"G01Q\",\"G01R\",\"G01S\",\"G01T\",\"G01V\",\"G01W\",\"G02B\",\"G02C\",\"G02F\",\"G03B\",\"G03C\",\"G03D\",\"G03F\",\"G03G\",\"G03H\",\"G04B\",\"G04C\",\"G04D\",\"G04F\",\"G04G\",\"G04R\",\"G05B\",\"G05D\",\"G05F\",\"G05G\",\"G06C\",\"G06D\",\"G06E\",\"G06F\",\"G06G\",\"G06J\",\"G06K\",\"G06M\",\"G06N\",\"G06Q\",\"G06T\",\"G07B\",\"G07C\",\"G07D\",\"G07F\",\"G07G\",\"G08B\",\"G08C\",\"G08G\",\"G09B\",\"G09C\",\"G09D\",\"G09F\",\"G09G\",\"G10B\",\"G10C\",\"G10D\",\"G10F\",\"G10G\",\"G10H\",\"G10K\",\"G10L\",\"G11B\",\"G11C\",\"G12B\",\"G16B\",\"G16C\",\"G16H\",\"G16Z\",\"G21B\",\"G21C\",\"G21D\",\"G21F\",\"G21G\",\"G21H\",\"G21J\",\"G21K\",\"G99Z\",\"H01B\",\"H01C\",\"H01F\",\"H01G\",\"H01H\",\"H01J\",\"H01K\",\"H01L\",\"H01M\",\"H01P\",\"H01Q\",\"H01R\",\"H01S\",\"H01T\",\"H02B\",\"H02G\",\"H02H\",\"H02J\",\"H02K\",\"H02M\",\"H02N\",\"H02P\",\"H02S\",\"H03B\",\"H03C\",\"H03D\",\"H03F\",\"H03G\",\"H03H\",\"H03J\",\"H03K\",\"H03L\",\"H03M\",\"H04B\",\"H04H\",\"H04J\",\"H04K\",\"H04L\",\"H04M\",\"H04N\",\"H04Q\",\"H04R\",\"H04S\",\"H04T\",\"H04W\",\"H05B\",\"H05C\",\"H05F\",\"H05G\",\"H05H\",\"H05K\",\"H99Z\",\"Y02A\",\"Y02B\",\"Y02C\",\"Y02D\",\"Y02E\",\"Y02P\",\"Y02T\",\"Y02W\",\"Y04S\",\"Y10S\",\"Y10T\"}"
   ]
  },
  {
   "cell_type": "code",
   "execution_count": null,
   "metadata": {},
   "outputs": [],
   "source": [
    "directory_prefix = \"../\"\n",
    "tag_dict = {}\n",
    "with open(directory_prefix+'/datasets/dataset2002-2020.csv', errors='replace') as file:\n",
    "        current_dataframe = pd.read_csv(file, chunksize=1000, sep=',', header = None, error_bad_lines=False)\n",
    "        #indices = np.random.choice(len(current_dataframe), len(current_dataframe)//2)\n",
    "        for chunk in current_dataframe:\n",
    "            #print(chunk[0])\n",
    "            for row in zip(chunk[0], chunk[2]):\n",
    "                label, description=row[0], row[1]\n",
    "                label_vectors = [z.strip().strip('\\'\\\"')[:4] for z in label.split(',')]\n",
    "                label_vectors = set([i for i in label_vectors if i in all_labels])\n",
    "                #print(label_vectors)\n",
    "                #print(description)\n",
    "                for label in label_vectors:\n",
    "                    if label in tag_dict.keys():\n",
    "                        continue\n",
    "                    else:\n",
    "                        tag_dict[label] = description\n",
    "                        break\n",
    "                print(len(tag_dict))"
   ]
  },
  {
   "cell_type": "code",
   "execution_count": null,
   "metadata": {},
   "outputs": [],
   "source": [
    "print(len({k[:3] for k in all_labels}))"
   ]
  },
  {
   "cell_type": "code",
   "execution_count": null,
   "metadata": {},
   "outputs": [],
   "source": [
    "import pandas as pd\n",
    "current_dataframe = pd.read_csv('items1.csv',sep=',', header = None).to_numpy()#, chunksize=100000)\n",
    "tag_dict = {}\n",
    "\n",
    "for row in current_dataframe:\n",
    "    label, description=row[0], row[1]\n",
    "    label_vectors = [z.strip().strip('\\'\\\"')[:4] for z in label.split(',')]\n",
    "    label_vectors = set([i for i in label_vectors if i in all_labels])\n",
    "    #print(label_vectors)\n",
    "    #print(description)\n",
    "    for label in label_vectors:\n",
    "        if label in tag_dict.keys():\n",
    "            continue\n",
    "        else:\n",
    "            tag_dict[label] = description\n",
    "            break\n",
    "    print(len(tag_dict))"
   ]
  },
  {
   "cell_type": "code",
   "execution_count": null,
   "metadata": {},
   "outputs": [],
   "source": [
    "import pandas as pd\n",
    "current_dataframe = pd.read_csv('../datitems1.csv',sep=',', header = None).to_numpy()#, chunksize=100000)\n",
    "tag_dict = {k: [] for k in all_labels}\n",
    "for row in current_dataframe:\n",
    "    label, description=row[0], row[1]\n",
    "    label_vectors = [z.strip().strip('\\'\\\"')[:4] for z in label.split(',')]\n",
    "    label_vectors = set([i for i in label_vectors if i in all_labels])\n",
    "    #print(label_vectors)\n",
    "    #print(description)\n",
    "    for label in label_vectors:\n",
    "        tag_dict[label].append(description)\n",
    "        break\n",
    "    print(len(tag_dict))"
   ]
  },
  {
   "cell_type": "code",
   "execution_count": null,
   "metadata": {},
   "outputs": [],
   "source": [
    "import pickle\n",
    "with open(\"class_descriptions_from_patents.pickle\", 'rb') as f:\n",
    "    old_labels = pickle.load(f)\n",
    "\n",
    "tag_dict = {k: v for k, v in tag_dict.items() if k in old_labels.keys()}"
   ]
  },
  {
   "cell_type": "code",
   "execution_count": null,
   "metadata": {},
   "outputs": [],
   "source": [
    "print(tag_dict.keys())"
   ]
  },
  {
   "cell_type": "code",
   "execution_count": null,
   "metadata": {},
   "outputs": [],
   "source": [
    "import re\n",
    "\n",
    "from lxml import etree\n",
    "import os\n",
    "from os import listdir\n",
    "import string\n",
    "from gensim.parsing.preprocessing import remove_stopwords\n",
    "printable = set(string.printable)\n",
    "from os.path import isfile, join\n",
    "onlyfiles = [f for f in listdir('CPCSchemeXML201908') if isfile(join('./CPCSchemeXML201908', f))]\n",
    "tag_dict = {}\n",
    "lengths = []\n",
    "for file in onlyfiles:\n",
    "    if file==\".DS_Store\":\n",
    "        continue\n",
    "    if len(file.split('-')) < 3:\n",
    "        continue\n",
    "    tree = etree.parse(os.path.join('CPCSchemeXML201908', file))\n",
    "    notags = etree.tostring(tree, encoding='utf8', method='text')\n",
    "    cur_val = notags.decode('ascii', \"ignore\")\n",
    "    cur_val = re.sub('[A-Z].+/[0-9]{1,4}', '', cur_val)\n",
    "    cur_val = re.sub(\"[^a-zA-Z\\s]+\", \"\", cur_val)\n",
    "    cur_val = remove_stopwords(cur_val).lower()\n",
    "    if(len(file.split('-')[2].split(\".\")[0]) < 4):\n",
    "        continue\n",
    "    cur_val = set(cur_val.split())\n",
    "    for i in cur_val:\n",
    "        if len(i) <= 2:\n",
    "                 del i\n",
    "    lengths.append(len(cur_val))\n",
    "    tag_dict[file.split('-')[2].split(\".\")[0]] = ' '.join(cur_val)\n",
    "print(len(tag_dict.keys()))\n",
    "print(max(lengths))"
   ]
  },
  {
   "cell_type": "code",
   "execution_count": null,
   "metadata": {},
   "outputs": [],
   "source": [
    "print(len({k[:3]: v for k, v in tag_dict.items()}))"
   ]
  },
  {
   "cell_type": "code",
   "execution_count": null,
   "metadata": {},
   "outputs": [],
   "source": [
    "for i in tag_dict:\n",
    "    for k in tag_dict:\n",
    "        if tag_dict[i] == tag_dict[k] and i != k:\n",
    "            print(\"same\")\n"
   ]
  },
  {
   "cell_type": "markdown",
   "metadata": {},
   "source": [
    "Section A\n",
    "    Class 01\n",
    "        Subclass B\n",
    "            Group 33\n",
    "                Main group 00"
   ]
  },
  {
   "cell_type": "code",
   "execution_count": null,
   "metadata": {},
   "outputs": [],
   "source": [
    "import pickle\n",
    "with open(directory_prefix+\"/class_descriptions/class_descriptions_from_patents_claims.pickle\", 'wb') as f:\n",
    "   pickle.dump(tag_dict, f)"
   ]
  },
  {
   "cell_type": "code",
   "execution_count": null,
   "metadata": {},
   "outputs": [],
   "source": [
    "import re\n",
    "\n",
    "for i in list(tag_dict.keys()):\n",
    "    cur_val = tag_dict[i]\n",
    "    stripped_val = \n",
    "    tag_dict[i] = stripped_val\n"
   ]
  },
  {
   "cell_type": "code",
   "execution_count": null,
   "metadata": {},
   "outputs": [],
   "source": [
    "print(tag_dict[\"C03C\"])"
   ]
  },
  {
   "cell_type": "code",
   "execution_count": null,
   "metadata": {},
   "outputs": [],
   "source": [
    "compare = textdistance.Tanimoto()"
   ]
  },
  {
   "cell_type": "code",
   "execution_count": null,
   "metadata": {},
   "outputs": [],
   "source": [
    "tags = list(map(lambda x: x[:4], tag_dict.keys()))\n",
    "ns = []\n",
    "recalls = np.arange(0, 1.001, .01)\n",
    "for label, patent in zipped:\n",
    "    labels = set([i.split()[0].strip(\"\\\"\") for i in label.split(',')])\n",
    "    cur = np.vstack([compare.similarity(patent, label) for label in tags])\n",
    "    idxes = np.flip(np.argsort(cur[:, 0]))\n",
    "    e = [1 if tags[i] in labels else 0 for i in idxes]\n",
    "    cur = []\n",
    "    total_ones = e.count(1)\n",
    "    n = 0\n",
    "    ones_seen = 0\n",
    "    while ones_seen < total_ones:\n",
    "        if e[n] == 1:\n",
    "            ones_seen = ones_seen+1\n",
    "        n = n+1\n",
    "        cur.append((ones_seen/float(n), ones_seen/floaxt(total_ones)))\n",
    "    new_cur = []\n",
    "    for r in recalls:\n",
    "        max_of_larger = max([i[0] for i in cur if i[1] >= r])\n",
    "        new_cur.append(max_of_larger)\n",
    "    print(max(new_cur))\n",
    "    ns.append(new_cur)\n",
    "        "
   ]
  },
  {
   "cell_type": "code",
   "execution_count": null,
   "metadata": {},
   "outputs": [],
   "source": [
    "ns"
   ]
  },
  {
   "cell_type": "code",
   "execution_count": null,
   "metadata": {},
   "outputs": [],
   "source": [
    "ns = np.vstack(ns)\n",
    "p = np.mean(ns, axis=0)\n",
    "\n",
    "print(np.std(ns, axis=0) )"
   ]
  },
  {
   "cell_type": "code",
   "execution_count": null,
   "metadata": {},
   "outputs": [],
   "source": [
    "%matplotlib nbagg\n",
    "#np.save('prc_weds.npy', np.hstack((recalls, p)))\n",
    "import matplotlib.pyplot as plt\n",
    "plt.plot(recalls, p)\n",
    "plt.ylim(0, 1)\n",
    "plt.xlim(0, 1)\n",
    "plt.show()"
   ]
  },
  {
   "cell_type": "code",
   "execution_count": null,
   "metadata": {},
   "outputs": [],
   "source": []
  },
  {
   "cell_type": "code",
   "execution_count": null,
   "metadata": {},
   "outputs": [],
   "source": []
  },
  {
   "cell_type": "code",
   "execution_count": null,
   "metadata": {},
   "outputs": [],
   "source": []
  },
  {
   "cell_type": "code",
   "execution_count": null,
   "metadata": {},
   "outputs": [],
   "source": []
  },
  {
   "cell_type": "code",
   "execution_count": null,
   "metadata": {},
   "outputs": [],
   "source": []
  },
  {
   "cell_type": "code",
   "execution_count": null,
   "metadata": {},
   "outputs": [],
   "source": []
  },
  {
   "cell_type": "code",
   "execution_count": null,
   "metadata": {},
   "outputs": [],
   "source": []
  },
  {
   "cell_type": "code",
   "execution_count": null,
   "metadata": {},
   "outputs": [],
   "source": []
  },
  {
   "cell_type": "code",
   "execution_count": null,
   "metadata": {
    "scrolled": true
   },
   "outputs": [],
   "source": []
  },
  {
   "cell_type": "code",
   "execution_count": null,
   "metadata": {},
   "outputs": [],
   "source": []
  },
  {
   "cell_type": "code",
   "execution_count": null,
   "metadata": {},
   "outputs": [],
   "source": []
  },
  {
   "cell_type": "code",
   "execution_count": null,
   "metadata": {},
   "outputs": [],
   "source": []
  },
  {
   "cell_type": "code",
   "execution_count": null,
   "metadata": {},
   "outputs": [],
   "source": []
  },
  {
   "cell_type": "code",
   "execution_count": null,
   "metadata": {},
   "outputs": [],
   "source": []
  },
  {
   "cell_type": "code",
   "execution_count": null,
   "metadata": {},
   "outputs": [],
   "source": []
  },
  {
   "cell_type": "code",
   "execution_count": null,
   "metadata": {},
   "outputs": [],
   "source": []
  },
  {
   "cell_type": "code",
   "execution_count": null,
   "metadata": {},
   "outputs": [],
   "source": []
  },
  {
   "cell_type": "code",
   "execution_count": null,
   "metadata": {},
   "outputs": [],
   "source": []
  },
  {
   "cell_type": "code",
   "execution_count": null,
   "metadata": {},
   "outputs": [],
   "source": []
  },
  {
   "cell_type": "code",
   "execution_count": null,
   "metadata": {},
   "outputs": [],
   "source": []
  },
  {
   "cell_type": "code",
   "execution_count": null,
   "metadata": {},
   "outputs": [],
   "source": []
  },
  {
   "cell_type": "code",
   "execution_count": null,
   "metadata": {},
   "outputs": [],
   "source": []
  },
  {
   "cell_type": "code",
   "execution_count": null,
   "metadata": {},
   "outputs": [],
   "source": []
  },
  {
   "cell_type": "code",
   "execution_count": null,
   "metadata": {},
   "outputs": [],
   "source": []
  },
  {
   "cell_type": "code",
   "execution_count": null,
   "metadata": {},
   "outputs": [],
   "source": []
  },
  {
   "cell_type": "code",
   "execution_count": null,
   "metadata": {},
   "outputs": [],
   "source": []
  },
  {
   "cell_type": "code",
   "execution_count": null,
   "metadata": {},
   "outputs": [],
   "source": []
  },
  {
   "cell_type": "code",
   "execution_count": null,
   "metadata": {},
   "outputs": [],
   "source": []
  },
  {
   "cell_type": "code",
   "execution_count": null,
   "metadata": {},
   "outputs": [],
   "source": []
  }
 ],
 "metadata": {
  "kernelspec": {
   "display_name": "Python 3",
   "language": "python",
   "name": "python3"
  },
  "language_info": {
   "codemirror_mode": {
    "name": "ipython",
    "version": 3
   },
   "file_extension": ".py",
   "mimetype": "text/x-python",
   "name": "python",
   "nbconvert_exporter": "python",
   "pygments_lexer": "ipython3",
   "version": "3.6.9"
  }
 },
 "nbformat": 4,
 "nbformat_minor": 2
}
